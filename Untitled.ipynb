{
 "cells": [
  {
   "cell_type": "code",
   "execution_count": 1,
   "id": "cooked-chaos",
   "metadata": {},
   "outputs": [],
   "source": [
    "data_path = r'C:\\Users\\IsmailKaraman\\workspace\\data\\trendyol\\\\'"
   ]
  },
  {
   "cell_type": "code",
   "execution_count": 2,
   "id": "opened-conjunction",
   "metadata": {},
   "outputs": [],
   "source": [
    "import pandas as pd\n",
    "import numpy as np\n",
    "import seaborn as sns\n",
    "import matplotlib.pyplot as plt\n",
    "from dateutil import parser\n",
    "import missingno as msgn\n",
    "import time\n",
    "from sklearn.compose import ColumnTransformer\n",
    "from sklearn.pipeline import Pipeline\n",
    "from sklearn.impute import SimpleImputer\n",
    "from sklearn.preprocessing import StandardScaler, OneHotEncoder\n",
    "from sklearn.linear_model import LogisticRegression\n",
    "from sklearn.ensemble import RandomForestClassifier\n",
    "from sklearn.model_selection import train_test_split, GridSearchCV\n",
    "from pandas_profiling import ProfileReport\n",
    "from sklearn.model_selection import train_test_split\n",
    "\n",
    "from sklearn.model_selection import cross_val_score\n",
    "from sklearn.feature_selection import f_classif\n",
    "from sklearn.model_selection import StratifiedKFold\n",
    "from sklearn.feature_selection import SelectKBest\n",
    "from sklearn.metrics import *\n",
    "\n",
    "from sklearn.pipeline import Pipeline\n",
    "from sklearn.inspection import permutation_importance\n",
    "from sklearn.impute import SimpleImputer\n",
    "from sklearn.compose import ColumnTransformer\n",
    "from sklearn.preprocessing import StandardScaler, OneHotEncoder, PowerTransformer\n",
    "from sklearn.model_selection import train_test_split, GridSearchCV, cross_validate, StratifiedKFold, train_test_split, cross_val_score\n",
    "from sklearn.utils.class_weight import compute_class_weight\n",
    "from sklearn.feature_selection import SelectKBest, mutual_info_classif, f_classif\n",
    "from sklearn.metrics import classification_report, accuracy_score, confusion_matrix, ConfusionMatrixDisplay, f1_score\n",
    "\n",
    "from sklearn.linear_model import LogisticRegression\n",
    "from sklearn.ensemble import RandomForestClassifier, ExtraTreesClassifier\n",
    "from lightgbm import LGBMClassifier\n",
    "from xgboost import XGBClassifier\n",
    "from sklearn.svm import SVC\n",
    "from sklearn.ensemble import VotingClassifier, StackingClassifier\n",
    "\n",
    "import sklearn\n",
    "from tqdm import tqdm\n",
    "from sklearn.base import ClassifierMixin\n",
    "from sklearn.utils.testing import all_estimators"
   ]
  },
  {
   "cell_type": "code",
   "execution_count": 3,
   "id": "empirical-feeling",
   "metadata": {},
   "outputs": [],
   "source": [
    "data_products = pd.read_csv(data_path+\"products.csv\")\n",
    "data_tra = pd.read_csv(data_path+\"transactions.csv\", parse_dates=['order_date'])\n",
    "\n",
    "data_user_dem = pd.read_csv(data_path+\"user_demographics.csv\", parse_dates=['membership_date', 'birth_date'])\n",
    "data_sup_def = pd.read_csv(data_path+\"supplier_defective_return.csv\")\n",
    "data_sup_return = pd.read_csv(data_path+\"supplier_return.csv\")\n",
    "data_sup_disp = pd.read_csv(data_path+\"supplier_disputed_return.csv\")\n",
    "\n",
    "data_reviews = pd.read_csv(data_path+\"reviews.csv\")\n",
    "data_qa = pd.read_csv(data_path+\"qa.csv\")"
   ]
  },
  {
   "cell_type": "code",
   "execution_count": 4,
   "id": "abandoned-decision",
   "metadata": {},
   "outputs": [],
   "source": [
    "unq_variants = data_products.groupby(['product_content_id'])['product_variant_id'].nunique().reset_index()\n",
    "unq_variants.columns = ['product_content_id', 'n_unq_variants']\n",
    "data_products = pd.merge(data_products, unq_variants, on=['product_content_id'], how='left')"
   ]
  },
  {
   "cell_type": "code",
   "execution_count": 5,
   "id": "useful-rider",
   "metadata": {},
   "outputs": [],
   "source": [
    "tmp_df = pd.merge(data_tra, data_products , on=['product_variant_id'], suffixes=('_tra', '_prod'), how='left')\n",
    "tmp_df = pd.merge(tmp_df, data_user_dem , on=['user_id'], suffixes=(None, '_user_dem'),how='left')\n",
    "tmp_df = pd.merge(tmp_df, data_sup_return , on=['supplier_id'], suffixes=(None,'_sup_return'), how='left')\n",
    "tmp_df = pd.merge(tmp_df, data_sup_def , on=['supplier_id'], suffixes=(None,'_def'), how='left')\n",
    "df_v1 = pd.merge(tmp_df, data_sup_disp , on=['supplier_id'], suffixes=(None,'_sup'), how='left')"
   ]
  },
  {
   "cell_type": "code",
   "execution_count": 6,
   "id": "finnish-coverage",
   "metadata": {},
   "outputs": [],
   "source": [
    "df_v1['product_content_id'] = df_v1['product_content_id_tra']\n",
    "df_v1.drop(['product_content_id_tra','product_content_id_prod'], axis=1, inplace=True)"
   ]
  },
  {
   "cell_type": "code",
   "execution_count": 7,
   "id": "distant-background",
   "metadata": {},
   "outputs": [
    {
     "name": "stdout",
     "output_type": "stream",
     "text": [
      "<class 'pandas.core.frame.DataFrame'>\n",
      "Int64Index: 11193677 entries, 0 to 11193676\n",
      "Data columns (total 41 columns):\n",
      " #   Column                      Dtype              \n",
      "---  ------                      -----              \n",
      " 0   order_date                  datetime64[ns, UTC]\n",
      " 1   user_id                     int64              \n",
      " 2   is_elite_user               int64              \n",
      " 3   supplier_id                 int64              \n",
      " 4   order_line_item_id          int64              \n",
      " 5   order_parent_id             int64              \n",
      " 6   product_variant_id          int64              \n",
      " 7   original_price              float64            \n",
      " 8   discounted_price            float64            \n",
      " 9   ship_cost                   float64            \n",
      " 10  coupon_id                   object             \n",
      " 11  coupon_discount             float64            \n",
      " 12  promotion_name              object             \n",
      " 13  promotion_award_value       float64            \n",
      " 14  is_wallet_trx               int64              \n",
      " 15  is_saved_card_trx           bool               \n",
      " 16  is_returned                 float64            \n",
      " 17  product_id                  int64              \n",
      " 18  product_name                object             \n",
      " 19  brand_id                    int64              \n",
      " 20  brand_name                  object             \n",
      " 21  gender_id                   float64            \n",
      " 22  gender_name                 object             \n",
      " 23  category_id                 int64              \n",
      " 24  category_name               object             \n",
      " 25  color_id                    float64            \n",
      " 26  color_name                  object             \n",
      " 27  supplier_color_name         object             \n",
      " 28  attributet_name             object             \n",
      " 29  attribute_value             object             \n",
      " 30  n_unq_variants              int64              \n",
      " 31  birth_date                  object             \n",
      " 32  membership_date             datetime64[ns, UTC]\n",
      " 33  gender                      object             \n",
      " 34  returnRate                  float64            \n",
      " 35  returnRate_def              float64            \n",
      " 36  total_claim                 float64            \n",
      " 37  unresolved_claim            float64            \n",
      " 38  unresolved_accepted_claim   float64            \n",
      " 39  unresolvedclaim_percentage  float64            \n",
      " 40  product_content_id          int64              \n",
      "dtypes: bool(1), datetime64[ns, UTC](2), float64(14), int64(12), object(12)\n",
      "memory usage: 3.4+ GB\n"
     ]
    }
   ],
   "source": [
    "df_v1.info()"
   ]
  },
  {
   "cell_type": "code",
   "execution_count": 8,
   "id": "elementary-width",
   "metadata": {},
   "outputs": [],
   "source": [
    "# if promotion award is None, meaning no promotion, then fill it with 0\n",
    "df_v1['promotion_award_value'].fillna(0.0, inplace=True)"
   ]
  },
  {
   "cell_type": "code",
   "execution_count": 9,
   "id": "mexican-patient",
   "metadata": {},
   "outputs": [],
   "source": [
    "# if shipping cost is None, meaning no cost, then fill it with 0\n",
    "df_v1['ship_cost'].fillna(0.0, inplace=True)"
   ]
  },
  {
   "cell_type": "code",
   "execution_count": 10,
   "id": "romance-costa",
   "metadata": {},
   "outputs": [],
   "source": [
    "# paid amount by customer\n",
    "df_v1['paid_amount'] = df_v1['discounted_price']-df_v1['coupon_discount']+df_v1['ship_cost']\n",
    "# discoount ratio \n",
    "df_v1['discount_ratio'] = (df_v1['original_price']- df_v1['discounted_price'])/df_v1['original_price']"
   ]
  },
  {
   "cell_type": "code",
   "execution_count": 11,
   "id": "necessary-hierarchy",
   "metadata": {},
   "outputs": [],
   "source": [
    "# difference between order and membership date\n",
    "df_v1['diff_order_memdate'] = (df_v1[\"order_date\"]-df_v1[\"membership_date\"]).dt.days"
   ]
  },
  {
   "cell_type": "code",
   "execution_count": 12,
   "id": "israeli-ambassador",
   "metadata": {},
   "outputs": [],
   "source": [
    "# converting order date to weekday, day of the month and week \n",
    "df_v1['order_weekday'] =  df_v1[\"order_date\"].dt.weekday\n",
    "df_v1['order_day'] = df_v1['order_date'].dt.day\n",
    "df_v1['order_week'] = df_v1[\"order_date\"].dt.week"
   ]
  },
  {
   "cell_type": "code",
   "execution_count": 13,
   "id": "accessory-department",
   "metadata": {},
   "outputs": [],
   "source": [
    "def correct_dates(str_date):\n",
    "    if type(str_date) == str:\n",
    "        \n",
    "        year = str_date.split('-')[0]\n",
    "        if not (1936 < int(year) < 2016):\n",
    "            str_date =  str_date.replace(year, '1920')\n",
    "        return str_date\n",
    "    else:\n",
    "        return '1910-01-01 00:00:00+00:00' "
   ]
  },
  {
   "cell_type": "code",
   "execution_count": 14,
   "id": "photographic-behalf",
   "metadata": {},
   "outputs": [],
   "source": [
    "zodiacs = [(120, 'cap'), (218, 'aqu'), (320, 'pis'), (420, 'ari'), (521, 'tau'),\n",
    "           (621, 'gem'), (722, 'can'), (823, 'leo'), (923, 'vir'), (1023, 'lib'),\n",
    "           (1122, 'sco'), (1222, 'sag'), (1231, 'cap')]\n",
    "\n",
    "def get_zodiac_of_date(date):\n",
    "     \n",
    "    if type(date) == str:\n",
    "        date = parser.parse(date)\n",
    "        if date.month == 1 and date.day == 1:\n",
    "            return 'no-sign'   \n",
    "        date_number = int(\"\".join((str(date.month), '%02d' % date.date().day)))\n",
    "        for z in zodiacs:\n",
    "            if date_number <= z[0]:\n",
    "                return z[1]\n",
    "    else:\n",
    "        return 'none'"
   ]
  },
  {
   "cell_type": "code",
   "execution_count": 15,
   "id": "expressed-checklist",
   "metadata": {},
   "outputs": [],
   "source": [
    "df_v1['zodiac'] = df_v1['birth_date'].apply(get_zodiac_of_date)"
   ]
  },
  {
   "cell_type": "code",
   "execution_count": 16,
   "id": "voluntary-roller",
   "metadata": {},
   "outputs": [
    {
     "data": {
      "text/plain": [
       "Index(['order_date', 'user_id', 'is_elite_user', 'supplier_id',\n",
       "       'order_line_item_id', 'order_parent_id', 'product_variant_id',\n",
       "       'original_price', 'discounted_price', 'ship_cost', 'coupon_id',\n",
       "       'coupon_discount', 'promotion_name', 'promotion_award_value',\n",
       "       'is_wallet_trx', 'is_saved_card_trx', 'is_returned', 'product_id',\n",
       "       'product_name', 'brand_id', 'brand_name', 'gender_id', 'gender_name',\n",
       "       'category_id', 'category_name', 'color_id', 'color_name',\n",
       "       'supplier_color_name', 'attributet_name', 'attribute_value',\n",
       "       'n_unq_variants', 'birth_date', 'membership_date', 'gender',\n",
       "       'returnRate', 'returnRate_def', 'total_claim', 'unresolved_claim',\n",
       "       'unresolved_accepted_claim', 'unresolvedclaim_percentage',\n",
       "       'product_content_id', 'paid_amount', 'discount_ratio',\n",
       "       'diff_order_memdate', 'order_weekday', 'order_day', 'order_week',\n",
       "       'zodiac'],\n",
       "      dtype='object')"
      ]
     },
     "execution_count": 16,
     "metadata": {},
     "output_type": "execute_result"
    }
   ],
   "source": [
    "df_v1.columns"
   ]
  },
  {
   "cell_type": "code",
   "execution_count": 17,
   "id": "fossil-clinton",
   "metadata": {},
   "outputs": [],
   "source": [
    "one_hot = [\n",
    "'gender_id',\n",
    "'brand_id',\n",
    "'category_id', \n",
    "'color_id', \n",
    "'order_weekday', \n",
    "'order_day', \n",
    "'order_week',\n",
    "'zodiac']\n",
    "\n",
    "passt = [\n",
    "'is_elite_user',\n",
    "'is_wallet_trx', \n",
    "'is_saved_card_trx', ]\n",
    "\n",
    "numerical = [\n",
    "'original_price', \n",
    "'discounted_price', \n",
    "'ship_cost',\n",
    "'coupon_discount', \n",
    "'promotion_award_value',\n",
    "'n_unq_variants', \n",
    "'returnRate', \n",
    "'returnRate_def', \n",
    "'total_claim', \n",
    "'unresolved_claim',\n",
    "'unresolved_accepted_claim', \n",
    "'unresolvedclaim_percentage',\n",
    "'paid_amount', \n",
    "'discount_ratio',\n",
    "'diff_order_memdate', ]"
   ]
  },
  {
   "cell_type": "code",
   "execution_count": 18,
   "id": "collect-sacrifice",
   "metadata": {},
   "outputs": [],
   "source": [
    "df_v1['coupon_discount'] = df_v1['coupon_discount'].abs()"
   ]
  },
  {
   "cell_type": "code",
   "execution_count": 19,
   "id": "affiliated-insert",
   "metadata": {},
   "outputs": [],
   "source": [
    "df_v1['num_nulls'] = df_v1.isna().sum(axis=1)"
   ]
  },
  {
   "cell_type": "code",
   "execution_count": 20,
   "id": "requested-pepper",
   "metadata": {},
   "outputs": [],
   "source": [
    "df_v1['gender_id'].fillna(221.0, inplace=True)\n",
    "df_v1['color_id'].fillna(8001.0, inplace=True)"
   ]
  },
  {
   "cell_type": "code",
   "execution_count": 21,
   "id": "impressed-certificate",
   "metadata": {},
   "outputs": [],
   "source": [
    "null_df = df_v1[df_v1['is_returned'].isna()]\n",
    "notna_df = df_v1[df_v1['is_returned'].notna()]"
   ]
  },
  {
   "cell_type": "code",
   "execution_count": 22,
   "id": "ordered-edward",
   "metadata": {},
   "outputs": [],
   "source": [
    "merged_df = notna_df[one_hot+passt+numerical+['is_returned']]"
   ]
  },
  {
   "cell_type": "code",
   "execution_count": 23,
   "id": "exempt-dylan",
   "metadata": {},
   "outputs": [],
   "source": [
    "pos_df = merged_df[merged_df['is_returned']==1].sample(100_000, random_state=0)\n",
    "neg_df = merged_df[merged_df['is_returned']==0].sample(100_000, random_state=0)\n",
    "\n",
    "model_df = pd.concat([pos_df, neg_df], axis=0)\n",
    "model_df.sample(frac=1)\n",
    "\n",
    "y = model_df['is_returned']\n",
    "X = model_df[one_hot+passt+numerical]"
   ]
  },
  {
   "cell_type": "code",
   "execution_count": 24,
   "id": "blind-revolution",
   "metadata": {},
   "outputs": [],
   "source": [
    "def print_metrics(y_pred, y_test, model):\n",
    "    print(\"Model results: \", type(model).__name__)\n",
    "    print(classification_report(y_test, y_pred))\n",
    "    print(\"Confusion matrix:\")\n",
    "    cm = confusion_matrix(y_test,y_pred, labels= model.classes_)\n",
    "    disp = ConfusionMatrixDisplay(confusion_matrix=cm,display_labels= model.classes_)\n",
    "    disp.plot()"
   ]
  },
  {
   "cell_type": "code",
   "execution_count": 25,
   "id": "instant-karma",
   "metadata": {},
   "outputs": [],
   "source": [
    "def create_pipeline(clf_name, clf_object):\n",
    "    \n",
    "    numeric_transformer = Pipeline(steps=[\n",
    "        ('imputer', SimpleImputer(strategy='constant',fill_value=0.0)),\n",
    "        ('scaler', StandardScaler())])\n",
    "    \n",
    "    categorical_str_transformer = Pipeline(steps=[\n",
    "        ('imputer', SimpleImputer(strategy='constant', fill_value='unk')),\n",
    "        ('one-hot', OneHotEncoder(handle_unknown='ignore'))])\n",
    "    \n",
    "\n",
    "    preprocessor = ColumnTransformer(\n",
    "                                    transformers=[\n",
    "                                                  ('num1', numeric_transformer, numerical),\n",
    "                                                  ('cat_str1', categorical_str_transformer, one_hot),\n",
    "                                                  ], \n",
    "                                    remainder='passthrough')\n",
    "\n",
    "    pipeline = Pipeline(steps=[('preprocessor', preprocessor),\n",
    "                          ('f_selector', SelectKBest(f_classif, k=30)),\n",
    "                          (clf_name, clf_object)])\n",
    "    \n",
    "    return pipeline"
   ]
  },
  {
   "cell_type": "code",
   "execution_count": 26,
   "id": "fatty-european",
   "metadata": {
    "scrolled": false
   },
   "outputs": [
    {
     "name": "stdout",
     "output_type": "stream",
     "text": [
      "[00:11:21] WARNING: C:\\Users\\Administrator\\workspace\\xgboost-win64_release_1.1.0\\src\\learner.cc:480: \n",
      "Parameters: { class_weight } might not be used.\n",
      "\n",
      "  This may not be accurate due to some parameters are only used in language bindings but\n",
      "  passed down to XGBoost core.  Or some parameters are not used but slip through this\n",
      "  verification. Please open an issue if you find above cases.\n",
      "\n",
      "\n",
      "Model results:  Pipeline\n",
      "              precision    recall  f1-score   support\n",
      "\n",
      "         0.0       0.84      0.82      0.83     20000\n",
      "         1.0       0.82      0.84      0.83     20000\n",
      "\n",
      "    accuracy                           0.83     40000\n",
      "   macro avg       0.83      0.83      0.83     40000\n",
      "weighted avg       0.83      0.83      0.83     40000\n",
      "\n",
      "Confusion matrix:\n"
     ]
    },
    {
     "data": {
      "image/png": "[encoded data removed]",
      "text/plain": [
       "<Figure size 432x288 with 2 Axes>"
      ]
     },
     "metadata": {
      "needs_background": "light"
     },
     "output_type": "display_data"
    }
   ],
   "source": [
    "X_train, X_test, y_train, y_test = train_test_split(X, y, stratify=y, test_size=0.20, random_state=1)\n",
    "\n",
    "\n",
    "pipe1 = create_pipeline('xgb', XGBClassifier(class_weight='balanced', n_jobs=-1, random_state=0))\n",
    "pipe1.fit(X_train, y_train)\n",
    "preds1 = pipe1.predict(X_test)\n",
    "print_metrics(preds1, y_test, pipe1)"
   ]
  },
  {
   "cell_type": "code",
   "execution_count": 27,
   "id": "treated-crest",
   "metadata": {},
   "outputs": [
    {
     "ename": "NameError",
     "evalue": "name 'test' is not defined",
     "output_type": "error",
     "traceback": [
      "\u001b[1;31m---------------------------------------------------------------------------\u001b[0m",
      "\u001b[1;31mNameError\u001b[0m                                 Traceback (most recent call last)",
      "\u001b[1;32m<ipython-input-27-4e1243bd22c6>\u001b[0m in \u001b[0;36m<module>\u001b[1;34m\u001b[0m\n\u001b[1;32m----> 1\u001b[1;33m \u001b[0mtest\u001b[0m\u001b[1;33m\u001b[0m\u001b[1;33m\u001b[0m\u001b[0m\n\u001b[0m",
      "\u001b[1;31mNameError\u001b[0m: name 'test' is not defined"
     ]
    }
   ],
   "source": [
    "test"
   ]
  },
  {
   "cell_type": "code",
   "execution_count": 28,
   "id": "massive-serum",
   "metadata": {},
   "outputs": [
    {
     "data": {
      "text/html": [
       "<div>\n",
       "<style scoped>\n",
       "    .dataframe tbody tr th:only-of-type {\n",
       "        vertical-align: middle;\n",
       "    }\n",
       "\n",
       "    .dataframe tbody tr th {\n",
       "        vertical-align: top;\n",
       "    }\n",
       "\n",
       "    .dataframe thead th {\n",
       "        text-align: right;\n",
       "    }\n",
       "</style>\n",
       "<table border=\"1\" class=\"dataframe\">\n",
       "  <thead>\n",
       "    <tr style=\"text-align: right;\">\n",
       "      <th></th>\n",
       "      <th>id</th>\n",
       "      <th>expected</th>\n",
       "    </tr>\n",
       "  </thead>\n",
       "  <tbody>\n",
       "    <tr>\n",
       "      <th>0</th>\n",
       "      <td>18115|87073974|726348863</td>\n",
       "      <td>NaN</td>\n",
       "    </tr>\n",
       "    <tr>\n",
       "      <th>1</th>\n",
       "      <td>27588|118753298|723169934</td>\n",
       "      <td>NaN</td>\n",
       "    </tr>\n",
       "  </tbody>\n",
       "</table>\n",
       "</div>"
      ],
      "text/plain": [
       "                          id  expected\n",
       "0   18115|87073974|726348863       NaN\n",
       "1  27588|118753298|723169934       NaN"
      ]
     },
     "execution_count": 28,
     "metadata": {},
     "output_type": "execute_result"
    }
   ],
   "source": [
    "data_path = r'C:\\Users\\IsmailKaraman\\workspace\\data\\trendyol\\\\'\n",
    "test_raw = pd.read_csv(data_path+'test_data.csv')\n",
    "test_raw.head(2)"
   ]
  },
  {
   "cell_type": "code",
   "execution_count": 29,
   "id": "explicit-collaboration",
   "metadata": {},
   "outputs": [],
   "source": [
    "test = test_raw.copy()\n",
    "test[['user_id', 'product_content_id', 'order_parent_id']] = test['id'].str.split('|',expand=True)\n",
    "test = test[['user_id', 'product_content_id', 'order_parent_id','expected']]"
   ]
  },
  {
   "cell_type": "code",
   "execution_count": 30,
   "id": "religious-gibraltar",
   "metadata": {},
   "outputs": [],
   "source": [
    "test['user_id'] = test['user_id'].astype('int64') \n",
    "test['order_parent_id'] = test['order_parent_id'].astype('int64')\n",
    "test['product_content_id'] = test['product_content_id'].astype('int64')"
   ]
  },
  {
   "cell_type": "code",
   "execution_count": 31,
   "id": "framed-folder",
   "metadata": {},
   "outputs": [
    {
     "data": {
      "text/plain": [
       "(7769, 50)"
      ]
     },
     "execution_count": 31,
     "metadata": {},
     "output_type": "execute_result"
    }
   ],
   "source": [
    "test_df = pd.merge(test, null_df, on=['user_id', 'product_content_id', 'order_parent_id'], how='left')\n",
    "test_df.shape"
   ]
  },
  {
   "cell_type": "code",
   "execution_count": 32,
   "id": "human-kazakhstan",
   "metadata": {},
   "outputs": [],
   "source": [
    "test_df.drop_duplicates(subset=['user_id', 'product_content_id', 'order_parent_id'], inplace=True)"
   ]
  },
  {
   "cell_type": "code",
   "execution_count": 33,
   "id": "cardiac-drink",
   "metadata": {},
   "outputs": [
    {
     "data": {
      "text/plain": [
       "user_id                          0\n",
       "product_content_id               0\n",
       "order_parent_id                  0\n",
       "expected                      7471\n",
       "order_date                       0\n",
       "is_elite_user                    0\n",
       "supplier_id                      0\n",
       "order_line_item_id               0\n",
       "product_variant_id               0\n",
       "original_price                   0\n",
       "discounted_price                 0\n",
       "ship_cost                        0\n",
       "coupon_id                     6872\n",
       "coupon_discount                  0\n",
       "promotion_name                2601\n",
       "promotion_award_value            0\n",
       "is_wallet_trx                    0\n",
       "is_saved_card_trx                0\n",
       "is_returned                   7471\n",
       "product_id                       0\n",
       "product_name                     0\n",
       "brand_id                         0\n",
       "brand_name                       0\n",
       "gender_id                        0\n",
       "gender_name                      0\n",
       "category_id                      0\n",
       "category_name                    0\n",
       "color_id                         0\n",
       "color_name                       0\n",
       "supplier_color_name              0\n",
       "attributet_name                  0\n",
       "attribute_value                  0\n",
       "n_unq_variants                   0\n",
       "birth_date                    1875\n",
       "membership_date                  0\n",
       "gender                           0\n",
       "returnRate                       0\n",
       "returnRate_def                   0\n",
       "total_claim                      0\n",
       "unresolved_claim                 0\n",
       "unresolved_accepted_claim        0\n",
       "unresolvedclaim_percentage       0\n",
       "paid_amount                      0\n",
       "discount_ratio                   0\n",
       "diff_order_memdate               0\n",
       "order_weekday                    0\n",
       "order_day                        0\n",
       "order_week                       0\n",
       "zodiac                           0\n",
       "num_nulls                        0\n",
       "dtype: int64"
      ]
     },
     "execution_count": 33,
     "metadata": {},
     "output_type": "execute_result"
    }
   ],
   "source": [
    "test_X = test_df\n",
    "test_X.isna().sum()"
   ]
  },
  {
   "cell_type": "code",
   "execution_count": 34,
   "id": "surface-employer",
   "metadata": {},
   "outputs": [],
   "source": [
    "expected = pipe1.predict(test_df[one_hot+passt+numerical])"
   ]
  },
  {
   "cell_type": "code",
   "execution_count": 35,
   "id": "sapphire-twelve",
   "metadata": {},
   "outputs": [],
   "source": [
    "test_raw['expected'] = expected"
   ]
  },
  {
   "cell_type": "code",
   "execution_count": 36,
   "id": "decent-wright",
   "metadata": {},
   "outputs": [],
   "source": [
    "test_raw['expected'] = test_raw['expected'].astype('int32')"
   ]
  },
  {
   "cell_type": "code",
   "execution_count": 37,
   "id": "comic-ballet",
   "metadata": {},
   "outputs": [
    {
     "data": {
      "text/plain": [
       "0.5730156605541427"
      ]
     },
     "execution_count": 37,
     "metadata": {},
     "output_type": "execute_result"
    }
   ],
   "source": [
    "old_output = pd.read_csv('output.csv')\n",
    "accuracy_score(expected, old_output['expected'])"
   ]
  },
  {
   "cell_type": "code",
   "execution_count": 38,
   "id": "isolated-indonesia",
   "metadata": {},
   "outputs": [
    {
     "ename": "NameError",
     "evalue": "name 'a' is not defined",
     "output_type": "error",
     "traceback": [
      "\u001b[1;31m---------------------------------------------------------------------------\u001b[0m",
      "\u001b[1;31mNameError\u001b[0m                                 Traceback (most recent call last)",
      "\u001b[1;32m<ipython-input-38-3f786850e387>\u001b[0m in \u001b[0;36m<module>\u001b[1;34m\u001b[0m\n\u001b[1;32m----> 1\u001b[1;33m \u001b[0ma\u001b[0m\u001b[1;33m\u001b[0m\u001b[1;33m\u001b[0m\u001b[0m\n\u001b[0m",
      "\u001b[1;31mNameError\u001b[0m: name 'a' is not defined"
     ]
    }
   ],
   "source": [
    "a"
   ]
  },
  {
   "cell_type": "code",
   "execution_count": 39,
   "id": "religious-appraisal",
   "metadata": {},
   "outputs": [],
   "source": [
    "test_raw.to_csv('output.csv', index=False)"
   ]
  },
  {
   "cell_type": "code",
   "execution_count": null,
   "id": "opposite-place",
   "metadata": {},
   "outputs": [],
   "source": []
  }
 ],
 "metadata": {
  "kernelspec": {
   "display_name": "Python 3",
   "language": "python",
   "name": "python3"
  },
  "language_info": {
   "codemirror_mode": {
    "name": "ipython",
    "version": 3
   },
   "file_extension": ".py",
   "mimetype": "text/x-python",
   "name": "python",
   "nbconvert_exporter": "python",
   "pygments_lexer": "ipython3",
   "version": "3.8.5"
  }
 },
 "nbformat": 4,
 "nbformat_minor": 5
}
