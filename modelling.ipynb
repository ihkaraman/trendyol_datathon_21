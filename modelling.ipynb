{
 "cells": [
  {
   "cell_type": "code",
   "execution_count": 1,
   "id": "graduate-hands",
   "metadata": {},
   "outputs": [],
   "source": [
    "import pandas as pd\n",
    "import numpy as np\n",
    "import seaborn as sns\n",
    "import matplotlib.pyplot as plt\n",
    "import missingno as msgn\n",
    "from sklearn.compose import ColumnTransformer\n",
    "from sklearn.pipeline import Pipeline\n",
    "from sklearn.impute import SimpleImputer\n",
    "from sklearn.preprocessing import StandardScaler, OneHotEncoder\n",
    "from sklearn.linear_model import LogisticRegression\n",
    "from sklearn.ensemble import RandomForestClassifier\n",
    "from sklearn.model_selection import train_test_split, GridSearchCV\n",
    "from pandas_profiling import ProfileReport\n",
    "from sklearn.model_selection import train_test_split\n",
    "\n",
    "from sklearn.model_selection import cross_val_score\n",
    "from sklearn.feature_selection import f_classif\n",
    "from sklearn.model_selection import StratifiedKFold\n",
    "from sklearn.feature_selection import SelectKBest\n",
    "from sklearn.metrics import *"
   ]
  },
  {
   "cell_type": "code",
   "execution_count": 2,
   "id": "antique-prescription",
   "metadata": {},
   "outputs": [],
   "source": [
    "df = pd.read_pickle('df_v1-2021-10-12.pickle')"
   ]
  },
  {
   "cell_type": "code",
   "execution_count": 3,
   "id": "natural-italian",
   "metadata": {},
   "outputs": [
    {
     "data": {
      "text/plain": [
       "order_date             0\n",
       "user_id                0\n",
       "is_elite_user          0\n",
       "supplier_id            0\n",
       "order_line_item_id     0\n",
       "                      ..\n",
       "cum_cat_counts_x       0\n",
       "cum_cat_counts_y       0\n",
       "past_total_paid        0\n",
       "past_avg_paid          0\n",
       "shifted_coupon_rate    0\n",
       "Length: 67, dtype: int64"
      ]
     },
     "execution_count": 3,
     "metadata": {},
     "output_type": "execute_result"
    }
   ],
   "source": [
    "df.isna().sum()"
   ]
  },
  {
   "cell_type": "code",
   "execution_count": 4,
   "id": "lined-generator",
   "metadata": {},
   "outputs": [
    {
     "data": {
      "text/html": [
       "<div>\n",
       "<style scoped>\n",
       "    .dataframe tbody tr th:only-of-type {\n",
       "        vertical-align: middle;\n",
       "    }\n",
       "\n",
       "    .dataframe tbody tr th {\n",
       "        vertical-align: top;\n",
       "    }\n",
       "\n",
       "    .dataframe thead th {\n",
       "        text-align: right;\n",
       "    }\n",
       "</style>\n",
       "<table border=\"1\" class=\"dataframe\">\n",
       "  <thead>\n",
       "    <tr style=\"text-align: right;\">\n",
       "      <th></th>\n",
       "      <th>order_date</th>\n",
       "      <th>user_id</th>\n",
       "      <th>is_elite_user</th>\n",
       "      <th>supplier_id</th>\n",
       "      <th>order_line_item_id</th>\n",
       "      <th>order_parent_id</th>\n",
       "      <th>product_variant_id</th>\n",
       "      <th>original_price</th>\n",
       "      <th>discounted_price</th>\n",
       "      <th>ship_cost</th>\n",
       "      <th>...</th>\n",
       "      <th>shifted_cum_mean_x</th>\n",
       "      <th>cum_mean_y</th>\n",
       "      <th>shifted_cum_mean_y</th>\n",
       "      <th>cum_prod_counts_x</th>\n",
       "      <th>cum_prod_counts_y</th>\n",
       "      <th>cum_cat_counts_x</th>\n",
       "      <th>cum_cat_counts_y</th>\n",
       "      <th>past_total_paid</th>\n",
       "      <th>past_avg_paid</th>\n",
       "      <th>shifted_coupon_rate</th>\n",
       "    </tr>\n",
       "  </thead>\n",
       "  <tbody>\n",
       "    <tr>\n",
       "      <th>0</th>\n",
       "      <td>2021-05-19 01:27:28.768000+00:00</td>\n",
       "      <td>2141</td>\n",
       "      <td>0</td>\n",
       "      <td>216503</td>\n",
       "      <td>955598029</td>\n",
       "      <td>625610651</td>\n",
       "      <td>133066437</td>\n",
       "      <td>104.900002</td>\n",
       "      <td>69.900002</td>\n",
       "      <td>11.33</td>\n",
       "      <td>...</td>\n",
       "      <td>0.0</td>\n",
       "      <td>0.0</td>\n",
       "      <td>0.0</td>\n",
       "      <td>0.0</td>\n",
       "      <td>0.0</td>\n",
       "      <td>0.0</td>\n",
       "      <td>0.0</td>\n",
       "      <td>0.000000</td>\n",
       "      <td>0.000000</td>\n",
       "      <td>0.0</td>\n",
       "    </tr>\n",
       "    <tr>\n",
       "      <th>1</th>\n",
       "      <td>2021-05-19 01:27:28.768000+00:00</td>\n",
       "      <td>2141</td>\n",
       "      <td>0</td>\n",
       "      <td>1188</td>\n",
       "      <td>955598030</td>\n",
       "      <td>625610651</td>\n",
       "      <td>77047570</td>\n",
       "      <td>79.989998</td>\n",
       "      <td>79.989998</td>\n",
       "      <td>8.88</td>\n",
       "      <td>...</td>\n",
       "      <td>0.0</td>\n",
       "      <td>0.0</td>\n",
       "      <td>0.0</td>\n",
       "      <td>0.0</td>\n",
       "      <td>0.0</td>\n",
       "      <td>0.0</td>\n",
       "      <td>0.0</td>\n",
       "      <td>0.000000</td>\n",
       "      <td>0.000000</td>\n",
       "      <td>0.0</td>\n",
       "    </tr>\n",
       "    <tr>\n",
       "      <th>2</th>\n",
       "      <td>2021-06-02 00:51:35.862000+00:00</td>\n",
       "      <td>2141</td>\n",
       "      <td>0</td>\n",
       "      <td>200788</td>\n",
       "      <td>988146564</td>\n",
       "      <td>643936439</td>\n",
       "      <td>153411316</td>\n",
       "      <td>110.300003</td>\n",
       "      <td>55.150002</td>\n",
       "      <td>8.88</td>\n",
       "      <td>...</td>\n",
       "      <td>0.0</td>\n",
       "      <td>0.0</td>\n",
       "      <td>0.0</td>\n",
       "      <td>0.0</td>\n",
       "      <td>0.0</td>\n",
       "      <td>0.0</td>\n",
       "      <td>0.0</td>\n",
       "      <td>170.100006</td>\n",
       "      <td>170.100006</td>\n",
       "      <td>0.0</td>\n",
       "    </tr>\n",
       "    <tr>\n",
       "      <th>3</th>\n",
       "      <td>2021-06-02 00:51:35.862000+00:00</td>\n",
       "      <td>2141</td>\n",
       "      <td>0</td>\n",
       "      <td>107296</td>\n",
       "      <td>988146563</td>\n",
       "      <td>643936439</td>\n",
       "      <td>172744639</td>\n",
       "      <td>59.900002</td>\n",
       "      <td>49.900002</td>\n",
       "      <td>8.88</td>\n",
       "      <td>...</td>\n",
       "      <td>0.0</td>\n",
       "      <td>0.0</td>\n",
       "      <td>0.0</td>\n",
       "      <td>0.0</td>\n",
       "      <td>0.0</td>\n",
       "      <td>0.0</td>\n",
       "      <td>0.0</td>\n",
       "      <td>170.100006</td>\n",
       "      <td>170.100006</td>\n",
       "      <td>0.0</td>\n",
       "    </tr>\n",
       "    <tr>\n",
       "      <th>4</th>\n",
       "      <td>2021-06-09 23:31:37.963000+00:00</td>\n",
       "      <td>2141</td>\n",
       "      <td>0</td>\n",
       "      <td>968</td>\n",
       "      <td>1007223734</td>\n",
       "      <td>654756664</td>\n",
       "      <td>162306389</td>\n",
       "      <td>119.989998</td>\n",
       "      <td>48.000000</td>\n",
       "      <td>9.40</td>\n",
       "      <td>...</td>\n",
       "      <td>0.0</td>\n",
       "      <td>0.0</td>\n",
       "      <td>0.0</td>\n",
       "      <td>0.0</td>\n",
       "      <td>0.0</td>\n",
       "      <td>0.0</td>\n",
       "      <td>0.0</td>\n",
       "      <td>292.910004</td>\n",
       "      <td>146.455002</td>\n",
       "      <td>0.0</td>\n",
       "    </tr>\n",
       "  </tbody>\n",
       "</table>\n",
       "<p>5 rows × 67 columns</p>\n",
       "</div>"
      ],
      "text/plain": [
       "                        order_date  user_id  is_elite_user  supplier_id  \\\n",
       "0 2021-05-19 01:27:28.768000+00:00     2141              0       216503   \n",
       "1 2021-05-19 01:27:28.768000+00:00     2141              0         1188   \n",
       "2 2021-06-02 00:51:35.862000+00:00     2141              0       200788   \n",
       "3 2021-06-02 00:51:35.862000+00:00     2141              0       107296   \n",
       "4 2021-06-09 23:31:37.963000+00:00     2141              0          968   \n",
       "\n",
       "   order_line_item_id  order_parent_id  product_variant_id  original_price  \\\n",
       "0           955598029        625610651           133066437      104.900002   \n",
       "1           955598030        625610651            77047570       79.989998   \n",
       "2           988146564        643936439           153411316      110.300003   \n",
       "3           988146563        643936439           172744639       59.900002   \n",
       "4          1007223734        654756664           162306389      119.989998   \n",
       "\n",
       "   discounted_price  ship_cost  ... shifted_cum_mean_x  cum_mean_y  \\\n",
       "0         69.900002      11.33  ...                0.0         0.0   \n",
       "1         79.989998       8.88  ...                0.0         0.0   \n",
       "2         55.150002       8.88  ...                0.0         0.0   \n",
       "3         49.900002       8.88  ...                0.0         0.0   \n",
       "4         48.000000       9.40  ...                0.0         0.0   \n",
       "\n",
       "  shifted_cum_mean_y  cum_prod_counts_x cum_prod_counts_y cum_cat_counts_x  \\\n",
       "0                0.0                0.0               0.0              0.0   \n",
       "1                0.0                0.0               0.0              0.0   \n",
       "2                0.0                0.0               0.0              0.0   \n",
       "3                0.0                0.0               0.0              0.0   \n",
       "4                0.0                0.0               0.0              0.0   \n",
       "\n",
       "   cum_cat_counts_y  past_total_paid past_avg_paid  shifted_coupon_rate  \n",
       "0               0.0         0.000000      0.000000                  0.0  \n",
       "1               0.0         0.000000      0.000000                  0.0  \n",
       "2               0.0       170.100006    170.100006                  0.0  \n",
       "3               0.0       170.100006    170.100006                  0.0  \n",
       "4               0.0       292.910004    146.455002                  0.0  \n",
       "\n",
       "[5 rows x 67 columns]"
      ]
     },
     "execution_count": 4,
     "metadata": {},
     "output_type": "execute_result"
    }
   ],
   "source": [
    "df.head(5)"
   ]
  },
  {
   "cell_type": "code",
   "execution_count": 24,
   "id": "existing-suspect",
   "metadata": {},
   "outputs": [],
   "source": [
    "label = ['is_returned']\n",
    "\n",
    "categorical_str = [\n",
    "'is_saved_card_trx',\n",
    "'gender',\n",
    "'zodiac'\n",
    "] \n",
    "\n",
    "categorical_int = [\n",
    "'gender_id',\n",
    "'category_id',\n",
    "'color_id',\n",
    "'order_weekday',\n",
    "'order_week',\n",
    "'brand_id',\n",
    "'order_day',\n",
    "'hour_interval',\n",
    "]\n",
    "\n",
    "numerical = [\n",
    "'n_unq_variants',\n",
    "'original_price',\n",
    "'discounted_price',\n",
    "'ship_cost',\n",
    "'coupon_discount',\n",
    "'age',\n",
    "'diff_order_memdate',\n",
    "'total_claim',\n",
    "'promotion_award_value',\n",
    "'discount_ratio',\n",
    "'paid_amount',\n",
    "'n_unique_prods_in_basket',\n",
    "'n_unique_cats_in_basket',\n",
    "'cart_amount_mean',\n",
    "'past_avg_paid',\n",
    "'past_total_paid',\n",
    "]\n",
    "\n",
    "numerical2 = [\n",
    "'returnRate',\n",
    "'returnRate_def',\n",
    "'unresolvedclaim_percentage',\n",
    "'unresolved_percentage',\n",
    "'shifted_return_rate',\n",
    "'item_return_rate_user',\n",
    "'general_prod_return_rate',\n",
    "'shifted_coupon_rate',\n",
    "]\n",
    "passthrough = [\n",
    "'is_elite_user',\n",
    "'is_wallet_trx',\n",
    "'is_bday_close']\n",
    "\n",
    "drops = [\n",
    "'color_name',\n",
    "'supplier_color_name',\n",
    "'attribute_value',\n",
    "'attributet_name',\n",
    "'gender_name',\n",
    "'category_name',\n",
    "'brand_name',\n",
    "'product_name',\n",
    "'coupon_id',\n",
    "'promotion_name',\n",
    "'order_date',\n",
    "'birth_date',\n",
    "'membership_date', \n",
    "'order_line_item_id',\n",
    "'order_parent_id',\n",
    "'product_content_id',\n",
    "'product_id',\n",
    "'product_variant_id',\n",
    "'supplier_id',\n",
    "'user_id']"
   ]
  },
  {
   "cell_type": "code",
   "execution_count": 19,
   "id": "living-dividend",
   "metadata": {},
   "outputs": [],
   "source": [
    "df.drop(['cum_cat_counts_x', 'cum_mean_x', 'cum_mean_y', 'cum_prod_counts_x', 'shifted_cum_mean_x'], axis=1, inplace=True)"
   ]
  },
  {
   "cell_type": "code",
   "execution_count": 22,
   "id": "clinical-vacation",
   "metadata": {},
   "outputs": [
    {
     "data": {
      "text/plain": [
       "{'cum_cat_counts_y', 'cum_prod_counts_y', 'shifted_cum_mean_y'}"
      ]
     },
     "execution_count": 22,
     "metadata": {},
     "output_type": "execute_result"
    }
   ],
   "source": [
    "set(df.columns).difference(set(categorical_str+categorical_int+numerical+numerical2+passthrough+label+drops))"
   ]
  },
  {
   "cell_type": "code",
   "execution_count": 25,
   "id": "ordinary-definition",
   "metadata": {},
   "outputs": [
    {
     "data": {
      "text/plain": [
       "set()"
      ]
     },
     "execution_count": 25,
     "metadata": {},
     "output_type": "execute_result"
    }
   ],
   "source": [
    "set(categorical_str+categorical_int+numerical+numerical2+passthrough+label+drops).difference(set(df.columns))"
   ]
  },
  {
   "cell_type": "code",
   "execution_count": 26,
   "id": "large-analyst",
   "metadata": {},
   "outputs": [],
   "source": [
    "null_df = df[df['is_returned'].isna()]\n",
    "notna_df = df[df['is_returned'].notna()]"
   ]
  },
  {
   "cell_type": "code",
   "execution_count": 27,
   "id": "animal-hygiene",
   "metadata": {},
   "outputs": [],
   "source": [
    "del df"
   ]
  },
  {
   "cell_type": "code",
   "execution_count": 28,
   "id": "portuguese-physics",
   "metadata": {},
   "outputs": [
    {
     "data": {
      "text/plain": [
       "180"
      ]
     },
     "execution_count": 28,
     "metadata": {},
     "output_type": "execute_result"
    }
   ],
   "source": [
    "import gc\n",
    "gc.collect()"
   ]
  },
  {
   "cell_type": "code",
   "execution_count": 29,
   "id": "approved-harvard",
   "metadata": {},
   "outputs": [
    {
     "name": "stdout",
     "output_type": "stream",
     "text": [
      "421016\n",
      "0\n"
     ]
    },
    {
     "data": {
      "text/plain": [
       "(None, None)"
      ]
     },
     "execution_count": 29,
     "metadata": {},
     "output_type": "execute_result"
    }
   ],
   "source": [
    "print(null_df['is_returned'].isna().sum()), print(notna_df['is_returned'].isna().sum())"
   ]
  },
  {
   "cell_type": "code",
   "execution_count": 30,
   "id": "collectible-wound",
   "metadata": {},
   "outputs": [
    {
     "data": {
      "text/plain": [
       "order_date             0\n",
       "user_id                0\n",
       "is_elite_user          0\n",
       "supplier_id            0\n",
       "order_line_item_id     0\n",
       "                      ..\n",
       "cum_prod_counts_y      0\n",
       "cum_cat_counts_y       0\n",
       "past_total_paid        0\n",
       "past_avg_paid          0\n",
       "shifted_coupon_rate    0\n",
       "Length: 62, dtype: int64"
      ]
     },
     "execution_count": 30,
     "metadata": {},
     "output_type": "execute_result"
    }
   ],
   "source": [
    "null_df.isna().sum()"
   ]
  },
  {
   "cell_type": "code",
   "execution_count": 31,
   "id": "approved-shopping",
   "metadata": {},
   "outputs": [
    {
     "data": {
      "text/plain": [
       "119418"
      ]
     },
     "execution_count": 31,
     "metadata": {},
     "output_type": "execute_result"
    }
   ],
   "source": [
    "len(null_df['product_content_id'].unique())"
   ]
  },
  {
   "cell_type": "code",
   "execution_count": 32,
   "id": "respective-shareware",
   "metadata": {},
   "outputs": [],
   "source": [
    "null_df.drop_duplicates(subset=['order_parent_id', 'product_content_id'], inplace=True)"
   ]
  },
  {
   "cell_type": "code",
   "execution_count": 33,
   "id": "powerful-sphere",
   "metadata": {},
   "outputs": [
    {
     "data": {
      "text/plain": [
       "(405282, 62)"
      ]
     },
     "execution_count": 33,
     "metadata": {},
     "output_type": "execute_result"
    }
   ],
   "source": [
    "null_df.shape"
   ]
  },
  {
   "cell_type": "code",
   "execution_count": 34,
   "id": "concrete-relay",
   "metadata": {},
   "outputs": [],
   "source": [
    "merged_df = notna_df[categorical_str+categorical_int+numerical+numerical2+passthrough+label]"
   ]
  },
  {
   "cell_type": "markdown",
   "id": "friendly-brain",
   "metadata": {},
   "source": [
    "matrix = merged_df.corr().abs()\n",
    "\n",
    "# Create a mask\n",
    "mask = np.triu(np.ones_like(matrix, dtype=bool))\n",
    "\n",
    "# Create a custom diverging palette\n",
    "cmap = sns.diverging_palette(250, 15, s=75, l=40, n=9, center=\"light\", as_cmap=True)\n",
    "plt.figure(figsize=(16, 12))\n",
    "sns.heatmap(matrix[matrix>0.5], mask=mask, center=0, annot=True, fmt='.2f', square=True, cmap='crest')\n",
    "\n",
    "plt.show();"
   ]
  },
  {
   "cell_type": "code",
   "execution_count": 35,
   "id": "challenging-winning",
   "metadata": {},
   "outputs": [],
   "source": [
    "def print_metrics(y_pred, y_test, model):\n",
    "    print(\"Model results: \", type(model).__name__)\n",
    "    print(classification_report(y_test, y_pred))\n",
    "    print(\"Confusion matrix:\")\n",
    "    cm = confusion_matrix(y_test,y_pred, labels= model.classes_)\n",
    "    disp = ConfusionMatrixDisplay(confusion_matrix=cm,display_labels= model.classes_)\n",
    "    disp.plot()"
   ]
  },
  {
   "cell_type": "code",
   "execution_count": 36,
   "id": "british-difficulty",
   "metadata": {},
   "outputs": [],
   "source": [
    "def create_pipeline_rf():\n",
    "    \n",
    "    numeric_transformer = Pipeline(steps=[\n",
    "        ('imputer', SimpleImputer(strategy='median')),\n",
    "        ('scaler', StandardScaler())])\n",
    "\n",
    "    numeric_transformer2 = Pipeline(steps=[\n",
    "        ('imputer', SimpleImputer(strategy='mean'))])\n",
    "    \n",
    "    categorical_str_transformer = Pipeline(steps=[\n",
    "        ('imputer', SimpleImputer(strategy='most_frequent')),\n",
    "        ('one-hot', OneHotEncoder(handle_unknown='ignore'))])\n",
    "    \n",
    "    categorical_int_transformer = Pipeline(steps=[\n",
    "        ('imputer', SimpleImputer(strategy='constant', fill_value=-99)),\n",
    "        ('one-hot', OneHotEncoder(handle_unknown='ignore'))])\n",
    "    \n",
    "\n",
    "    preprocessor = ColumnTransformer(\n",
    "                                    transformers=[\n",
    "                                                  ('num1', numeric_transformer, numerical),\n",
    "                                                  ('num2', numeric_transformer2, numerical2),\n",
    "                                                  ('cat_str1', categorical_str_transformer, categorical_str),\n",
    "                                                  ('cat_int1', categorical_int_transformer, categorical_int),\n",
    "                                                  ], \n",
    "                                    remainder='passthrough')\n",
    "\n",
    "    pipeline = Pipeline(steps=[('preprocessor', preprocessor),\n",
    "                          ('f_selector', SelectKBest(f_classif, k='all')),\n",
    "                          ('classifier', RandomForestClassifier(class_weight='balanced', n_jobs=-1, random_state=0))])\n",
    "    \n",
    "    return pipeline"
   ]
  },
  {
   "cell_type": "markdown",
   "id": "animated-weekly",
   "metadata": {},
   "source": [
    "veriyi alırken\n",
    "\n",
    "1. random\n",
    "2. time based"
   ]
  },
  {
   "cell_type": "code",
   "execution_count": 37,
   "id": "banned-factory",
   "metadata": {},
   "outputs": [
    {
     "data": {
      "text/html": [
       "<div>\n",
       "<style scoped>\n",
       "    .dataframe tbody tr th:only-of-type {\n",
       "        vertical-align: middle;\n",
       "    }\n",
       "\n",
       "    .dataframe tbody tr th {\n",
       "        vertical-align: top;\n",
       "    }\n",
       "\n",
       "    .dataframe thead th {\n",
       "        text-align: right;\n",
       "    }\n",
       "</style>\n",
       "<table border=\"1\" class=\"dataframe\">\n",
       "  <thead>\n",
       "    <tr style=\"text-align: right;\">\n",
       "      <th></th>\n",
       "      <th>is_saved_card_trx</th>\n",
       "      <th>gender</th>\n",
       "      <th>zodiac</th>\n",
       "      <th>gender_id</th>\n",
       "      <th>category_id</th>\n",
       "      <th>color_id</th>\n",
       "      <th>order_weekday</th>\n",
       "      <th>order_week</th>\n",
       "      <th>brand_id</th>\n",
       "      <th>order_day</th>\n",
       "      <th>...</th>\n",
       "      <th>unresolvedclaim_percentage</th>\n",
       "      <th>unresolved_percentage</th>\n",
       "      <th>shifted_return_rate</th>\n",
       "      <th>item_return_rate_user</th>\n",
       "      <th>general_prod_return_rate</th>\n",
       "      <th>shifted_coupon_rate</th>\n",
       "      <th>is_elite_user</th>\n",
       "      <th>is_wallet_trx</th>\n",
       "      <th>is_bday_close</th>\n",
       "      <th>is_returned</th>\n",
       "    </tr>\n",
       "  </thead>\n",
       "  <tbody>\n",
       "    <tr>\n",
       "      <th>8614174</th>\n",
       "      <td>False</td>\n",
       "      <td>Bayan</td>\n",
       "      <td>none</td>\n",
       "      <td>4295.0</td>\n",
       "      <td>1182</td>\n",
       "      <td>7001.0</td>\n",
       "      <td>3</td>\n",
       "      <td>23</td>\n",
       "      <td>40</td>\n",
       "      <td>10</td>\n",
       "      <td>...</td>\n",
       "      <td>0.000000</td>\n",
       "      <td>0.000000</td>\n",
       "      <td>1.000000</td>\n",
       "      <td>0.333333</td>\n",
       "      <td>0.0</td>\n",
       "      <td>0.000000</td>\n",
       "      <td>0</td>\n",
       "      <td>1</td>\n",
       "      <td>0</td>\n",
       "      <td>1.0</td>\n",
       "    </tr>\n",
       "    <tr>\n",
       "      <th>4605637</th>\n",
       "      <td>False</td>\n",
       "      <td>Bayan</td>\n",
       "      <td>no-sign</td>\n",
       "      <td>4295.0</td>\n",
       "      <td>530</td>\n",
       "      <td>7001.0</td>\n",
       "      <td>2</td>\n",
       "      <td>26</td>\n",
       "      <td>4869</td>\n",
       "      <td>30</td>\n",
       "      <td>...</td>\n",
       "      <td>0.081633</td>\n",
       "      <td>0.003040</td>\n",
       "      <td>0.400000</td>\n",
       "      <td>0.300000</td>\n",
       "      <td>0.0</td>\n",
       "      <td>0.000000</td>\n",
       "      <td>0</td>\n",
       "      <td>0</td>\n",
       "      <td>0</td>\n",
       "      <td>1.0</td>\n",
       "    </tr>\n",
       "    <tr>\n",
       "      <th>11128756</th>\n",
       "      <td>False</td>\n",
       "      <td>UNKNOWN</td>\n",
       "      <td>none</td>\n",
       "      <td>4295.0</td>\n",
       "      <td>2160</td>\n",
       "      <td>7002.0</td>\n",
       "      <td>4</td>\n",
       "      <td>23</td>\n",
       "      <td>40</td>\n",
       "      <td>11</td>\n",
       "      <td>...</td>\n",
       "      <td>0.000000</td>\n",
       "      <td>0.000000</td>\n",
       "      <td>0.000000</td>\n",
       "      <td>0.000000</td>\n",
       "      <td>0.0</td>\n",
       "      <td>0.000000</td>\n",
       "      <td>0</td>\n",
       "      <td>0</td>\n",
       "      <td>0</td>\n",
       "      <td>1.0</td>\n",
       "    </tr>\n",
       "    <tr>\n",
       "      <th>583457</th>\n",
       "      <td>True</td>\n",
       "      <td>Bayan</td>\n",
       "      <td>gem</td>\n",
       "      <td>4295.0</td>\n",
       "      <td>1182</td>\n",
       "      <td>7012.0</td>\n",
       "      <td>2</td>\n",
       "      <td>23</td>\n",
       "      <td>8727</td>\n",
       "      <td>9</td>\n",
       "      <td>...</td>\n",
       "      <td>0.000000</td>\n",
       "      <td>0.000000</td>\n",
       "      <td>1.000000</td>\n",
       "      <td>0.818182</td>\n",
       "      <td>0.0</td>\n",
       "      <td>0.333333</td>\n",
       "      <td>1</td>\n",
       "      <td>0</td>\n",
       "      <td>0</td>\n",
       "      <td>1.0</td>\n",
       "    </tr>\n",
       "    <tr>\n",
       "      <th>4966427</th>\n",
       "      <td>False</td>\n",
       "      <td>Bayan</td>\n",
       "      <td>leo</td>\n",
       "      <td>4294.0</td>\n",
       "      <td>530</td>\n",
       "      <td>7003.0</td>\n",
       "      <td>4</td>\n",
       "      <td>26</td>\n",
       "      <td>15508</td>\n",
       "      <td>2</td>\n",
       "      <td>...</td>\n",
       "      <td>0.000000</td>\n",
       "      <td>0.000000</td>\n",
       "      <td>0.133333</td>\n",
       "      <td>0.074074</td>\n",
       "      <td>0.0</td>\n",
       "      <td>0.066667</td>\n",
       "      <td>1</td>\n",
       "      <td>0</td>\n",
       "      <td>0</td>\n",
       "      <td>1.0</td>\n",
       "    </tr>\n",
       "    <tr>\n",
       "      <th>...</th>\n",
       "      <td>...</td>\n",
       "      <td>...</td>\n",
       "      <td>...</td>\n",
       "      <td>...</td>\n",
       "      <td>...</td>\n",
       "      <td>...</td>\n",
       "      <td>...</td>\n",
       "      <td>...</td>\n",
       "      <td>...</td>\n",
       "      <td>...</td>\n",
       "      <td>...</td>\n",
       "      <td>...</td>\n",
       "      <td>...</td>\n",
       "      <td>...</td>\n",
       "      <td>...</td>\n",
       "      <td>...</td>\n",
       "      <td>...</td>\n",
       "      <td>...</td>\n",
       "      <td>...</td>\n",
       "      <td>...</td>\n",
       "      <td>...</td>\n",
       "    </tr>\n",
       "    <tr>\n",
       "      <th>8699147</th>\n",
       "      <td>True</td>\n",
       "      <td>Bayan</td>\n",
       "      <td>tau</td>\n",
       "      <td>4295.0</td>\n",
       "      <td>590</td>\n",
       "      <td>6998.0</td>\n",
       "      <td>2</td>\n",
       "      <td>22</td>\n",
       "      <td>40</td>\n",
       "      <td>2</td>\n",
       "      <td>...</td>\n",
       "      <td>0.000000</td>\n",
       "      <td>0.000000</td>\n",
       "      <td>0.000000</td>\n",
       "      <td>0.000000</td>\n",
       "      <td>0.0</td>\n",
       "      <td>0.000000</td>\n",
       "      <td>0</td>\n",
       "      <td>0</td>\n",
       "      <td>0</td>\n",
       "      <td>1.0</td>\n",
       "    </tr>\n",
       "    <tr>\n",
       "      <th>3444402</th>\n",
       "      <td>False</td>\n",
       "      <td>Bayan</td>\n",
       "      <td>leo</td>\n",
       "      <td>4295.0</td>\n",
       "      <td>947</td>\n",
       "      <td>7006.0</td>\n",
       "      <td>3</td>\n",
       "      <td>21</td>\n",
       "      <td>3268</td>\n",
       "      <td>27</td>\n",
       "      <td>...</td>\n",
       "      <td>0.264478</td>\n",
       "      <td>0.005093</td>\n",
       "      <td>0.555556</td>\n",
       "      <td>0.444444</td>\n",
       "      <td>0.0</td>\n",
       "      <td>0.111111</td>\n",
       "      <td>1</td>\n",
       "      <td>0</td>\n",
       "      <td>0</td>\n",
       "      <td>1.0</td>\n",
       "    </tr>\n",
       "    <tr>\n",
       "      <th>8038797</th>\n",
       "      <td>False</td>\n",
       "      <td>Bayan</td>\n",
       "      <td>none</td>\n",
       "      <td>4295.0</td>\n",
       "      <td>1186</td>\n",
       "      <td>6998.0</td>\n",
       "      <td>5</td>\n",
       "      <td>28</td>\n",
       "      <td>972248</td>\n",
       "      <td>17</td>\n",
       "      <td>...</td>\n",
       "      <td>0.639896</td>\n",
       "      <td>0.042780</td>\n",
       "      <td>0.157895</td>\n",
       "      <td>0.097561</td>\n",
       "      <td>0.0</td>\n",
       "      <td>0.000000</td>\n",
       "      <td>1</td>\n",
       "      <td>1</td>\n",
       "      <td>0</td>\n",
       "      <td>1.0</td>\n",
       "    </tr>\n",
       "    <tr>\n",
       "      <th>558227</th>\n",
       "      <td>False</td>\n",
       "      <td>Bayan</td>\n",
       "      <td>tau</td>\n",
       "      <td>4295.0</td>\n",
       "      <td>2160</td>\n",
       "      <td>7002.0</td>\n",
       "      <td>4</td>\n",
       "      <td>27</td>\n",
       "      <td>40</td>\n",
       "      <td>9</td>\n",
       "      <td>...</td>\n",
       "      <td>0.000000</td>\n",
       "      <td>0.000000</td>\n",
       "      <td>0.217391</td>\n",
       "      <td>0.166667</td>\n",
       "      <td>0.0</td>\n",
       "      <td>0.217391</td>\n",
       "      <td>1</td>\n",
       "      <td>1</td>\n",
       "      <td>0</td>\n",
       "      <td>1.0</td>\n",
       "    </tr>\n",
       "    <tr>\n",
       "      <th>6313113</th>\n",
       "      <td>False</td>\n",
       "      <td>Bayan</td>\n",
       "      <td>none</td>\n",
       "      <td>4294.0</td>\n",
       "      <td>530</td>\n",
       "      <td>6997.0</td>\n",
       "      <td>2</td>\n",
       "      <td>25</td>\n",
       "      <td>36453</td>\n",
       "      <td>23</td>\n",
       "      <td>...</td>\n",
       "      <td>0.555556</td>\n",
       "      <td>0.110429</td>\n",
       "      <td>0.333333</td>\n",
       "      <td>0.090909</td>\n",
       "      <td>0.0</td>\n",
       "      <td>0.000000</td>\n",
       "      <td>0</td>\n",
       "      <td>0</td>\n",
       "      <td>0</td>\n",
       "      <td>1.0</td>\n",
       "    </tr>\n",
       "  </tbody>\n",
       "</table>\n",
       "<p>400000 rows × 39 columns</p>\n",
       "</div>"
      ],
      "text/plain": [
       "         is_saved_card_trx   gender   zodiac  gender_id  category_id  \\\n",
       "8614174              False    Bayan     none     4295.0         1182   \n",
       "4605637              False    Bayan  no-sign     4295.0          530   \n",
       "11128756             False  UNKNOWN     none     4295.0         2160   \n",
       "583457                True    Bayan      gem     4295.0         1182   \n",
       "4966427              False    Bayan      leo     4294.0          530   \n",
       "...                    ...      ...      ...        ...          ...   \n",
       "8699147               True    Bayan      tau     4295.0          590   \n",
       "3444402              False    Bayan      leo     4295.0          947   \n",
       "8038797              False    Bayan     none     4295.0         1186   \n",
       "558227               False    Bayan      tau     4295.0         2160   \n",
       "6313113              False    Bayan     none     4294.0          530   \n",
       "\n",
       "          color_id order_weekday order_week  brand_id order_day  ...  \\\n",
       "8614174     7001.0             3         23        40        10  ...   \n",
       "4605637     7001.0             2         26      4869        30  ...   \n",
       "11128756    7002.0             4         23        40        11  ...   \n",
       "583457      7012.0             2         23      8727         9  ...   \n",
       "4966427     7003.0             4         26     15508         2  ...   \n",
       "...            ...           ...        ...       ...       ...  ...   \n",
       "8699147     6998.0             2         22        40         2  ...   \n",
       "3444402     7006.0             3         21      3268        27  ...   \n",
       "8038797     6998.0             5         28    972248        17  ...   \n",
       "558227      7002.0             4         27        40         9  ...   \n",
       "6313113     6997.0             2         25     36453        23  ...   \n",
       "\n",
       "         unresolvedclaim_percentage  unresolved_percentage  \\\n",
       "8614174                    0.000000               0.000000   \n",
       "4605637                    0.081633               0.003040   \n",
       "11128756                   0.000000               0.000000   \n",
       "583457                     0.000000               0.000000   \n",
       "4966427                    0.000000               0.000000   \n",
       "...                             ...                    ...   \n",
       "8699147                    0.000000               0.000000   \n",
       "3444402                    0.264478               0.005093   \n",
       "8038797                    0.639896               0.042780   \n",
       "558227                     0.000000               0.000000   \n",
       "6313113                    0.555556               0.110429   \n",
       "\n",
       "          shifted_return_rate  item_return_rate_user  \\\n",
       "8614174              1.000000               0.333333   \n",
       "4605637              0.400000               0.300000   \n",
       "11128756             0.000000               0.000000   \n",
       "583457               1.000000               0.818182   \n",
       "4966427              0.133333               0.074074   \n",
       "...                       ...                    ...   \n",
       "8699147              0.000000               0.000000   \n",
       "3444402              0.555556               0.444444   \n",
       "8038797              0.157895               0.097561   \n",
       "558227               0.217391               0.166667   \n",
       "6313113              0.333333               0.090909   \n",
       "\n",
       "          general_prod_return_rate  shifted_coupon_rate  is_elite_user  \\\n",
       "8614174                        0.0             0.000000              0   \n",
       "4605637                        0.0             0.000000              0   \n",
       "11128756                       0.0             0.000000              0   \n",
       "583457                         0.0             0.333333              1   \n",
       "4966427                        0.0             0.066667              1   \n",
       "...                            ...                  ...            ...   \n",
       "8699147                        0.0             0.000000              0   \n",
       "3444402                        0.0             0.111111              1   \n",
       "8038797                        0.0             0.000000              1   \n",
       "558227                         0.0             0.217391              1   \n",
       "6313113                        0.0             0.000000              0   \n",
       "\n",
       "          is_wallet_trx  is_bday_close  is_returned  \n",
       "8614174               1              0          1.0  \n",
       "4605637               0              0          1.0  \n",
       "11128756              0              0          1.0  \n",
       "583457                0              0          1.0  \n",
       "4966427               0              0          1.0  \n",
       "...                 ...            ...          ...  \n",
       "8699147               0              0          1.0  \n",
       "3444402               0              0          1.0  \n",
       "8038797               1              0          1.0  \n",
       "558227                1              0          1.0  \n",
       "6313113               0              0          1.0  \n",
       "\n",
       "[400000 rows x 39 columns]"
      ]
     },
     "execution_count": 37,
     "metadata": {},
     "output_type": "execute_result"
    }
   ],
   "source": [
    "pos_df = merged_df[merged_df['is_returned']==1].sample(200000)\n",
    "neg_df = merged_df[merged_df['is_returned']==0].sample(200000)\n",
    "\n",
    "model_df = pd.concat([pos_df, neg_df], axis=0)\n",
    "model_df.sample(frac=1)"
   ]
  },
  {
   "cell_type": "code",
   "execution_count": 38,
   "id": "southwest-lecture",
   "metadata": {},
   "outputs": [
    {
     "name": "stderr",
     "output_type": "stream",
     "text": [
      "C:\\Users\\IsmailKaraman\\anaconda3\\lib\\site-packages\\sklearn\\feature_selection\\_univariate_selection.py:114: UserWarning: Features [0] are constant.\n",
      "  warnings.warn(\"Features %s are constant.\" % constant_features_idx,\n",
      "C:\\Users\\IsmailKaraman\\anaconda3\\lib\\site-packages\\sklearn\\feature_selection\\_univariate_selection.py:116: RuntimeWarning: invalid value encountered in true_divide\n",
      "  f = msb / msw\n"
     ]
    }
   ],
   "source": [
    "y = model_df['is_returned']\n",
    "X = model_df[categorical_str+categorical_int+numerical+numerical2+passthrough]\n",
    "\n",
    "X_train, X_test, y_train, y_test = train_test_split(X, y, stratify=y, test_size=0.20, random_state=1)\n",
    "\n",
    "pipe1 = create_pipeline_rf()\n",
    "\n",
    "pipe1.fit(X_train, y_train)\n",
    "preds = pipe1.predict(X_test)"
   ]
  },
  {
   "cell_type": "code",
   "execution_count": 39,
   "id": "piano-stress",
   "metadata": {},
   "outputs": [
    {
     "name": "stdout",
     "output_type": "stream",
     "text": [
      "Model results:  Pipeline\n",
      "              precision    recall  f1-score   support\n",
      "\n",
      "         0.0       0.83      0.84      0.84     40000\n",
      "         1.0       0.84      0.83      0.83     40000\n",
      "\n",
      "    accuracy                           0.84     80000\n",
      "   macro avg       0.84      0.84      0.84     80000\n",
      "weighted avg       0.84      0.84      0.84     80000\n",
      "\n",
      "Confusion matrix:\n"
     ]
    },
    {
     "data": {
      "image/png": "[encoded data removed]",
      "text/plain": [
       "<Figure size 432x288 with 2 Axes>"
      ]
     },
     "metadata": {
      "needs_background": "light"
     },
     "output_type": "display_data"
    }
   ],
   "source": [
    "print_metrics(preds, y_test, pipe1)"
   ]
  },
  {
   "cell_type": "markdown",
   "id": "coordinate-ecology",
   "metadata": {},
   "source": [
    "### feature importance"
   ]
  },
  {
   "cell_type": "code",
   "execution_count": 100,
   "id": "million-emphasis",
   "metadata": {
    "scrolled": false
   },
   "outputs": [
    {
     "data": {
      "text/plain": [
       "<AxesSubplot:>"
      ]
     },
     "execution_count": 100,
     "metadata": {},
     "output_type": "execute_result"
    },
    {
     "data": {
      "image/png": "[encoded data removed]",
      "text/plain": [
       "<Figure size 576x576 with 1 Axes>"
      ]
     },
     "metadata": {
      "needs_background": "light"
     },
     "output_type": "display_data"
    }
   ],
   "source": [
    "%matplotlib inline\n",
    "#do code to support model\n",
    "#\"data\" is the X dataframe and model is the SKlearn object\n",
    "\n",
    "feats = {} # a dict to hold feature_name: feature_importance\n",
    "for feature, importance in zip(X.columns, pipe1['classifier'].feature_importances_):\n",
    "    feats[feature] = importance #add the name/value pair \n",
    "\n",
    "importances = pd.DataFrame.from_dict(feats, orient='index').rename(columns={0: 'importance'})\n",
    "importances.sort_values(by='importance').plot(kind='barh',figsize=(8,8))"
   ]
  },
  {
   "cell_type": "code",
   "execution_count": null,
   "id": "exceptional-valuation",
   "metadata": {},
   "outputs": [],
   "source": [
    "auto ml"
   ]
  },
  {
   "cell_type": "code",
   "execution_count": null,
   "id": "handy-cosmetic",
   "metadata": {},
   "outputs": [],
   "source": [
    "grid search"
   ]
  },
  {
   "cell_type": "code",
   "execution_count": null,
   "id": "lonely-sigma",
   "metadata": {},
   "outputs": [],
   "source": [
    "different encodings\n",
    "    category_name'i encoding? one-hot\n",
    "    \n",
    "    encodings:\n",
    "    \n",
    "    Frequency Encoding\n",
    "\n",
    "    Replace the values with its frequency\n",
    "    But be careful, some values may have same frequency\n",
    "    data[‘country’].value_counts()\n",
    "\n",
    "    Target Encoding (Mean encoding)\n",
    "\n",
    "    Each of the categories is the variable is replaced with the mean target value for that category\n",
    "    for each catergory in a column: sum of target / count of target "
   ]
  },
  {
   "cell_type": "code",
   "execution_count": null,
   "id": "lovely-shopping",
   "metadata": {},
   "outputs": [],
   "source": []
  },
  {
   "cell_type": "markdown",
   "id": "macro-strip",
   "metadata": {},
   "source": [
    "## validation"
   ]
  },
  {
   "cell_type": "code",
   "execution_count": 40,
   "id": "advanced-platform",
   "metadata": {},
   "outputs": [
    {
     "data": {
      "text/html": [
       "<div>\n",
       "<style scoped>\n",
       "    .dataframe tbody tr th:only-of-type {\n",
       "        vertical-align: middle;\n",
       "    }\n",
       "\n",
       "    .dataframe tbody tr th {\n",
       "        vertical-align: top;\n",
       "    }\n",
       "\n",
       "    .dataframe thead th {\n",
       "        text-align: right;\n",
       "    }\n",
       "</style>\n",
       "<table border=\"1\" class=\"dataframe\">\n",
       "  <thead>\n",
       "    <tr style=\"text-align: right;\">\n",
       "      <th></th>\n",
       "      <th>id</th>\n",
       "      <th>expected</th>\n",
       "    </tr>\n",
       "  </thead>\n",
       "  <tbody>\n",
       "    <tr>\n",
       "      <th>0</th>\n",
       "      <td>18115|87073974|726348863</td>\n",
       "      <td>NaN</td>\n",
       "    </tr>\n",
       "    <tr>\n",
       "      <th>1</th>\n",
       "      <td>27588|118753298|723169934</td>\n",
       "      <td>NaN</td>\n",
       "    </tr>\n",
       "  </tbody>\n",
       "</table>\n",
       "</div>"
      ],
      "text/plain": [
       "                          id  expected\n",
       "0   18115|87073974|726348863       NaN\n",
       "1  27588|118753298|723169934       NaN"
      ]
     },
     "execution_count": 40,
     "metadata": {},
     "output_type": "execute_result"
    }
   ],
   "source": [
    "data_path = r'C:\\Users\\IsmailKaraman\\workspace\\data\\trendyol\\\\'\n",
    "test_raw = pd.read_csv(data_path+'test_data.csv')\n",
    "test_raw.head(2)"
   ]
  },
  {
   "cell_type": "code",
   "execution_count": 41,
   "id": "educational-resistance",
   "metadata": {},
   "outputs": [],
   "source": [
    "test = test_raw.copy()\n",
    "test[['user_id', 'product_content_id', 'order_parent_id']] = test['id'].str.split('|',expand=True)\n",
    "test = test[['user_id', 'product_content_id', 'order_parent_id','expected']]"
   ]
  },
  {
   "cell_type": "code",
   "execution_count": 42,
   "id": "hairy-railway",
   "metadata": {
    "scrolled": true
   },
   "outputs": [
    {
     "data": {
      "text/html": [
       "<div>\n",
       "<style scoped>\n",
       "    .dataframe tbody tr th:only-of-type {\n",
       "        vertical-align: middle;\n",
       "    }\n",
       "\n",
       "    .dataframe tbody tr th {\n",
       "        vertical-align: top;\n",
       "    }\n",
       "\n",
       "    .dataframe thead th {\n",
       "        text-align: right;\n",
       "    }\n",
       "</style>\n",
       "<table border=\"1\" class=\"dataframe\">\n",
       "  <thead>\n",
       "    <tr style=\"text-align: right;\">\n",
       "      <th></th>\n",
       "      <th>user_id</th>\n",
       "      <th>product_content_id</th>\n",
       "      <th>order_parent_id</th>\n",
       "      <th>expected</th>\n",
       "    </tr>\n",
       "  </thead>\n",
       "  <tbody>\n",
       "    <tr>\n",
       "      <th>0</th>\n",
       "      <td>18115</td>\n",
       "      <td>87073974</td>\n",
       "      <td>726348863</td>\n",
       "      <td>NaN</td>\n",
       "    </tr>\n",
       "    <tr>\n",
       "      <th>1</th>\n",
       "      <td>27588</td>\n",
       "      <td>118753298</td>\n",
       "      <td>723169934</td>\n",
       "      <td>NaN</td>\n",
       "    </tr>\n",
       "    <tr>\n",
       "      <th>2</th>\n",
       "      <td>29165</td>\n",
       "      <td>35699988</td>\n",
       "      <td>724122443</td>\n",
       "      <td>NaN</td>\n",
       "    </tr>\n",
       "  </tbody>\n",
       "</table>\n",
       "</div>"
      ],
      "text/plain": [
       "  user_id product_content_id order_parent_id  expected\n",
       "0   18115           87073974       726348863       NaN\n",
       "1   27588          118753298       723169934       NaN\n",
       "2   29165           35699988       724122443       NaN"
      ]
     },
     "execution_count": 42,
     "metadata": {},
     "output_type": "execute_result"
    }
   ],
   "source": [
    "test.head(3)"
   ]
  },
  {
   "cell_type": "code",
   "execution_count": 43,
   "id": "systematic-content",
   "metadata": {},
   "outputs": [
    {
     "name": "stdout",
     "output_type": "stream",
     "text": [
      "<class 'pandas.core.frame.DataFrame'>\n",
      "Int64Index: 405282 entries, 11 to 11193586\n",
      "Data columns (total 62 columns):\n",
      " #   Column                      Non-Null Count   Dtype              \n",
      "---  ------                      --------------   -----              \n",
      " 0   order_date                  405282 non-null  datetime64[ns, UTC]\n",
      " 1   user_id                     405282 non-null  int64              \n",
      " 2   is_elite_user               405282 non-null  int32              \n",
      " 3   supplier_id                 405282 non-null  int64              \n",
      " 4   order_line_item_id          405282 non-null  int64              \n",
      " 5   order_parent_id             405282 non-null  int64              \n",
      " 6   product_variant_id          405282 non-null  int64              \n",
      " 7   original_price              405282 non-null  float32            \n",
      " 8   discounted_price            405282 non-null  float32            \n",
      " 9   ship_cost                   405282 non-null  float32            \n",
      " 10  coupon_id                   34784 non-null   object             \n",
      " 11  coupon_discount             405282 non-null  float32            \n",
      " 12  promotion_name              215919 non-null  object             \n",
      " 13  promotion_award_value       405282 non-null  float32            \n",
      " 14  is_wallet_trx               405282 non-null  category           \n",
      " 15  is_saved_card_trx           405282 non-null  category           \n",
      " 16  is_returned                 0 non-null       float64            \n",
      " 17  product_id                  405282 non-null  int64              \n",
      " 18  product_name                405282 non-null  object             \n",
      " 19  brand_id                    405282 non-null  int32              \n",
      " 20  brand_name                  405282 non-null  object             \n",
      " 21  gender_id                   404886 non-null  float64            \n",
      " 22  gender_name                 405282 non-null  object             \n",
      " 23  category_id                 405282 non-null  int32              \n",
      " 24  category_name               405282 non-null  object             \n",
      " 25  color_id                    405024 non-null  float64            \n",
      " 26  color_name                  405024 non-null  object             \n",
      " 27  supplier_color_name         405282 non-null  object             \n",
      " 28  attributet_name             405282 non-null  object             \n",
      " 29  attribute_value             405282 non-null  object             \n",
      " 30  n_unq_variants              405282 non-null  int64              \n",
      " 31  birth_date                  405282 non-null  datetime64[ns, UTC]\n",
      " 32  membership_date             405282 non-null  datetime64[ns, UTC]\n",
      " 33  gender                      405282 non-null  category           \n",
      " 34  returnRate                  405282 non-null  float64            \n",
      " 35  returnRate_def              405282 non-null  float64            \n",
      " 36  total_claim                 405103 non-null  float64            \n",
      " 37  unresolvedclaim_percentage  405103 non-null  float64            \n",
      " 38  unresolved_percentage       405103 non-null  float64            \n",
      " 39  product_content_id          405282 non-null  int64              \n",
      " 40  paid_amount                 405282 non-null  float32            \n",
      " 41  discount_ratio              405282 non-null  float64            \n",
      " 42  hour_interval               405282 non-null  category           \n",
      " 43  diff_order_memdate          405282 non-null  int32              \n",
      " 44  order_weekday               405282 non-null  category           \n",
      " 45  order_day                   405282 non-null  category           \n",
      " 46  order_week                  405282 non-null  category           \n",
      " 47  zodiac                      405282 non-null  category           \n",
      " 48  age                         405282 non-null  int32              \n",
      " 49  is_bday_close               405282 non-null  category           \n",
      " 50  shifted_return_rate         405282 non-null  float64            \n",
      " 51  item_return_rate_user       0 non-null       float64            \n",
      " 52  general_prod_return_rate    0 non-null       float64            \n",
      " 53  n_unique_prods_in_basket    405282 non-null  int64              \n",
      " 54  n_unique_cats_in_basket     405282 non-null  int64              \n",
      " 55  cart_amount_mean            405282 non-null  float32            \n",
      " 56  shifted_cum_mean_y          405282 non-null  float64            \n",
      " 57  cum_prod_counts_y           405282 non-null  float64            \n",
      " 58  cum_cat_counts_y            405282 non-null  float64            \n",
      " 59  past_total_paid             405282 non-null  float32            \n",
      " 60  past_avg_paid               405282 non-null  float32            \n",
      " 61  shifted_coupon_rate         405282 non-null  float64            \n",
      "dtypes: category(9), datetime64[ns, UTC](3), float32(9), float64(16), int32(5), int64(10), object(10)\n",
      "memory usage: 148.8+ MB\n"
     ]
    }
   ],
   "source": [
    "null_df.info()"
   ]
  },
  {
   "cell_type": "code",
   "execution_count": 44,
   "id": "outside-advice",
   "metadata": {},
   "outputs": [
    {
     "name": "stdout",
     "output_type": "stream",
     "text": [
      "<class 'pandas.core.frame.DataFrame'>\n",
      "RangeIndex: 7471 entries, 0 to 7470\n",
      "Data columns (total 4 columns):\n",
      " #   Column              Non-Null Count  Dtype  \n",
      "---  ------              --------------  -----  \n",
      " 0   user_id             7471 non-null   object \n",
      " 1   product_content_id  7471 non-null   object \n",
      " 2   order_parent_id     7471 non-null   object \n",
      " 3   expected            0 non-null      float64\n",
      "dtypes: float64(1), object(3)\n",
      "memory usage: 233.6+ KB\n"
     ]
    }
   ],
   "source": [
    "test.info()"
   ]
  },
  {
   "cell_type": "code",
   "execution_count": 45,
   "id": "western-waters",
   "metadata": {},
   "outputs": [],
   "source": [
    "test['user_id'] = test['user_id'].astype('int64') \n",
    "test['order_parent_id'] = test['order_parent_id'].astype('int64')\n",
    "test['product_content_id'] = test['product_content_id'].astype('int64')"
   ]
  },
  {
   "cell_type": "code",
   "execution_count": 48,
   "id": "constant-malawi",
   "metadata": {},
   "outputs": [
    {
     "data": {
      "text/plain": [
       "(405282, 62)"
      ]
     },
     "execution_count": 48,
     "metadata": {},
     "output_type": "execute_result"
    }
   ],
   "source": [
    "null_df.shape"
   ]
  },
  {
   "cell_type": "code",
   "execution_count": 49,
   "id": "incorporate-noise",
   "metadata": {},
   "outputs": [],
   "source": [
    "test_df = pd.merge(test, null_df, on=['user_id', 'product_content_id', 'order_parent_id'], how='left')"
   ]
  },
  {
   "cell_type": "code",
   "execution_count": 50,
   "id": "meaningful-token",
   "metadata": {},
   "outputs": [
    {
     "data": {
      "text/plain": [
       "(7471, 63)"
      ]
     },
     "execution_count": 50,
     "metadata": {},
     "output_type": "execute_result"
    }
   ],
   "source": [
    "test_df.shape"
   ]
  },
  {
   "cell_type": "code",
   "execution_count": 56,
   "id": "southern-bathroom",
   "metadata": {
    "scrolled": true
   },
   "outputs": [
    {
     "name": "stdout",
     "output_type": "stream",
     "text": [
      "user_id 0    0\n",
      "Name: user_id, dtype: int64\n",
      "product_content_id 0    0\n",
      "Name: product_content_id, dtype: int64\n",
      "order_parent_id 0    0\n",
      "Name: order_parent_id, dtype: int64\n",
      "expected 0    7471\n",
      "Name: expected, dtype: int64\n",
      "order_date 0    0\n",
      "Name: order_date, dtype: int64\n",
      "is_elite_user 0    0\n",
      "Name: is_elite_user, dtype: int64\n",
      "supplier_id 0    0\n",
      "Name: supplier_id, dtype: int64\n",
      "order_line_item_id 0    0\n",
      "Name: order_line_item_id, dtype: int64\n",
      "product_variant_id 0    0\n",
      "Name: product_variant_id, dtype: int64\n",
      "original_price 0    0\n",
      "Name: original_price, dtype: int64\n",
      "discounted_price 0    0\n",
      "Name: discounted_price, dtype: int64\n",
      "ship_cost 0    0\n",
      "Name: ship_cost, dtype: int64\n",
      "coupon_id 0    6872\n",
      "Name: coupon_id, dtype: int64\n",
      "coupon_discount 0    0\n",
      "Name: coupon_discount, dtype: int64\n",
      "promotion_name 0    2601\n",
      "Name: promotion_name, dtype: int64\n",
      "promotion_award_value 0    0\n",
      "Name: promotion_award_value, dtype: int64\n",
      "is_wallet_trx 0    0\n",
      "Name: is_wallet_trx, dtype: int64\n",
      "is_saved_card_trx 0    0\n",
      "Name: is_saved_card_trx, dtype: int64\n",
      "is_returned 0    7471\n",
      "Name: is_returned, dtype: int64\n",
      "product_id 0    0\n",
      "Name: product_id, dtype: int64\n",
      "product_name 0    0\n",
      "Name: product_name, dtype: int64\n",
      "brand_id 0    0\n",
      "Name: brand_id, dtype: int64\n",
      "brand_name 0    0\n",
      "Name: brand_name, dtype: int64\n",
      "gender_id 0    0\n",
      "Name: gender_id, dtype: int64\n",
      "gender_name 0    0\n",
      "Name: gender_name, dtype: int64\n",
      "category_id 0    0\n",
      "Name: category_id, dtype: int64\n",
      "category_name 0    0\n",
      "Name: category_name, dtype: int64\n",
      "color_id 0    0\n",
      "Name: color_id, dtype: int64\n",
      "color_name 0    0\n",
      "Name: color_name, dtype: int64\n",
      "supplier_color_name 0    0\n",
      "Name: supplier_color_name, dtype: int64\n",
      "attributet_name 0    0\n",
      "Name: attributet_name, dtype: int64\n",
      "attribute_value 0    0\n",
      "Name: attribute_value, dtype: int64\n",
      "n_unq_variants 0    0\n",
      "Name: n_unq_variants, dtype: int64\n",
      "birth_date 0    0\n",
      "Name: birth_date, dtype: int64\n",
      "membership_date 0    0\n",
      "Name: membership_date, dtype: int64\n",
      "gender 0    0\n",
      "Name: gender, dtype: int64\n",
      "returnRate 0    0\n",
      "Name: returnRate, dtype: int64\n",
      "returnRate_def 0    0\n",
      "Name: returnRate_def, dtype: int64\n",
      "total_claim 0    0\n",
      "Name: total_claim, dtype: int64\n",
      "unresolvedclaim_percentage 0    0\n",
      "Name: unresolvedclaim_percentage, dtype: int64\n",
      "unresolved_percentage 0    0\n",
      "Name: unresolved_percentage, dtype: int64\n",
      "paid_amount 0    0\n",
      "Name: paid_amount, dtype: int64\n",
      "discount_ratio 0    0\n",
      "Name: discount_ratio, dtype: int64\n",
      "hour_interval 0    0\n",
      "Name: hour_interval, dtype: int64\n",
      "diff_order_memdate 0    0\n",
      "Name: diff_order_memdate, dtype: int64\n",
      "order_weekday 0    0\n",
      "Name: order_weekday, dtype: int64\n",
      "order_day 0    0\n",
      "Name: order_day, dtype: int64\n",
      "order_week 0    0\n",
      "Name: order_week, dtype: int64\n",
      "zodiac 0    0\n",
      "Name: zodiac, dtype: int64\n",
      "age 0    0\n",
      "Name: age, dtype: int64\n",
      "is_bday_close 0    0\n",
      "Name: is_bday_close, dtype: int64\n",
      "shifted_return_rate 0    0\n",
      "Name: shifted_return_rate, dtype: int64\n",
      "item_return_rate_user 0    7471\n",
      "Name: item_return_rate_user, dtype: int64\n",
      "general_prod_return_rate 0    7471\n",
      "Name: general_prod_return_rate, dtype: int64\n",
      "n_unique_prods_in_basket 0    0\n",
      "Name: n_unique_prods_in_basket, dtype: int64\n",
      "n_unique_cats_in_basket 0    0\n",
      "Name: n_unique_cats_in_basket, dtype: int64\n",
      "cart_amount_mean 0    0\n",
      "Name: cart_amount_mean, dtype: int64\n",
      "shifted_cum_mean_y 0    0\n",
      "Name: shifted_cum_mean_y, dtype: int64\n",
      "cum_prod_counts_y 0    0\n",
      "Name: cum_prod_counts_y, dtype: int64\n",
      "cum_cat_counts_y 0    0\n",
      "Name: cum_cat_counts_y, dtype: int64\n",
      "past_total_paid 0    0\n",
      "Name: past_total_paid, dtype: int64\n",
      "past_avg_paid 0    0\n",
      "Name: past_avg_paid, dtype: int64\n",
      "shifted_coupon_rate 0    0\n",
      "Name: shifted_coupon_rate, dtype: int64\n"
     ]
    }
   ],
   "source": [
    "test_df.isna().sum()"
   ]
  },
  {
   "cell_type": "code",
   "execution_count": null,
   "id": "three-louisiana",
   "metadata": {},
   "outputs": [],
   "source": [
    "merged_df.columns"
   ]
  },
  {
   "cell_type": "code",
   "execution_count": 57,
   "id": "harmful-placement",
   "metadata": {},
   "outputs": [],
   "source": [
    "test_X = test_df[categorical_str+categorical_int+numerical+numerical2+passthrough]"
   ]
  },
  {
   "cell_type": "code",
   "execution_count": 58,
   "id": "behavioral-clock",
   "metadata": {},
   "outputs": [
    {
     "data": {
      "text/plain": [
       "is_saved_card_trx                0\n",
       "gender                           0\n",
       "zodiac                           0\n",
       "gender_id                        0\n",
       "category_id                      0\n",
       "color_id                         0\n",
       "order_weekday                    0\n",
       "order_week                       0\n",
       "brand_id                         0\n",
       "order_day                        0\n",
       "hour_interval                    0\n",
       "n_unq_variants                   0\n",
       "original_price                   0\n",
       "discounted_price                 0\n",
       "ship_cost                        0\n",
       "coupon_discount                  0\n",
       "age                              0\n",
       "diff_order_memdate               0\n",
       "total_claim                      0\n",
       "promotion_award_value            0\n",
       "discount_ratio                   0\n",
       "paid_amount                      0\n",
       "n_unique_prods_in_basket         0\n",
       "n_unique_cats_in_basket          0\n",
       "cart_amount_mean                 0\n",
       "past_avg_paid                    0\n",
       "past_total_paid                  0\n",
       "returnRate                       0\n",
       "returnRate_def                   0\n",
       "unresolvedclaim_percentage       0\n",
       "unresolved_percentage            0\n",
       "shifted_return_rate              0\n",
       "item_return_rate_user         7471\n",
       "general_prod_return_rate      7471\n",
       "shifted_coupon_rate              0\n",
       "is_elite_user                    0\n",
       "is_wallet_trx                    0\n",
       "is_bday_close                    0\n",
       "dtype: int64"
      ]
     },
     "execution_count": 58,
     "metadata": {},
     "output_type": "execute_result"
    }
   ],
   "source": [
    "test_X.isna().sum()"
   ]
  },
  {
   "cell_type": "code",
   "execution_count": 60,
   "id": "mysterious-stanford",
   "metadata": {},
   "outputs": [],
   "source": [
    "expected = pipe1.predict(test_df[categorical_str+categorical_int+numerical+numerical2+passthrough])"
   ]
  },
  {
   "cell_type": "code",
   "execution_count": 65,
   "id": "sophisticated-billy",
   "metadata": {},
   "outputs": [],
   "source": [
    "test_raw['expected'] = expected"
   ]
  },
  {
   "cell_type": "code",
   "execution_count": 69,
   "id": "bridal-portland",
   "metadata": {},
   "outputs": [],
   "source": [
    "test_raw['expected'] = test_raw['expected'].astype('int32')"
   ]
  },
  {
   "cell_type": "code",
   "execution_count": 70,
   "id": "green-runner",
   "metadata": {},
   "outputs": [],
   "source": [
    "test_raw.to_csv('output.csv', index=False)"
   ]
  },
  {
   "cell_type": "code",
   "execution_count": null,
   "id": "color-colors",
   "metadata": {},
   "outputs": [],
   "source": []
  }
 ],
 "metadata": {
  "kernelspec": {
   "display_name": "Python 3",
   "language": "python",
   "name": "python3"
  },
  "language_info": {
   "codemirror_mode": {
    "name": "ipython",
    "version": 3
   },
   "file_extension": ".py",
   "mimetype": "text/x-python",
   "name": "python",
   "nbconvert_exporter": "python",
   "pygments_lexer": "ipython3",
   "version": "3.8.5"
  }
 },
 "nbformat": 4,
 "nbformat_minor": 5
}
