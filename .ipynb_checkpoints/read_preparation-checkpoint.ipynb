{
 "cells": [
  {
   "cell_type": "code",
   "execution_count": 1,
   "id": "eligible-electronics",
   "metadata": {},
   "outputs": [],
   "source": [
    "data_path = r'C:\\Users\\IsmailKaraman\\workspace\\data\\trendyol\\\\'"
   ]
  },
  {
   "cell_type": "code",
   "execution_count": 2,
   "id": "twelve-helmet",
   "metadata": {},
   "outputs": [],
   "source": [
    "import pandas as pd\n",
    "import seaborn as sns\n",
    "from datetime import time\n",
    "from datetime import datetime\n",
    "from dateutil import parser\n",
    "import matplotlib.pyplot as plt"
   ]
  },
  {
   "cell_type": "code",
   "execution_count": 3,
   "id": "qualified-field",
   "metadata": {
    "scrolled": true
   },
   "outputs": [],
   "source": [
    "data_products = pd.read_csv(data_path+\"products.csv\")\n",
    "data_tra = pd.read_csv(data_path+\"transactions.csv\", parse_dates=['order_date'])\n",
    "\n",
    "data_user_dem = pd.read_csv(data_path+\"user_demographics.csv\", parse_dates=['membership_date', 'birth_date'])\n",
    "data_sup_def = pd.read_csv(data_path+\"supplier_defective_return.csv\")\n",
    "data_sup_return = pd.read_csv(data_path+\"supplier_return.csv\")\n",
    "data_sup_disp = pd.read_csv(data_path+\"supplier_disputed_return.csv\")\n",
    "\n",
    "data_reviews = pd.read_csv(data_path+\"reviews.csv\")\n",
    "data_qa = pd.read_csv(data_path+\"qa.csv\")"
   ]
  },
  {
   "cell_type": "markdown",
   "id": "optional-selling",
   "metadata": {},
   "source": [
    "## data transactions"
   ]
  },
  {
   "cell_type": "code",
   "execution_count": 4,
   "id": "amended-terrorism",
   "metadata": {},
   "outputs": [
    {
     "data": {
      "text/html": [
       "<div>\n",
       "<style scoped>\n",
       "    .dataframe tbody tr th:only-of-type {\n",
       "        vertical-align: middle;\n",
       "    }\n",
       "\n",
       "    .dataframe tbody tr th {\n",
       "        vertical-align: top;\n",
       "    }\n",
       "\n",
       "    .dataframe thead th {\n",
       "        text-align: right;\n",
       "    }\n",
       "</style>\n",
       "<table border=\"1\" class=\"dataframe\">\n",
       "  <thead>\n",
       "    <tr style=\"text-align: right;\">\n",
       "      <th></th>\n",
       "      <th>order_date</th>\n",
       "      <th>user_id</th>\n",
       "      <th>is_elite_user</th>\n",
       "      <th>supplier_id</th>\n",
       "      <th>order_line_item_id</th>\n",
       "      <th>order_parent_id</th>\n",
       "      <th>product_content_id</th>\n",
       "      <th>product_variant_id</th>\n",
       "      <th>original_price</th>\n",
       "      <th>discounted_price</th>\n",
       "      <th>ship_cost</th>\n",
       "      <th>coupon_id</th>\n",
       "      <th>coupon_discount</th>\n",
       "      <th>promotion_name</th>\n",
       "      <th>promotion_award_value</th>\n",
       "      <th>is_wallet_trx</th>\n",
       "      <th>is_saved_card_trx</th>\n",
       "      <th>is_returned</th>\n",
       "    </tr>\n",
       "  </thead>\n",
       "  <tbody>\n",
       "    <tr>\n",
       "      <th>0</th>\n",
       "      <td>2021-05-01 00:00:01.761000+00:00</td>\n",
       "      <td>3941815</td>\n",
       "      <td>0</td>\n",
       "      <td>4662</td>\n",
       "      <td>901280147</td>\n",
       "      <td>595758968</td>\n",
       "      <td>95503167</td>\n",
       "      <td>159147197</td>\n",
       "      <td>79.90</td>\n",
       "      <td>51.94</td>\n",
       "      <td>8.88</td>\n",
       "      <td>NaN</td>\n",
       "      <td>0.0</td>\n",
       "      <td>Sepette %35 İndirim</td>\n",
       "      <td>35.0</td>\n",
       "      <td>0</td>\n",
       "      <td>True</td>\n",
       "      <td>0.0</td>\n",
       "    </tr>\n",
       "    <tr>\n",
       "      <th>1</th>\n",
       "      <td>2021-05-01 00:00:01.761000+00:00</td>\n",
       "      <td>3941815</td>\n",
       "      <td>0</td>\n",
       "      <td>163</td>\n",
       "      <td>901280149</td>\n",
       "      <td>595758968</td>\n",
       "      <td>36313798</td>\n",
       "      <td>64622938</td>\n",
       "      <td>129.95</td>\n",
       "      <td>59.97</td>\n",
       "      <td>9.40</td>\n",
       "      <td>NaN</td>\n",
       "      <td>0.0</td>\n",
       "      <td>Sepette %40 İndirim</td>\n",
       "      <td>40.0</td>\n",
       "      <td>0</td>\n",
       "      <td>True</td>\n",
       "      <td>0.0</td>\n",
       "    </tr>\n",
       "  </tbody>\n",
       "</table>\n",
       "</div>"
      ],
      "text/plain": [
       "                        order_date  user_id  is_elite_user  supplier_id  \\\n",
       "0 2021-05-01 00:00:01.761000+00:00  3941815              0         4662   \n",
       "1 2021-05-01 00:00:01.761000+00:00  3941815              0          163   \n",
       "\n",
       "   order_line_item_id  order_parent_id  product_content_id  \\\n",
       "0           901280147        595758968            95503167   \n",
       "1           901280149        595758968            36313798   \n",
       "\n",
       "   product_variant_id  original_price  discounted_price  ship_cost coupon_id  \\\n",
       "0           159147197           79.90             51.94       8.88       NaN   \n",
       "1            64622938          129.95             59.97       9.40       NaN   \n",
       "\n",
       "   coupon_discount       promotion_name  promotion_award_value  is_wallet_trx  \\\n",
       "0              0.0  Sepette %35 İndirim                   35.0              0   \n",
       "1              0.0  Sepette %40 İndirim                   40.0              0   \n",
       "\n",
       "   is_saved_card_trx  is_returned  \n",
       "0               True          0.0  \n",
       "1               True          0.0  "
      ]
     },
     "execution_count": 4,
     "metadata": {},
     "output_type": "execute_result"
    }
   ],
   "source": [
    "data_tra.head(2)"
   ]
  },
  {
   "cell_type": "markdown",
   "id": "assumed-devices",
   "metadata": {},
   "source": [
    "## data products"
   ]
  },
  {
   "cell_type": "code",
   "execution_count": 5,
   "id": "beginning-medication",
   "metadata": {
    "scrolled": false
   },
   "outputs": [
    {
     "data": {
      "text/html": [
       "<div>\n",
       "<style scoped>\n",
       "    .dataframe tbody tr th:only-of-type {\n",
       "        vertical-align: middle;\n",
       "    }\n",
       "\n",
       "    .dataframe tbody tr th {\n",
       "        vertical-align: top;\n",
       "    }\n",
       "\n",
       "    .dataframe thead th {\n",
       "        text-align: right;\n",
       "    }\n",
       "</style>\n",
       "<table border=\"1\" class=\"dataframe\">\n",
       "  <thead>\n",
       "    <tr style=\"text-align: right;\">\n",
       "      <th></th>\n",
       "      <th>product_id</th>\n",
       "      <th>product_content_id</th>\n",
       "      <th>product_variant_id</th>\n",
       "      <th>product_name</th>\n",
       "      <th>brand_id</th>\n",
       "      <th>brand_name</th>\n",
       "      <th>gender_id</th>\n",
       "      <th>gender_name</th>\n",
       "      <th>category_id</th>\n",
       "      <th>category_name</th>\n",
       "      <th>color_id</th>\n",
       "      <th>color_name</th>\n",
       "      <th>supplier_color_name</th>\n",
       "      <th>attributet_name</th>\n",
       "      <th>attribute_value</th>\n",
       "    </tr>\n",
       "  </thead>\n",
       "  <tbody>\n",
       "    <tr>\n",
       "      <th>0</th>\n",
       "      <td>86747186</td>\n",
       "      <td>49156804</td>\n",
       "      <td>87148849</td>\n",
       "      <td>3'lü Müslin Örtü Seti - %100 Pamuk Bebek Müsli...</td>\n",
       "      <td>995186</td>\n",
       "      <td>Li Puna</td>\n",
       "      <td>NaN</td>\n",
       "      <td>Unknown</td>\n",
       "      <td>4979</td>\n",
       "      <td>Müslin Bez</td>\n",
       "      <td>NaN</td>\n",
       "      <td>NaN</td>\n",
       "      <td>UNKNOWN</td>\n",
       "      <td>BEDEN</td>\n",
       "      <td>Tek Ebat</td>\n",
       "    </tr>\n",
       "    <tr>\n",
       "      <th>1</th>\n",
       "      <td>37159399</td>\n",
       "      <td>44391553</td>\n",
       "      <td>78625630</td>\n",
       "      <td>Haşema Nehar Bakır Çizgili Boru Paça Siyah Tes...</td>\n",
       "      <td>35046</td>\n",
       "      <td>Remsa Mayo</td>\n",
       "      <td>4295.0</td>\n",
       "      <td>Kadın / Kız</td>\n",
       "      <td>2760</td>\n",
       "      <td>Tesettür Mayo</td>\n",
       "      <td>7005.0</td>\n",
       "      <td>Metalik</td>\n",
       "      <td>BAKIR</td>\n",
       "      <td>BEDEN</td>\n",
       "      <td>XL</td>\n",
       "    </tr>\n",
       "    <tr>\n",
       "      <th>2</th>\n",
       "      <td>83771873</td>\n",
       "      <td>96708156</td>\n",
       "      <td>161092495</td>\n",
       "      <td>Zincir Fantezi Bel Zinciri-0610</td>\n",
       "      <td>1074023</td>\n",
       "      <td>vonda wear</td>\n",
       "      <td>4295.0</td>\n",
       "      <td>Kadın / Kız</td>\n",
       "      <td>3098</td>\n",
       "      <td>Fantezi Aksesuar</td>\n",
       "      <td>6996.0</td>\n",
       "      <td>Altın</td>\n",
       "      <td>Gold</td>\n",
       "      <td>BEDEN</td>\n",
       "      <td>Tek Ebat</td>\n",
       "    </tr>\n",
       "    <tr>\n",
       "      <th>3</th>\n",
       "      <td>66208922</td>\n",
       "      <td>77520098</td>\n",
       "      <td>132019116</td>\n",
       "      <td>Kadın Haki Yeşili Renkli Cerrahi Takım</td>\n",
       "      <td>961534</td>\n",
       "      <td>Moodamedikal</td>\n",
       "      <td>NaN</td>\n",
       "      <td>Unknown</td>\n",
       "      <td>3914</td>\n",
       "      <td>İş Kıyafetleri</td>\n",
       "      <td>NaN</td>\n",
       "      <td>NaN</td>\n",
       "      <td>UNKNOWN</td>\n",
       "      <td>BEDEN</td>\n",
       "      <td>XS</td>\n",
       "    </tr>\n",
       "    <tr>\n",
       "      <th>4</th>\n",
       "      <td>68189697</td>\n",
       "      <td>79713829</td>\n",
       "      <td>135202630</td>\n",
       "      <td>Ibıza Uzun Tunik</td>\n",
       "      <td>1021561</td>\n",
       "      <td>Jadeandmate</td>\n",
       "      <td>4295.0</td>\n",
       "      <td>Kadın / Kız</td>\n",
       "      <td>1018</td>\n",
       "      <td>Plaj Elbisesi</td>\n",
       "      <td>6996.0</td>\n",
       "      <td>Altın</td>\n",
       "      <td>Multi</td>\n",
       "      <td>BEDEN</td>\n",
       "      <td>M/L</td>\n",
       "    </tr>\n",
       "  </tbody>\n",
       "</table>\n",
       "</div>"
      ],
      "text/plain": [
       "   product_id  product_content_id  product_variant_id  \\\n",
       "0    86747186            49156804            87148849   \n",
       "1    37159399            44391553            78625630   \n",
       "2    83771873            96708156           161092495   \n",
       "3    66208922            77520098           132019116   \n",
       "4    68189697            79713829           135202630   \n",
       "\n",
       "                                        product_name  brand_id    brand_name  \\\n",
       "0  3'lü Müslin Örtü Seti - %100 Pamuk Bebek Müsli...    995186       Li Puna   \n",
       "1  Haşema Nehar Bakır Çizgili Boru Paça Siyah Tes...     35046    Remsa Mayo   \n",
       "2                    Zincir Fantezi Bel Zinciri-0610   1074023    vonda wear   \n",
       "3             Kadın Haki Yeşili Renkli Cerrahi Takım    961534  Moodamedikal   \n",
       "4                                   Ibıza Uzun Tunik   1021561   Jadeandmate   \n",
       "\n",
       "   gender_id  gender_name  category_id     category_name  color_id color_name  \\\n",
       "0        NaN      Unknown         4979        Müslin Bez       NaN        NaN   \n",
       "1     4295.0  Kadın / Kız         2760     Tesettür Mayo    7005.0    Metalik   \n",
       "2     4295.0  Kadın / Kız         3098  Fantezi Aksesuar    6996.0      Altın   \n",
       "3        NaN      Unknown         3914    İş Kıyafetleri       NaN        NaN   \n",
       "4     4295.0  Kadın / Kız         1018     Plaj Elbisesi    6996.0      Altın   \n",
       "\n",
       "  supplier_color_name attributet_name attribute_value  \n",
       "0             UNKNOWN           BEDEN        Tek Ebat  \n",
       "1               BAKIR           BEDEN              XL  \n",
       "2                Gold           BEDEN        Tek Ebat  \n",
       "3             UNKNOWN           BEDEN              XS  \n",
       "4               Multi           BEDEN             M/L  "
      ]
     },
     "execution_count": 5,
     "metadata": {},
     "output_type": "execute_result"
    }
   ],
   "source": [
    "data_products.head()"
   ]
  },
  {
   "cell_type": "code",
   "execution_count": 6,
   "id": "proper-faith",
   "metadata": {},
   "outputs": [
    {
     "data": {
      "text/plain": [
       "(1457567, 15)"
      ]
     },
     "execution_count": 6,
     "metadata": {},
     "output_type": "execute_result"
    }
   ],
   "source": [
    "data_products.shape"
   ]
  },
  {
   "cell_type": "markdown",
   "id": "adopted-culture",
   "metadata": {},
   "source": [
    "## data_user_dem"
   ]
  },
  {
   "cell_type": "code",
   "execution_count": 7,
   "id": "fixed-throw",
   "metadata": {},
   "outputs": [
    {
     "data": {
      "text/html": [
       "<div>\n",
       "<style scoped>\n",
       "    .dataframe tbody tr th:only-of-type {\n",
       "        vertical-align: middle;\n",
       "    }\n",
       "\n",
       "    .dataframe tbody tr th {\n",
       "        vertical-align: top;\n",
       "    }\n",
       "\n",
       "    .dataframe thead th {\n",
       "        text-align: right;\n",
       "    }\n",
       "</style>\n",
       "<table border=\"1\" class=\"dataframe\">\n",
       "  <thead>\n",
       "    <tr style=\"text-align: right;\">\n",
       "      <th></th>\n",
       "      <th>user_id</th>\n",
       "      <th>birth_date</th>\n",
       "      <th>membership_date</th>\n",
       "      <th>gender</th>\n",
       "    </tr>\n",
       "  </thead>\n",
       "  <tbody>\n",
       "    <tr>\n",
       "      <th>0</th>\n",
       "      <td>22013146</td>\n",
       "      <td>NaN</td>\n",
       "      <td>2019-05-09 11:11:17.413000+00:00</td>\n",
       "      <td>Bay</td>\n",
       "    </tr>\n",
       "    <tr>\n",
       "      <th>1</th>\n",
       "      <td>49707264</td>\n",
       "      <td>NaN</td>\n",
       "      <td>2020-12-19 18:32:16.240000+00:00</td>\n",
       "      <td>Bay</td>\n",
       "    </tr>\n",
       "  </tbody>\n",
       "</table>\n",
       "</div>"
      ],
      "text/plain": [
       "    user_id birth_date                  membership_date gender\n",
       "0  22013146        NaN 2019-05-09 11:11:17.413000+00:00    Bay\n",
       "1  49707264        NaN 2020-12-19 18:32:16.240000+00:00    Bay"
      ]
     },
     "execution_count": 7,
     "metadata": {},
     "output_type": "execute_result"
    }
   ],
   "source": [
    "data_user_dem.head(2)"
   ]
  },
  {
   "cell_type": "code",
   "execution_count": 8,
   "id": "computational-beginning",
   "metadata": {
    "scrolled": true
   },
   "outputs": [
    {
     "data": {
      "text/plain": [
       "<AxesSubplot:>"
      ]
     },
     "execution_count": 8,
     "metadata": {},
     "output_type": "execute_result"
    },
    {
     "data": {
      "image/png": "[encoded data removed]",
      "text/plain": [
       "<Figure size 432x288 with 1 Axes>"
      ]
     },
     "metadata": {
      "needs_background": "light"
     },
     "output_type": "display_data"
    }
   ],
   "source": [
    "data_user_dem['gender'].hist(bins=50)"
   ]
  },
  {
   "cell_type": "markdown",
   "id": "caring-norfolk",
   "metadata": {},
   "source": [
    "## data_sup_def"
   ]
  },
  {
   "cell_type": "code",
   "execution_count": 9,
   "id": "indirect-paragraph",
   "metadata": {},
   "outputs": [
    {
     "data": {
      "text/html": [
       "<div>\n",
       "<style scoped>\n",
       "    .dataframe tbody tr th:only-of-type {\n",
       "        vertical-align: middle;\n",
       "    }\n",
       "\n",
       "    .dataframe tbody tr th {\n",
       "        vertical-align: top;\n",
       "    }\n",
       "\n",
       "    .dataframe thead th {\n",
       "        text-align: right;\n",
       "    }\n",
       "</style>\n",
       "<table border=\"1\" class=\"dataframe\">\n",
       "  <thead>\n",
       "    <tr style=\"text-align: right;\">\n",
       "      <th></th>\n",
       "      <th>supplier_id</th>\n",
       "      <th>returnRate</th>\n",
       "    </tr>\n",
       "  </thead>\n",
       "  <tbody>\n",
       "    <tr>\n",
       "      <th>0</th>\n",
       "      <td>161841</td>\n",
       "      <td>0.0</td>\n",
       "    </tr>\n",
       "    <tr>\n",
       "      <th>1</th>\n",
       "      <td>201226</td>\n",
       "      <td>0.0</td>\n",
       "    </tr>\n",
       "    <tr>\n",
       "      <th>2</th>\n",
       "      <td>108251</td>\n",
       "      <td>0.0</td>\n",
       "    </tr>\n",
       "  </tbody>\n",
       "</table>\n",
       "</div>"
      ],
      "text/plain": [
       "   supplier_id  returnRate\n",
       "0       161841         0.0\n",
       "1       201226         0.0\n",
       "2       108251         0.0"
      ]
     },
     "execution_count": 9,
     "metadata": {},
     "output_type": "execute_result"
    }
   ],
   "source": [
    "data_sup_def.head(3)"
   ]
  },
  {
   "cell_type": "code",
   "execution_count": 10,
   "id": "partial-cooler",
   "metadata": {},
   "outputs": [
    {
     "data": {
      "text/plain": [
       "<AxesSubplot:ylabel='Density'>"
      ]
     },
     "execution_count": 10,
     "metadata": {},
     "output_type": "execute_result"
    },
    {
     "data": {
      "image/png": "[encoded data removed]",
      "text/plain": [
       "<Figure size 432x288 with 1 Axes>"
      ]
     },
     "metadata": {
      "needs_background": "light"
     },
     "output_type": "display_data"
    }
   ],
   "source": [
    "data_sup_def['returnRate'].plot(kind='kde')"
   ]
  },
  {
   "cell_type": "markdown",
   "id": "lined-barcelona",
   "metadata": {},
   "source": [
    "## data_sup_return"
   ]
  },
  {
   "cell_type": "code",
   "execution_count": 11,
   "id": "hired-banana",
   "metadata": {},
   "outputs": [
    {
     "data": {
      "text/html": [
       "<div>\n",
       "<style scoped>\n",
       "    .dataframe tbody tr th:only-of-type {\n",
       "        vertical-align: middle;\n",
       "    }\n",
       "\n",
       "    .dataframe tbody tr th {\n",
       "        vertical-align: top;\n",
       "    }\n",
       "\n",
       "    .dataframe thead th {\n",
       "        text-align: right;\n",
       "    }\n",
       "</style>\n",
       "<table border=\"1\" class=\"dataframe\">\n",
       "  <thead>\n",
       "    <tr style=\"text-align: right;\">\n",
       "      <th></th>\n",
       "      <th>supplier_id</th>\n",
       "      <th>returnRate</th>\n",
       "    </tr>\n",
       "  </thead>\n",
       "  <tbody>\n",
       "    <tr>\n",
       "      <th>0</th>\n",
       "      <td>247019</td>\n",
       "      <td>0.0</td>\n",
       "    </tr>\n",
       "    <tr>\n",
       "      <th>1</th>\n",
       "      <td>264022</td>\n",
       "      <td>0.0</td>\n",
       "    </tr>\n",
       "  </tbody>\n",
       "</table>\n",
       "</div>"
      ],
      "text/plain": [
       "   supplier_id  returnRate\n",
       "0       247019         0.0\n",
       "1       264022         0.0"
      ]
     },
     "execution_count": 11,
     "metadata": {},
     "output_type": "execute_result"
    }
   ],
   "source": [
    "data_sup_return.head(2)"
   ]
  },
  {
   "cell_type": "code",
   "execution_count": 12,
   "id": "empirical-chair",
   "metadata": {},
   "outputs": [
    {
     "data": {
      "text/plain": [
       "<AxesSubplot:ylabel='Density'>"
      ]
     },
     "execution_count": 12,
     "metadata": {},
     "output_type": "execute_result"
    },
    {
     "data": {
      "image/png": "[encoded data removed]",
      "text/plain": [
       "<Figure size 432x288 with 1 Axes>"
      ]
     },
     "metadata": {
      "needs_background": "light"
     },
     "output_type": "display_data"
    }
   ],
   "source": [
    "data_sup_return['returnRate'].plot(kind='kde')"
   ]
  },
  {
   "cell_type": "code",
   "execution_count": 13,
   "id": "supported-willow",
   "metadata": {},
   "outputs": [
    {
     "data": {
      "text/html": [
       "<div>\n",
       "<style scoped>\n",
       "    .dataframe tbody tr th:only-of-type {\n",
       "        vertical-align: middle;\n",
       "    }\n",
       "\n",
       "    .dataframe tbody tr th {\n",
       "        vertical-align: top;\n",
       "    }\n",
       "\n",
       "    .dataframe thead th {\n",
       "        text-align: right;\n",
       "    }\n",
       "</style>\n",
       "<table border=\"1\" class=\"dataframe\">\n",
       "  <thead>\n",
       "    <tr style=\"text-align: right;\">\n",
       "      <th></th>\n",
       "      <th>supplier_id</th>\n",
       "      <th>returnRate</th>\n",
       "    </tr>\n",
       "  </thead>\n",
       "  <tbody>\n",
       "    <tr>\n",
       "      <th>count</th>\n",
       "      <td>22536.000000</td>\n",
       "      <td>22536.000000</td>\n",
       "    </tr>\n",
       "    <tr>\n",
       "      <th>mean</th>\n",
       "      <td>248854.356097</td>\n",
       "      <td>0.096032</td>\n",
       "    </tr>\n",
       "    <tr>\n",
       "      <th>std</th>\n",
       "      <td>96391.457295</td>\n",
       "      <td>0.091749</td>\n",
       "    </tr>\n",
       "    <tr>\n",
       "      <th>min</th>\n",
       "      <td>62.000000</td>\n",
       "      <td>0.000000</td>\n",
       "    </tr>\n",
       "    <tr>\n",
       "      <th>25%</th>\n",
       "      <td>170489.000000</td>\n",
       "      <td>0.027778</td>\n",
       "    </tr>\n",
       "    <tr>\n",
       "      <th>50%</th>\n",
       "      <td>243647.500000</td>\n",
       "      <td>0.073961</td>\n",
       "    </tr>\n",
       "    <tr>\n",
       "      <th>75%</th>\n",
       "      <td>330740.500000</td>\n",
       "      <td>0.141078</td>\n",
       "    </tr>\n",
       "    <tr>\n",
       "      <th>max</th>\n",
       "      <td>434994.000000</td>\n",
       "      <td>1.000000</td>\n",
       "    </tr>\n",
       "  </tbody>\n",
       "</table>\n",
       "</div>"
      ],
      "text/plain": [
       "         supplier_id    returnRate\n",
       "count   22536.000000  22536.000000\n",
       "mean   248854.356097      0.096032\n",
       "std     96391.457295      0.091749\n",
       "min        62.000000      0.000000\n",
       "25%    170489.000000      0.027778\n",
       "50%    243647.500000      0.073961\n",
       "75%    330740.500000      0.141078\n",
       "max    434994.000000      1.000000"
      ]
     },
     "execution_count": 13,
     "metadata": {},
     "output_type": "execute_result"
    }
   ],
   "source": [
    "data_sup_return.describe()"
   ]
  },
  {
   "cell_type": "markdown",
   "id": "optical-ozone",
   "metadata": {},
   "source": [
    "## data_sup_disp"
   ]
  },
  {
   "cell_type": "code",
   "execution_count": 14,
   "id": "hidden-festival",
   "metadata": {},
   "outputs": [
    {
     "data": {
      "text/html": [
       "<div>\n",
       "<style scoped>\n",
       "    .dataframe tbody tr th:only-of-type {\n",
       "        vertical-align: middle;\n",
       "    }\n",
       "\n",
       "    .dataframe tbody tr th {\n",
       "        vertical-align: top;\n",
       "    }\n",
       "\n",
       "    .dataframe thead th {\n",
       "        text-align: right;\n",
       "    }\n",
       "</style>\n",
       "<table border=\"1\" class=\"dataframe\">\n",
       "  <thead>\n",
       "    <tr style=\"text-align: right;\">\n",
       "      <th></th>\n",
       "      <th>supplier_id</th>\n",
       "      <th>total_claim</th>\n",
       "      <th>unresolved_claim</th>\n",
       "      <th>unresolved_accepted_claim</th>\n",
       "      <th>unresolvedclaim_percentage</th>\n",
       "    </tr>\n",
       "  </thead>\n",
       "  <tbody>\n",
       "    <tr>\n",
       "      <th>0</th>\n",
       "      <td>344</td>\n",
       "      <td>164</td>\n",
       "      <td>0</td>\n",
       "      <td>0</td>\n",
       "      <td>0.0</td>\n",
       "    </tr>\n",
       "    <tr>\n",
       "      <th>1</th>\n",
       "      <td>263495</td>\n",
       "      <td>332</td>\n",
       "      <td>0</td>\n",
       "      <td>0</td>\n",
       "      <td>0.0</td>\n",
       "    </tr>\n",
       "    <tr>\n",
       "      <th>2</th>\n",
       "      <td>193158</td>\n",
       "      <td>670</td>\n",
       "      <td>1</td>\n",
       "      <td>0</td>\n",
       "      <td>0.0</td>\n",
       "    </tr>\n",
       "    <tr>\n",
       "      <th>3</th>\n",
       "      <td>146855</td>\n",
       "      <td>86</td>\n",
       "      <td>0</td>\n",
       "      <td>0</td>\n",
       "      <td>0.0</td>\n",
       "    </tr>\n",
       "    <tr>\n",
       "      <th>4</th>\n",
       "      <td>225296</td>\n",
       "      <td>43</td>\n",
       "      <td>0</td>\n",
       "      <td>0</td>\n",
       "      <td>0.0</td>\n",
       "    </tr>\n",
       "  </tbody>\n",
       "</table>\n",
       "</div>"
      ],
      "text/plain": [
       "   supplier_id  total_claim  unresolved_claim  unresolved_accepted_claim  \\\n",
       "0          344          164                 0                          0   \n",
       "1       263495          332                 0                          0   \n",
       "2       193158          670                 1                          0   \n",
       "3       146855           86                 0                          0   \n",
       "4       225296           43                 0                          0   \n",
       "\n",
       "   unresolvedclaim_percentage  \n",
       "0                         0.0  \n",
       "1                         0.0  \n",
       "2                         0.0  \n",
       "3                         0.0  \n",
       "4                         0.0  "
      ]
     },
     "execution_count": 14,
     "metadata": {},
     "output_type": "execute_result"
    }
   ],
   "source": [
    "data_sup_disp.head()"
   ]
  },
  {
   "cell_type": "code",
   "execution_count": 15,
   "id": "coordinate-seafood",
   "metadata": {},
   "outputs": [],
   "source": [
    "# percentage of the unresolved claims\n",
    "data_sup_disp['unresolved_percentage'] = data_sup_disp['unresolved_claim']/data_sup_disp['total_claim']\n",
    "# dropping useless columns\n",
    "data_sup_disp.drop(['unresolved_claim', 'unresolved_accepted_claim'], axis=1, inplace=True)"
   ]
  },
  {
   "cell_type": "markdown",
   "id": "affecting-closure",
   "metadata": {},
   "source": [
    "#### removing conflicts from transaction dataset\n",
    "we saw that some users bought same product and as label it is 1 and 0 at the same time"
   ]
  },
  {
   "cell_type": "code",
   "execution_count": 16,
   "id": "danish-thong",
   "metadata": {},
   "outputs": [],
   "source": [
    "data_tra.dropna(subset=['is_returned'], inplace=True)\n",
    "data_tra['key'] = data_tra['user_id'].astype(str) + '-' + data_tra['product_content_id'].astype(str)"
   ]
  },
  {
   "cell_type": "code",
   "execution_count": 17,
   "id": "sacred-islam",
   "metadata": {},
   "outputs": [
    {
     "data": {
      "text/plain": [
       "115855"
      ]
     },
     "execution_count": 17,
     "metadata": {},
     "output_type": "execute_result"
    }
   ],
   "source": [
    "conflicts_indexes = set(data_tra.drop_duplicates(subset=['user_id', 'product_content_id','is_returned']).index).difference(set(data_tra.drop_duplicates(subset=['user_id', 'product_content_id']).index))\n",
    "len(conflicts_indexes)"
   ]
  },
  {
   "cell_type": "code",
   "execution_count": 18,
   "id": "turkish-amazon",
   "metadata": {},
   "outputs": [
    {
     "data": {
      "text/plain": [
       "259423"
      ]
     },
     "execution_count": 18,
     "metadata": {},
     "output_type": "execute_result"
    }
   ],
   "source": [
    "all_conflict_indexes = data_tra[data_tra['key'].isin(data_tra.loc[conflicts_indexes]['key'])].index\n",
    "len(all_conflict_indexes)"
   ]
  },
  {
   "cell_type": "markdown",
   "id": "polished-photography",
   "metadata": {},
   "source": [
    "we have 259423 conflicted rows, i.e, a user buys same product more than once and returned in some and not returned in others"
   ]
  },
  {
   "cell_type": "code",
   "execution_count": 19,
   "id": "resistant-practitioner",
   "metadata": {},
   "outputs": [],
   "source": [
    "data_tra.drop(all_conflict_indexes, inplace=True)"
   ]
  },
  {
   "cell_type": "markdown",
   "id": "burning-spring",
   "metadata": {},
   "source": [
    "## merging"
   ]
  },
  {
   "cell_type": "code",
   "execution_count": 20,
   "id": "remarkable-restaurant",
   "metadata": {},
   "outputs": [],
   "source": [
    "tmp_df = pd.merge(data_tra.drop(['key'], axis=1), data_products , on=['product_variant_id'], suffixes=('_tra', '_prod'), how='left')\n",
    "tmp_df = pd.merge(tmp_df, data_user_dem , on=['user_id'], suffixes=(None, '_user_dem'),how='left')"
   ]
  },
  {
   "cell_type": "code",
   "execution_count": 21,
   "id": "ignored-stuart",
   "metadata": {},
   "outputs": [],
   "source": [
    "tmp_df = pd.merge(tmp_df, data_sup_return , on=['supplier_id'], suffixes=(None,'_sup_return'), how='left')\n",
    "tmp_df = pd.merge(tmp_df, data_sup_def , on=['supplier_id'], suffixes=(None,'_def'), how='left')\n",
    "df_v1 = pd.merge(tmp_df, data_sup_disp , on=['supplier_id'], suffixes=(None,'_sup'), how='left')"
   ]
  },
  {
   "cell_type": "markdown",
   "id": "specified-logistics",
   "metadata": {},
   "source": [
    "del tmp_df, data_tra, data_products, data_user_dem, data_sup_return, data_sup_def, data_sup_disp "
   ]
  },
  {
   "cell_type": "code",
   "execution_count": 22,
   "id": "modular-quest",
   "metadata": {},
   "outputs": [
    {
     "data": {
      "text/plain": [
       "48"
      ]
     },
     "execution_count": 22,
     "metadata": {},
     "output_type": "execute_result"
    }
   ],
   "source": [
    "import gc\n",
    "gc.collect()"
   ]
  },
  {
   "cell_type": "code",
   "execution_count": 23,
   "id": "previous-archives",
   "metadata": {},
   "outputs": [
    {
     "data": {
      "text/plain": [
       "Index(['order_date', 'user_id', 'is_elite_user', 'supplier_id',\n",
       "       'order_line_item_id', 'order_parent_id', 'product_content_id_tra',\n",
       "       'product_variant_id', 'original_price', 'discounted_price', 'ship_cost',\n",
       "       'coupon_id', 'coupon_discount', 'promotion_name',\n",
       "       'promotion_award_value', 'is_wallet_trx', 'is_saved_card_trx',\n",
       "       'is_returned', 'product_id', 'product_content_id_prod', 'product_name',\n",
       "       'brand_id', 'brand_name', 'gender_id', 'gender_name', 'category_id',\n",
       "       'category_name', 'color_id', 'color_name', 'supplier_color_name',\n",
       "       'attributet_name', 'attribute_value', 'birth_date', 'membership_date',\n",
       "       'gender', 'returnRate', 'returnRate_def', 'total_claim',\n",
       "       'unresolvedclaim_percentage', 'unresolved_percentage'],\n",
       "      dtype='object')"
      ]
     },
     "execution_count": 23,
     "metadata": {},
     "output_type": "execute_result"
    }
   ],
   "source": [
    "df_v1.columns"
   ]
  },
  {
   "cell_type": "code",
   "execution_count": 24,
   "id": "ranging-toner",
   "metadata": {},
   "outputs": [
    {
     "data": {
      "text/html": [
       "<div>\n",
       "<style scoped>\n",
       "    .dataframe tbody tr th:only-of-type {\n",
       "        vertical-align: middle;\n",
       "    }\n",
       "\n",
       "    .dataframe tbody tr th {\n",
       "        vertical-align: top;\n",
       "    }\n",
       "\n",
       "    .dataframe thead th {\n",
       "        text-align: right;\n",
       "    }\n",
       "</style>\n",
       "<table border=\"1\" class=\"dataframe\">\n",
       "  <thead>\n",
       "    <tr style=\"text-align: right;\">\n",
       "      <th></th>\n",
       "      <th>order_date</th>\n",
       "      <th>user_id</th>\n",
       "      <th>is_elite_user</th>\n",
       "      <th>supplier_id</th>\n",
       "      <th>order_line_item_id</th>\n",
       "      <th>order_parent_id</th>\n",
       "      <th>product_content_id_tra</th>\n",
       "      <th>product_variant_id</th>\n",
       "      <th>original_price</th>\n",
       "      <th>discounted_price</th>\n",
       "      <th>...</th>\n",
       "      <th>attributet_name</th>\n",
       "      <th>attribute_value</th>\n",
       "      <th>birth_date</th>\n",
       "      <th>membership_date</th>\n",
       "      <th>gender</th>\n",
       "      <th>returnRate</th>\n",
       "      <th>returnRate_def</th>\n",
       "      <th>total_claim</th>\n",
       "      <th>unresolvedclaim_percentage</th>\n",
       "      <th>unresolved_percentage</th>\n",
       "    </tr>\n",
       "  </thead>\n",
       "  <tbody>\n",
       "    <tr>\n",
       "      <th>0</th>\n",
       "      <td>2021-05-01 00:00:01.761000+00:00</td>\n",
       "      <td>3941815</td>\n",
       "      <td>0</td>\n",
       "      <td>4662</td>\n",
       "      <td>901280147</td>\n",
       "      <td>595758968</td>\n",
       "      <td>95503167</td>\n",
       "      <td>159147197</td>\n",
       "      <td>79.90</td>\n",
       "      <td>51.94</td>\n",
       "      <td>...</td>\n",
       "      <td>BEDEN</td>\n",
       "      <td>XL</td>\n",
       "      <td>1979-05-24 00:00:00+00:00</td>\n",
       "      <td>2011-04-07 14:55:39.457000+00:00</td>\n",
       "      <td>Bayan</td>\n",
       "      <td>0.098178</td>\n",
       "      <td>0.003045</td>\n",
       "      <td>16357.0</td>\n",
       "      <td>0.328947</td>\n",
       "      <td>0.004646</td>\n",
       "    </tr>\n",
       "    <tr>\n",
       "      <th>1</th>\n",
       "      <td>2021-05-01 00:00:01.761000+00:00</td>\n",
       "      <td>3941815</td>\n",
       "      <td>0</td>\n",
       "      <td>163</td>\n",
       "      <td>901280149</td>\n",
       "      <td>595758968</td>\n",
       "      <td>36313798</td>\n",
       "      <td>64622938</td>\n",
       "      <td>129.95</td>\n",
       "      <td>59.97</td>\n",
       "      <td>...</td>\n",
       "      <td>BEDEN</td>\n",
       "      <td>XL</td>\n",
       "      <td>1979-05-24 00:00:00+00:00</td>\n",
       "      <td>2011-04-07 14:55:39.457000+00:00</td>\n",
       "      <td>Bayan</td>\n",
       "      <td>0.050737</td>\n",
       "      <td>0.000545</td>\n",
       "      <td>46699.0</td>\n",
       "      <td>0.000000</td>\n",
       "      <td>0.000000</td>\n",
       "    </tr>\n",
       "    <tr>\n",
       "      <th>2</th>\n",
       "      <td>2021-05-01 00:00:01.761000+00:00</td>\n",
       "      <td>3941815</td>\n",
       "      <td>0</td>\n",
       "      <td>157306</td>\n",
       "      <td>901280145</td>\n",
       "      <td>595758968</td>\n",
       "      <td>36888320</td>\n",
       "      <td>65612791</td>\n",
       "      <td>59.99</td>\n",
       "      <td>49.99</td>\n",
       "      <td>...</td>\n",
       "      <td>BEDEN</td>\n",
       "      <td>XL</td>\n",
       "      <td>1979-05-24 00:00:00+00:00</td>\n",
       "      <td>2011-04-07 14:55:39.457000+00:00</td>\n",
       "      <td>Bayan</td>\n",
       "      <td>0.093355</td>\n",
       "      <td>0.000744</td>\n",
       "      <td>902.0</td>\n",
       "      <td>0.777778</td>\n",
       "      <td>0.009978</td>\n",
       "    </tr>\n",
       "    <tr>\n",
       "      <th>3</th>\n",
       "      <td>2021-05-01 00:00:01.761000+00:00</td>\n",
       "      <td>3941815</td>\n",
       "      <td>0</td>\n",
       "      <td>163856</td>\n",
       "      <td>901280144</td>\n",
       "      <td>595758968</td>\n",
       "      <td>36888399</td>\n",
       "      <td>65613254</td>\n",
       "      <td>49.90</td>\n",
       "      <td>49.90</td>\n",
       "      <td>...</td>\n",
       "      <td>BEDEN</td>\n",
       "      <td>XL</td>\n",
       "      <td>1979-05-24 00:00:00+00:00</td>\n",
       "      <td>2011-04-07 14:55:39.457000+00:00</td>\n",
       "      <td>Bayan</td>\n",
       "      <td>0.108296</td>\n",
       "      <td>0.000633</td>\n",
       "      <td>227.0</td>\n",
       "      <td>0.200000</td>\n",
       "      <td>0.066079</td>\n",
       "    </tr>\n",
       "    <tr>\n",
       "      <th>4</th>\n",
       "      <td>2021-05-01 00:00:02.742000+00:00</td>\n",
       "      <td>15996105</td>\n",
       "      <td>1</td>\n",
       "      <td>968</td>\n",
       "      <td>901279297</td>\n",
       "      <td>595758987</td>\n",
       "      <td>96930601</td>\n",
       "      <td>161408176</td>\n",
       "      <td>89.99</td>\n",
       "      <td>71.99</td>\n",
       "      <td>...</td>\n",
       "      <td>BEDEN</td>\n",
       "      <td>40</td>\n",
       "      <td>1900-01-01 00:00:00+00:00</td>\n",
       "      <td>2018-04-19 19:29:17.410000+00:00</td>\n",
       "      <td>Bayan</td>\n",
       "      <td>0.127110</td>\n",
       "      <td>0.002828</td>\n",
       "      <td>3269293.0</td>\n",
       "      <td>0.000000</td>\n",
       "      <td>0.000000</td>\n",
       "    </tr>\n",
       "  </tbody>\n",
       "</table>\n",
       "<p>5 rows × 40 columns</p>\n",
       "</div>"
      ],
      "text/plain": [
       "                        order_date   user_id  is_elite_user  supplier_id  \\\n",
       "0 2021-05-01 00:00:01.761000+00:00   3941815              0         4662   \n",
       "1 2021-05-01 00:00:01.761000+00:00   3941815              0          163   \n",
       "2 2021-05-01 00:00:01.761000+00:00   3941815              0       157306   \n",
       "3 2021-05-01 00:00:01.761000+00:00   3941815              0       163856   \n",
       "4 2021-05-01 00:00:02.742000+00:00  15996105              1          968   \n",
       "\n",
       "   order_line_item_id  order_parent_id  product_content_id_tra  \\\n",
       "0           901280147        595758968                95503167   \n",
       "1           901280149        595758968                36313798   \n",
       "2           901280145        595758968                36888320   \n",
       "3           901280144        595758968                36888399   \n",
       "4           901279297        595758987                96930601   \n",
       "\n",
       "   product_variant_id  original_price  discounted_price  ...  attributet_name  \\\n",
       "0           159147197           79.90             51.94  ...            BEDEN   \n",
       "1            64622938          129.95             59.97  ...            BEDEN   \n",
       "2            65612791           59.99             49.99  ...            BEDEN   \n",
       "3            65613254           49.90             49.90  ...            BEDEN   \n",
       "4           161408176           89.99             71.99  ...            BEDEN   \n",
       "\n",
       "  attribute_value                 birth_date                  membership_date  \\\n",
       "0              XL  1979-05-24 00:00:00+00:00 2011-04-07 14:55:39.457000+00:00   \n",
       "1              XL  1979-05-24 00:00:00+00:00 2011-04-07 14:55:39.457000+00:00   \n",
       "2              XL  1979-05-24 00:00:00+00:00 2011-04-07 14:55:39.457000+00:00   \n",
       "3              XL  1979-05-24 00:00:00+00:00 2011-04-07 14:55:39.457000+00:00   \n",
       "4              40  1900-01-01 00:00:00+00:00 2018-04-19 19:29:17.410000+00:00   \n",
       "\n",
       "   gender  returnRate  returnRate_def  total_claim  \\\n",
       "0   Bayan    0.098178        0.003045      16357.0   \n",
       "1   Bayan    0.050737        0.000545      46699.0   \n",
       "2   Bayan    0.093355        0.000744        902.0   \n",
       "3   Bayan    0.108296        0.000633        227.0   \n",
       "4   Bayan    0.127110        0.002828    3269293.0   \n",
       "\n",
       "   unresolvedclaim_percentage  unresolved_percentage  \n",
       "0                    0.328947               0.004646  \n",
       "1                    0.000000               0.000000  \n",
       "2                    0.777778               0.009978  \n",
       "3                    0.200000               0.066079  \n",
       "4                    0.000000               0.000000  \n",
       "\n",
       "[5 rows x 40 columns]"
      ]
     },
     "execution_count": 24,
     "metadata": {},
     "output_type": "execute_result"
    }
   ],
   "source": [
    "df_v1.head()"
   ]
  },
  {
   "cell_type": "code",
   "execution_count": 25,
   "id": "orange-desert",
   "metadata": {},
   "outputs": [
    {
     "name": "stdout",
     "output_type": "stream",
     "text": [
      "<class 'pandas.core.frame.DataFrame'>\n",
      "Int64Index: 10513238 entries, 0 to 10513237\n",
      "Data columns (total 40 columns):\n",
      " #   Column                      Dtype              \n",
      "---  ------                      -----              \n",
      " 0   order_date                  datetime64[ns, UTC]\n",
      " 1   user_id                     int64              \n",
      " 2   is_elite_user               int64              \n",
      " 3   supplier_id                 int64              \n",
      " 4   order_line_item_id          int64              \n",
      " 5   order_parent_id             int64              \n",
      " 6   product_content_id_tra      int64              \n",
      " 7   product_variant_id          int64              \n",
      " 8   original_price              float64            \n",
      " 9   discounted_price            float64            \n",
      " 10  ship_cost                   float64            \n",
      " 11  coupon_id                   object             \n",
      " 12  coupon_discount             float64            \n",
      " 13  promotion_name              object             \n",
      " 14  promotion_award_value       float64            \n",
      " 15  is_wallet_trx               int64              \n",
      " 16  is_saved_card_trx           bool               \n",
      " 17  is_returned                 float64            \n",
      " 18  product_id                  int64              \n",
      " 19  product_content_id_prod     int64              \n",
      " 20  product_name                object             \n",
      " 21  brand_id                    int64              \n",
      " 22  brand_name                  object             \n",
      " 23  gender_id                   float64            \n",
      " 24  gender_name                 object             \n",
      " 25  category_id                 int64              \n",
      " 26  category_name               object             \n",
      " 27  color_id                    float64            \n",
      " 28  color_name                  object             \n",
      " 29  supplier_color_name         object             \n",
      " 30  attributet_name             object             \n",
      " 31  attribute_value             object             \n",
      " 32  birth_date                  object             \n",
      " 33  membership_date             datetime64[ns, UTC]\n",
      " 34  gender                      object             \n",
      " 35  returnRate                  float64            \n",
      " 36  returnRate_def              float64            \n",
      " 37  total_claim                 float64            \n",
      " 38  unresolvedclaim_percentage  float64            \n",
      " 39  unresolved_percentage       float64            \n",
      "dtypes: bool(1), datetime64[ns, UTC](2), float64(13), int64(12), object(12)\n",
      "memory usage: 3.1+ GB\n"
     ]
    }
   ],
   "source": [
    "df_v1.info()"
   ]
  },
  {
   "cell_type": "code",
   "execution_count": 26,
   "id": "biblical-wrong",
   "metadata": {
    "scrolled": true
   },
   "outputs": [
    {
     "data": {
      "text/plain": [
       "order_date                          0\n",
       "user_id                             0\n",
       "is_elite_user                       0\n",
       "supplier_id                         0\n",
       "order_line_item_id                  0\n",
       "order_parent_id                     0\n",
       "product_content_id_tra              0\n",
       "product_variant_id                  0\n",
       "original_price                      0\n",
       "discounted_price                    0\n",
       "ship_cost                       34435\n",
       "coupon_id                     9804350\n",
       "coupon_discount                     0\n",
       "promotion_name                5270661\n",
       "promotion_award_value         5270661\n",
       "is_wallet_trx                       0\n",
       "is_saved_card_trx                   0\n",
       "is_returned                         0\n",
       "product_id                          0\n",
       "product_content_id_prod             0\n",
       "product_name                        0\n",
       "brand_id                            0\n",
       "brand_name                          0\n",
       "gender_id                        6621\n",
       "gender_name                         0\n",
       "category_id                         0\n",
       "category_name                       0\n",
       "color_id                         4860\n",
       "color_name                       4860\n",
       "supplier_color_name                 1\n",
       "attributet_name                     0\n",
       "attribute_value                     0\n",
       "birth_date                    2901995\n",
       "membership_date                     0\n",
       "gender                              0\n",
       "returnRate                         37\n",
       "returnRate_def                     37\n",
       "total_claim                      3017\n",
       "unresolvedclaim_percentage       3017\n",
       "unresolved_percentage            3017\n",
       "dtype: int64"
      ]
     },
     "execution_count": 26,
     "metadata": {},
     "output_type": "execute_result"
    }
   ],
   "source": [
    "df_v1.isna().sum()"
   ]
  },
  {
   "cell_type": "code",
   "execution_count": 27,
   "id": "traditional-effect",
   "metadata": {},
   "outputs": [
    {
     "data": {
      "text/html": [
       "<div>\n",
       "<style scoped>\n",
       "    .dataframe tbody tr th:only-of-type {\n",
       "        vertical-align: middle;\n",
       "    }\n",
       "\n",
       "    .dataframe tbody tr th {\n",
       "        vertical-align: top;\n",
       "    }\n",
       "\n",
       "    .dataframe thead th {\n",
       "        text-align: right;\n",
       "    }\n",
       "</style>\n",
       "<table border=\"1\" class=\"dataframe\">\n",
       "  <thead>\n",
       "    <tr style=\"text-align: right;\">\n",
       "      <th></th>\n",
       "      <th>order_date</th>\n",
       "      <th>user_id</th>\n",
       "      <th>is_elite_user</th>\n",
       "      <th>supplier_id</th>\n",
       "      <th>order_line_item_id</th>\n",
       "      <th>order_parent_id</th>\n",
       "      <th>product_content_id_tra</th>\n",
       "      <th>product_variant_id</th>\n",
       "      <th>original_price</th>\n",
       "      <th>discounted_price</th>\n",
       "      <th>...</th>\n",
       "      <th>attributet_name</th>\n",
       "      <th>attribute_value</th>\n",
       "      <th>birth_date</th>\n",
       "      <th>membership_date</th>\n",
       "      <th>gender</th>\n",
       "      <th>returnRate</th>\n",
       "      <th>returnRate_def</th>\n",
       "      <th>total_claim</th>\n",
       "      <th>unresolvedclaim_percentage</th>\n",
       "      <th>unresolved_percentage</th>\n",
       "    </tr>\n",
       "  </thead>\n",
       "  <tbody>\n",
       "    <tr>\n",
       "      <th>0</th>\n",
       "      <td>2021-05-01 00:00:01.761000+00:00</td>\n",
       "      <td>3941815</td>\n",
       "      <td>0</td>\n",
       "      <td>4662</td>\n",
       "      <td>901280147</td>\n",
       "      <td>595758968</td>\n",
       "      <td>95503167</td>\n",
       "      <td>159147197</td>\n",
       "      <td>79.90</td>\n",
       "      <td>51.94</td>\n",
       "      <td>...</td>\n",
       "      <td>BEDEN</td>\n",
       "      <td>XL</td>\n",
       "      <td>1979-05-24 00:00:00+00:00</td>\n",
       "      <td>2011-04-07 14:55:39.457000+00:00</td>\n",
       "      <td>Bayan</td>\n",
       "      <td>0.098178</td>\n",
       "      <td>0.003045</td>\n",
       "      <td>16357.0</td>\n",
       "      <td>0.328947</td>\n",
       "      <td>0.004646</td>\n",
       "    </tr>\n",
       "    <tr>\n",
       "      <th>1</th>\n",
       "      <td>2021-05-01 00:00:01.761000+00:00</td>\n",
       "      <td>3941815</td>\n",
       "      <td>0</td>\n",
       "      <td>163</td>\n",
       "      <td>901280149</td>\n",
       "      <td>595758968</td>\n",
       "      <td>36313798</td>\n",
       "      <td>64622938</td>\n",
       "      <td>129.95</td>\n",
       "      <td>59.97</td>\n",
       "      <td>...</td>\n",
       "      <td>BEDEN</td>\n",
       "      <td>XL</td>\n",
       "      <td>1979-05-24 00:00:00+00:00</td>\n",
       "      <td>2011-04-07 14:55:39.457000+00:00</td>\n",
       "      <td>Bayan</td>\n",
       "      <td>0.050737</td>\n",
       "      <td>0.000545</td>\n",
       "      <td>46699.0</td>\n",
       "      <td>0.000000</td>\n",
       "      <td>0.000000</td>\n",
       "    </tr>\n",
       "    <tr>\n",
       "      <th>2</th>\n",
       "      <td>2021-05-01 00:00:01.761000+00:00</td>\n",
       "      <td>3941815</td>\n",
       "      <td>0</td>\n",
       "      <td>157306</td>\n",
       "      <td>901280145</td>\n",
       "      <td>595758968</td>\n",
       "      <td>36888320</td>\n",
       "      <td>65612791</td>\n",
       "      <td>59.99</td>\n",
       "      <td>49.99</td>\n",
       "      <td>...</td>\n",
       "      <td>BEDEN</td>\n",
       "      <td>XL</td>\n",
       "      <td>1979-05-24 00:00:00+00:00</td>\n",
       "      <td>2011-04-07 14:55:39.457000+00:00</td>\n",
       "      <td>Bayan</td>\n",
       "      <td>0.093355</td>\n",
       "      <td>0.000744</td>\n",
       "      <td>902.0</td>\n",
       "      <td>0.777778</td>\n",
       "      <td>0.009978</td>\n",
       "    </tr>\n",
       "  </tbody>\n",
       "</table>\n",
       "<p>3 rows × 40 columns</p>\n",
       "</div>"
      ],
      "text/plain": [
       "                        order_date  user_id  is_elite_user  supplier_id  \\\n",
       "0 2021-05-01 00:00:01.761000+00:00  3941815              0         4662   \n",
       "1 2021-05-01 00:00:01.761000+00:00  3941815              0          163   \n",
       "2 2021-05-01 00:00:01.761000+00:00  3941815              0       157306   \n",
       "\n",
       "   order_line_item_id  order_parent_id  product_content_id_tra  \\\n",
       "0           901280147        595758968                95503167   \n",
       "1           901280149        595758968                36313798   \n",
       "2           901280145        595758968                36888320   \n",
       "\n",
       "   product_variant_id  original_price  discounted_price  ...  attributet_name  \\\n",
       "0           159147197           79.90             51.94  ...            BEDEN   \n",
       "1            64622938          129.95             59.97  ...            BEDEN   \n",
       "2            65612791           59.99             49.99  ...            BEDEN   \n",
       "\n",
       "  attribute_value                 birth_date                  membership_date  \\\n",
       "0              XL  1979-05-24 00:00:00+00:00 2011-04-07 14:55:39.457000+00:00   \n",
       "1              XL  1979-05-24 00:00:00+00:00 2011-04-07 14:55:39.457000+00:00   \n",
       "2              XL  1979-05-24 00:00:00+00:00 2011-04-07 14:55:39.457000+00:00   \n",
       "\n",
       "   gender  returnRate  returnRate_def  total_claim  \\\n",
       "0   Bayan    0.098178        0.003045      16357.0   \n",
       "1   Bayan    0.050737        0.000545      46699.0   \n",
       "2   Bayan    0.093355        0.000744        902.0   \n",
       "\n",
       "   unresolvedclaim_percentage  unresolved_percentage  \n",
       "0                    0.328947               0.004646  \n",
       "1                    0.000000               0.000000  \n",
       "2                    0.777778               0.009978  \n",
       "\n",
       "[3 rows x 40 columns]"
      ]
     },
     "execution_count": 27,
     "metadata": {},
     "output_type": "execute_result"
    }
   ],
   "source": [
    "df_v1.head(3)"
   ]
  },
  {
   "cell_type": "markdown",
   "id": "dedicated-regulation",
   "metadata": {},
   "source": [
    "## cleaning outliers, conflicts and nulls"
   ]
  },
  {
   "cell_type": "code",
   "execution_count": 28,
   "id": "thermal-realtor",
   "metadata": {},
   "outputs": [],
   "source": [
    "# dropping rows that have no label\n",
    "df_v1.dropna(subset=['is_returned'], inplace=True)"
   ]
  },
  {
   "cell_type": "code",
   "execution_count": 29,
   "id": "daily-bracket",
   "metadata": {},
   "outputs": [],
   "source": [
    "# if promotion award is None, meaning no promotion, then fill it with 0\n",
    "df_v1['promotion_award_value'].fillna(0.0, inplace=True)"
   ]
  },
  {
   "cell_type": "code",
   "execution_count": 30,
   "id": "useful-indonesian",
   "metadata": {},
   "outputs": [],
   "source": [
    "# if shipping cost is None, meaning no cost, then fill it with 0\n",
    "df_v1['ship_cost'].fillna(0.0, inplace=True)"
   ]
  },
  {
   "cell_type": "markdown",
   "id": "nonprofit-bowling",
   "metadata": {},
   "source": [
    "## feature engineering"
   ]
  },
  {
   "cell_type": "code",
   "execution_count": 31,
   "id": "upper-queens",
   "metadata": {},
   "outputs": [],
   "source": [
    "# paid amount by customer\n",
    "df_v1['paid_amount'] = df_v1['discounted_price']-df_v1['coupon_discount']+df_v1['ship_cost']\n",
    "# discoount ratio \n",
    "df_v1['discount_ratio'] = (df_v1['original_price']- df_v1['discounted_price'])/df_v1['original_price']"
   ]
  },
  {
   "cell_type": "code",
   "execution_count": 32,
   "id": "killing-transition",
   "metadata": {
    "scrolled": false
   },
   "outputs": [
    {
     "name": "stderr",
     "output_type": "stream",
     "text": [
      "C:\\Users\\IsmailKaraman\\anaconda3\\lib\\site-packages\\seaborn\\distributions.py:2557: FutureWarning: `distplot` is a deprecated function and will be removed in a future version. Please adapt your code to use either `displot` (a figure-level function with similar flexibility) or `histplot` (an axes-level function for histograms).\n",
      "  warnings.warn(msg, FutureWarning)\n"
     ]
    },
    {
     "data": {
      "text/plain": [
       "<AxesSubplot:xlabel='discount_ratio', ylabel='Density'>"
      ]
     },
     "execution_count": 32,
     "metadata": {},
     "output_type": "execute_result"
    },
    {
     "data": {
      "image/png": "[encoded data removed]",
      "text/plain": [
       "<Figure size 432x288 with 1 Axes>"
      ]
     },
     "metadata": {
      "needs_background": "light"
     },
     "output_type": "display_data"
    }
   ],
   "source": [
    "sns.distplot(df_v1['discount_ratio'])"
   ]
  },
  {
   "cell_type": "code",
   "execution_count": 33,
   "id": "imperial-charge",
   "metadata": {},
   "outputs": [
    {
     "data": {
      "text/plain": [
       "<AxesSubplot:xlabel='order_date', ylabel='Count'>"
      ]
     },
     "execution_count": 33,
     "metadata": {},
     "output_type": "execute_result"
    },
    {
     "data": {
      "image/png": "[encoded data removed]",
      "text/plain": [
       "<Figure size 432x288 with 1 Axes>"
      ]
     },
     "metadata": {
      "needs_background": "light"
     },
     "output_type": "display_data"
    }
   ],
   "source": [
    "sns.histplot(df_v1[\"order_date\"].dt.hour, bins=24)"
   ]
  },
  {
   "cell_type": "code",
   "execution_count": 34,
   "id": "guided-particle",
   "metadata": {},
   "outputs": [],
   "source": [
    "def day_interval(x):\n",
    "    if time.fromisoformat('02:00') <= x < time.fromisoformat('12:30'):\n",
    "        return 0\n",
    "    elif time.fromisoformat('12:30') <= x < time.fromisoformat('16:00'):\n",
    "        return 1\n",
    "    elif time.fromisoformat('16:00') <= x < time.fromisoformat('19:30'):\n",
    "        return 2\n",
    "    elif time.fromisoformat('19:30') <= x < time.fromisoformat('22:30'):\n",
    "        return 3\n",
    "    else:\n",
    "        return 4"
   ]
  },
  {
   "cell_type": "code",
   "execution_count": 35,
   "id": "enormous-seattle",
   "metadata": {},
   "outputs": [],
   "source": [
    "# splitting order hour to different intervals\n",
    "# 02:00 - 12:30 - 0 : midnight and morning\n",
    "# 12:30 - 16:00 - 1 : noon and afternoon\n",
    "# 16:00 - 19:30 - 2 : evening and going back to home\n",
    "# 19:30 - 22:30 - 3 : after dinner, resting time\n",
    "# 22:30 - 02:00 - 4 : night\n",
    "df_v1[\"hour_interval\"] = df_v1[\"order_date\"].dt.time.apply(day_interval)"
   ]
  },
  {
   "cell_type": "code",
   "execution_count": 36,
   "id": "straight-dealing",
   "metadata": {
    "scrolled": false
   },
   "outputs": [
    {
     "name": "stderr",
     "output_type": "stream",
     "text": [
      "C:\\Users\\IsmailKaraman\\anaconda3\\lib\\site-packages\\seaborn\\_decorators.py:36: FutureWarning: Pass the following variable as a keyword arg: x. From version 0.12, the only valid positional argument will be `data`, and passing other arguments without an explicit keyword will result in an error or misinterpretation.\n",
      "  warnings.warn(\n"
     ]
    },
    {
     "data": {
      "text/plain": [
       "<AxesSubplot:xlabel='hour_interval', ylabel='count'>"
      ]
     },
     "execution_count": 36,
     "metadata": {},
     "output_type": "execute_result"
    },
    {
     "data": {
      "image/png": "[encoded data removed]",
      "text/plain": [
       "<Figure size 432x288 with 1 Axes>"
      ]
     },
     "metadata": {
      "needs_background": "light"
     },
     "output_type": "display_data"
    }
   ],
   "source": [
    "sns.countplot(df_v1[\"hour_interval\"])"
   ]
  },
  {
   "cell_type": "code",
   "execution_count": 37,
   "id": "silver-watts",
   "metadata": {},
   "outputs": [
    {
     "data": {
      "text/plain": [
       "<AxesSubplot:ylabel='Count'>"
      ]
     },
     "execution_count": 37,
     "metadata": {},
     "output_type": "execute_result"
    },
    {
     "data": {
      "image/png": "[encoded data removed]",
      "text/plain": [
       "<Figure size 432x288 with 1 Axes>"
      ]
     },
     "metadata": {
      "needs_background": "light"
     },
     "output_type": "display_data"
    }
   ],
   "source": [
    "sns.histplot((df_v1[\"order_date\"]-df_v1[\"membership_date\"]).dt.days, bins=50)"
   ]
  },
  {
   "cell_type": "code",
   "execution_count": 38,
   "id": "liked-charm",
   "metadata": {},
   "outputs": [],
   "source": [
    "# difference between order and membership date\n",
    "df_v1['diff_order_memdate'] = (df_v1[\"order_date\"]-df_v1[\"membership_date\"]).dt.days"
   ]
  },
  {
   "cell_type": "code",
   "execution_count": 39,
   "id": "biblical-karaoke",
   "metadata": {},
   "outputs": [
    {
     "name": "stderr",
     "output_type": "stream",
     "text": [
      "<ipython-input-39-9f94dc7cba8d>:4: FutureWarning: Series.dt.weekofyear and Series.dt.week have been deprecated.  Please use Series.dt.isocalendar().week instead.\n",
      "  df_v1['order_week'] = df_v1[\"order_date\"].dt.week\n"
     ]
    }
   ],
   "source": [
    "# converting order date to weekday, day of the month and week \n",
    "df_v1['order_weekday'] =  df_v1[\"order_date\"].dt.weekday\n",
    "df_v1['order_day'] = df_v1['order_date'].dt.day\n",
    "df_v1['order_week'] = df_v1[\"order_date\"].dt.week"
   ]
  },
  {
   "cell_type": "code",
   "execution_count": 40,
   "id": "geological-brunswick",
   "metadata": {},
   "outputs": [
    {
     "data": {
      "text/plain": [
       "<AxesSubplot:xlabel='order_weekday', ylabel='Count'>"
      ]
     },
     "execution_count": 40,
     "metadata": {},
     "output_type": "execute_result"
    },
    {
     "data": {
      "image/png": "[encoded data removed]",
      "text/plain": [
       "<Figure size 432x288 with 1 Axes>"
      ]
     },
     "metadata": {
      "needs_background": "light"
     },
     "output_type": "display_data"
    }
   ],
   "source": [
    "sns.histplot(df_v1['order_weekday'], bins=7)"
   ]
  },
  {
   "cell_type": "code",
   "execution_count": 41,
   "id": "important-player",
   "metadata": {},
   "outputs": [
    {
     "data": {
      "text/plain": [
       "<AxesSubplot:xlabel='order_day', ylabel='Count'>"
      ]
     },
     "execution_count": 41,
     "metadata": {},
     "output_type": "execute_result"
    },
    {
     "data": {
      "image/png": "[encoded data removed]",
      "text/plain": [
       "<Figure size 432x288 with 1 Axes>"
      ]
     },
     "metadata": {
      "needs_background": "light"
     },
     "output_type": "display_data"
    }
   ],
   "source": [
    "sns.histplot(df_v1['order_day'], bins=31)"
   ]
  },
  {
   "cell_type": "code",
   "execution_count": 42,
   "id": "honest-fusion",
   "metadata": {
    "scrolled": false
   },
   "outputs": [
    {
     "data": {
      "text/plain": [
       "<AxesSubplot:xlabel='order_week', ylabel='Count'>"
      ]
     },
     "execution_count": 42,
     "metadata": {},
     "output_type": "execute_result"
    },
    {
     "data": {
      "image/png": "[encoded data removed]",
      "text/plain": [
       "<Figure size 432x288 with 1 Axes>"
      ]
     },
     "metadata": {
      "needs_background": "light"
     },
     "output_type": "display_data"
    }
   ],
   "source": [
    "sns.histplot(df_v1['order_week'], bins=len(df_v1['order_week'].unique()))"
   ]
  },
  {
   "cell_type": "markdown",
   "id": "automatic-capability",
   "metadata": {},
   "source": [
    "#### zodiac sign and age"
   ]
  },
  {
   "cell_type": "code",
   "execution_count": 43,
   "id": "technical-respondent",
   "metadata": {},
   "outputs": [],
   "source": [
    "def correct_dates(str_date):\n",
    "    if type(str_date) == str:\n",
    "        \n",
    "        year = str_date.split('-')[0]\n",
    "        if not (1936 < int(year) < 2016):\n",
    "            str_date =  str_date.replace(year, '1920')\n",
    "        return str_date\n",
    "    else:\n",
    "        return '1910-01-01 00:00:00+00:00' "
   ]
  },
  {
   "cell_type": "code",
   "execution_count": 44,
   "id": "increasing-roberts",
   "metadata": {},
   "outputs": [],
   "source": [
    "zodiacs = [(120, 'cap'), (218, 'aqu'), (320, 'pis'), (420, 'ari'), (521, 'tau'),\n",
    "           (621, 'gem'), (722, 'can'), (823, 'leo'), (923, 'vir'), (1023, 'lib'),\n",
    "           (1122, 'sco'), (1222, 'sag'), (1231, 'cap')]\n",
    "\n",
    "def get_zodiac_of_date(date):\n",
    "     \n",
    "    if type(date) == str:\n",
    "        date = parser.parse(date)\n",
    "        if date.month == 1 and date.day == 1:\n",
    "            return 'no-sign'   \n",
    "        date_number = int(\"\".join((str(date.month), '%02d' % date.date().day)))\n",
    "        for z in zodiacs:\n",
    "            if date_number <= z[0]:\n",
    "                return z[1]\n",
    "    else:\n",
    "        return 'none'"
   ]
  },
  {
   "cell_type": "code",
   "execution_count": 45,
   "id": "solved-bulgaria",
   "metadata": {},
   "outputs": [],
   "source": [
    "df_v1['zodiac'] = df_v1['birth_date'].apply(get_zodiac_of_date)"
   ]
  },
  {
   "cell_type": "code",
   "execution_count": 46,
   "id": "located-suite",
   "metadata": {},
   "outputs": [
    {
     "name": "stderr",
     "output_type": "stream",
     "text": [
      "C:\\Users\\IsmailKaraman\\anaconda3\\lib\\site-packages\\seaborn\\_decorators.py:36: FutureWarning: Pass the following variables as keyword args: x, y. From version 0.12, the only valid positional argument will be `data`, and passing other arguments without an explicit keyword will result in an error or misinterpretation.\n",
      "  warnings.warn(\n"
     ]
    },
    {
     "data": {
      "text/plain": [
       "<AxesSubplot:>"
      ]
     },
     "execution_count": 46,
     "metadata": {},
     "output_type": "execute_result"
    },
    {
     "data": {
      "image/png": "[encoded data removed]",
      "text/plain": [
       "<Figure size 720x360 with 1 Axes>"
      ]
     },
     "metadata": {
      "needs_background": "light"
     },
     "output_type": "display_data"
    }
   ],
   "source": [
    "plt.figure(figsize=(10,5))\n",
    "sns.barplot(df_v1['zodiac'].value_counts().index, df_v1['zodiac'].value_counts().values)"
   ]
  },
  {
   "cell_type": "code",
   "execution_count": 47,
   "id": "voluntary-vegetarian",
   "metadata": {
    "scrolled": false
   },
   "outputs": [],
   "source": [
    "# calculating customer's ages\n",
    "df_v1['birth_date'] = df_v1['birth_date'].apply(correct_dates)\n",
    "df_v1['birth_date'] = df_v1['birth_date'].astype('datetime64[ns, UTC]')\n",
    "df_v1['age'] = datetime.now().year - df_v1['birth_date'].dt.year"
   ]
  },
  {
   "cell_type": "code",
   "execution_count": 48,
   "id": "specified-journal",
   "metadata": {},
   "outputs": [
    {
     "data": {
      "text/plain": [
       "<AxesSubplot:xlabel='age', ylabel='Count'>"
      ]
     },
     "execution_count": 48,
     "metadata": {},
     "output_type": "execute_result"
    },
    {
     "data": {
      "image/png": "[encoded data removed]",
      "text/plain": [
       "<Figure size 432x288 with 1 Axes>"
      ]
     },
     "metadata": {
      "needs_background": "light"
     },
     "output_type": "display_data"
    }
   ],
   "source": [
    "sns.histplot(df_v1['age'])"
   ]
  },
  {
   "cell_type": "markdown",
   "id": "appointed-portfolio",
   "metadata": {},
   "source": [
    "#### is bithday closing?"
   ]
  },
  {
   "cell_type": "code",
   "execution_count": 49,
   "id": "naughty-ecology",
   "metadata": {},
   "outputs": [],
   "source": [
    "def is_bday_close(row):\n",
    "    ord_date, bday = row\n",
    "    if bday.month - ord_date.month == 0:\n",
    "        if 0 <= (bday.day - ord_date.day) <= 15:\n",
    "            return 1\n",
    "    elif bday.month - ord_date.month == 1:\n",
    "        if 15 <= (ord_date.day - bday.day):\n",
    "            return 1       \n",
    "    return 0"
   ]
  },
  {
   "cell_type": "code",
   "execution_count": 50,
   "id": "healthy-knowing",
   "metadata": {},
   "outputs": [],
   "source": [
    "df_v1['is_bday_close'] = df_v1[['order_date', 'birth_date']].apply(is_bday_close, axis=1)"
   ]
  },
  {
   "cell_type": "code",
   "execution_count": 51,
   "id": "closing-variable",
   "metadata": {},
   "outputs": [
    {
     "data": {
      "text/plain": [
       "0    10258716\n",
       "1      254522\n",
       "Name: is_bday_close, dtype: int64"
      ]
     },
     "execution_count": 51,
     "metadata": {},
     "output_type": "execute_result"
    }
   ],
   "source": [
    "df_v1['is_bday_close'].value_counts()"
   ]
  },
  {
   "cell_type": "markdown",
   "id": "broad-newcastle",
   "metadata": {},
   "source": [
    "#### return rate for uer"
   ]
  },
  {
   "cell_type": "code",
   "execution_count": 57,
   "id": "physical-baghdad",
   "metadata": {},
   "outputs": [],
   "source": [
    "df_v1.sort_values(by=['user_id', 'order_date'], inplace=True)"
   ]
  },
  {
   "cell_type": "code",
   "execution_count": 65,
   "id": "biblical-secretariat",
   "metadata": {},
   "outputs": [
    {
     "data": {
      "text/html": [
       "<div>\n",
       "<style scoped>\n",
       "    .dataframe tbody tr th:only-of-type {\n",
       "        vertical-align: middle;\n",
       "    }\n",
       "\n",
       "    .dataframe tbody tr th {\n",
       "        vertical-align: top;\n",
       "    }\n",
       "\n",
       "    .dataframe thead th {\n",
       "        text-align: right;\n",
       "    }\n",
       "</style>\n",
       "<table border=\"1\" class=\"dataframe\">\n",
       "  <thead>\n",
       "    <tr style=\"text-align: right;\">\n",
       "      <th></th>\n",
       "      <th>order_date</th>\n",
       "      <th>user_id</th>\n",
       "      <th>is_elite_user</th>\n",
       "      <th>supplier_id</th>\n",
       "      <th>order_line_item_id</th>\n",
       "      <th>order_parent_id</th>\n",
       "      <th>product_content_id_tra</th>\n",
       "      <th>product_variant_id</th>\n",
       "      <th>original_price</th>\n",
       "      <th>discounted_price</th>\n",
       "      <th>...</th>\n",
       "      <th>paid_amount</th>\n",
       "      <th>discount_ratio</th>\n",
       "      <th>hour_interval</th>\n",
       "      <th>diff_order_memdate</th>\n",
       "      <th>order_weekday</th>\n",
       "      <th>order_day</th>\n",
       "      <th>order_week</th>\n",
       "      <th>zodiac</th>\n",
       "      <th>age</th>\n",
       "      <th>is_bday_close</th>\n",
       "    </tr>\n",
       "  </thead>\n",
       "  <tbody>\n",
       "    <tr>\n",
       "      <th>2828235</th>\n",
       "      <td>2021-05-19 01:27:28.768000+00:00</td>\n",
       "      <td>2141</td>\n",
       "      <td>0</td>\n",
       "      <td>216503</td>\n",
       "      <td>955598029</td>\n",
       "      <td>625610651</td>\n",
       "      <td>50139552</td>\n",
       "      <td>133066437</td>\n",
       "      <td>104.90</td>\n",
       "      <td>69.90</td>\n",
       "      <td>...</td>\n",
       "      <td>81.23</td>\n",
       "      <td>0.333651</td>\n",
       "      <td>4</td>\n",
       "      <td>4135</td>\n",
       "      <td>2</td>\n",
       "      <td>19</td>\n",
       "      <td>20</td>\n",
       "      <td>sco</td>\n",
       "      <td>43</td>\n",
       "      <td>0</td>\n",
       "    </tr>\n",
       "    <tr>\n",
       "      <th>2828236</th>\n",
       "      <td>2021-05-19 01:27:28.768000+00:00</td>\n",
       "      <td>2141</td>\n",
       "      <td>0</td>\n",
       "      <td>1188</td>\n",
       "      <td>955598030</td>\n",
       "      <td>625610651</td>\n",
       "      <td>43449486</td>\n",
       "      <td>77047570</td>\n",
       "      <td>79.99</td>\n",
       "      <td>79.99</td>\n",
       "      <td>...</td>\n",
       "      <td>88.87</td>\n",
       "      <td>0.000000</td>\n",
       "      <td>4</td>\n",
       "      <td>4135</td>\n",
       "      <td>2</td>\n",
       "      <td>19</td>\n",
       "      <td>20</td>\n",
       "      <td>sco</td>\n",
       "      <td>43</td>\n",
       "      <td>0</td>\n",
       "    </tr>\n",
       "    <tr>\n",
       "      <th>4385691</th>\n",
       "      <td>2021-06-02 00:51:35.862000+00:00</td>\n",
       "      <td>2141</td>\n",
       "      <td>0</td>\n",
       "      <td>200788</td>\n",
       "      <td>988146564</td>\n",
       "      <td>643936439</td>\n",
       "      <td>91890044</td>\n",
       "      <td>153411316</td>\n",
       "      <td>110.30</td>\n",
       "      <td>55.15</td>\n",
       "      <td>...</td>\n",
       "      <td>64.03</td>\n",
       "      <td>0.500000</td>\n",
       "      <td>4</td>\n",
       "      <td>4149</td>\n",
       "      <td>2</td>\n",
       "      <td>2</td>\n",
       "      <td>22</td>\n",
       "      <td>sco</td>\n",
       "      <td>43</td>\n",
       "      <td>0</td>\n",
       "    </tr>\n",
       "    <tr>\n",
       "      <th>4385692</th>\n",
       "      <td>2021-06-02 00:51:35.862000+00:00</td>\n",
       "      <td>2141</td>\n",
       "      <td>0</td>\n",
       "      <td>107296</td>\n",
       "      <td>988146563</td>\n",
       "      <td>643936439</td>\n",
       "      <td>104632296</td>\n",
       "      <td>172744639</td>\n",
       "      <td>59.90</td>\n",
       "      <td>49.90</td>\n",
       "      <td>...</td>\n",
       "      <td>58.78</td>\n",
       "      <td>0.166945</td>\n",
       "      <td>4</td>\n",
       "      <td>4149</td>\n",
       "      <td>2</td>\n",
       "      <td>2</td>\n",
       "      <td>22</td>\n",
       "      <td>sco</td>\n",
       "      <td>43</td>\n",
       "      <td>0</td>\n",
       "    </tr>\n",
       "    <tr>\n",
       "      <th>5351927</th>\n",
       "      <td>2021-06-09 23:31:37.963000+00:00</td>\n",
       "      <td>2141</td>\n",
       "      <td>0</td>\n",
       "      <td>968</td>\n",
       "      <td>1007223734</td>\n",
       "      <td>654756664</td>\n",
       "      <td>97487968</td>\n",
       "      <td>162306389</td>\n",
       "      <td>119.99</td>\n",
       "      <td>48.00</td>\n",
       "      <td>...</td>\n",
       "      <td>64.46</td>\n",
       "      <td>0.599967</td>\n",
       "      <td>4</td>\n",
       "      <td>4157</td>\n",
       "      <td>2</td>\n",
       "      <td>9</td>\n",
       "      <td>23</td>\n",
       "      <td>sco</td>\n",
       "      <td>43</td>\n",
       "      <td>0</td>\n",
       "    </tr>\n",
       "    <tr>\n",
       "      <th>...</th>\n",
       "      <td>...</td>\n",
       "      <td>...</td>\n",
       "      <td>...</td>\n",
       "      <td>...</td>\n",
       "      <td>...</td>\n",
       "      <td>...</td>\n",
       "      <td>...</td>\n",
       "      <td>...</td>\n",
       "      <td>...</td>\n",
       "      <td>...</td>\n",
       "      <td>...</td>\n",
       "      <td>...</td>\n",
       "      <td>...</td>\n",
       "      <td>...</td>\n",
       "      <td>...</td>\n",
       "      <td>...</td>\n",
       "      <td>...</td>\n",
       "      <td>...</td>\n",
       "      <td>...</td>\n",
       "      <td>...</td>\n",
       "      <td>...</td>\n",
       "    </tr>\n",
       "    <tr>\n",
       "      <th>10512995</th>\n",
       "      <td>2021-07-31 23:56:53.527000+00:00</td>\n",
       "      <td>71173209</td>\n",
       "      <td>0</td>\n",
       "      <td>1188</td>\n",
       "      <td>1108220493</td>\n",
       "      <td>722304223</td>\n",
       "      <td>81125378</td>\n",
       "      <td>137322776</td>\n",
       "      <td>59.99</td>\n",
       "      <td>59.99</td>\n",
       "      <td>...</td>\n",
       "      <td>68.87</td>\n",
       "      <td>0.000000</td>\n",
       "      <td>4</td>\n",
       "      <td>0</td>\n",
       "      <td>5</td>\n",
       "      <td>31</td>\n",
       "      <td>30</td>\n",
       "      <td>none</td>\n",
       "      <td>111</td>\n",
       "      <td>0</td>\n",
       "    </tr>\n",
       "    <tr>\n",
       "      <th>10512996</th>\n",
       "      <td>2021-07-31 23:56:53.527000+00:00</td>\n",
       "      <td>71173209</td>\n",
       "      <td>0</td>\n",
       "      <td>4442</td>\n",
       "      <td>1108220494</td>\n",
       "      <td>722304223</td>\n",
       "      <td>74591958</td>\n",
       "      <td>128072877</td>\n",
       "      <td>79.95</td>\n",
       "      <td>31.98</td>\n",
       "      <td>...</td>\n",
       "      <td>34.94</td>\n",
       "      <td>0.600000</td>\n",
       "      <td>4</td>\n",
       "      <td>0</td>\n",
       "      <td>5</td>\n",
       "      <td>31</td>\n",
       "      <td>30</td>\n",
       "      <td>none</td>\n",
       "      <td>111</td>\n",
       "      <td>0</td>\n",
       "    </tr>\n",
       "    <tr>\n",
       "      <th>10512997</th>\n",
       "      <td>2021-07-31 23:56:53.527000+00:00</td>\n",
       "      <td>71173209</td>\n",
       "      <td>0</td>\n",
       "      <td>4442</td>\n",
       "      <td>1108220496</td>\n",
       "      <td>722304223</td>\n",
       "      <td>92942124</td>\n",
       "      <td>154904389</td>\n",
       "      <td>119.95</td>\n",
       "      <td>69.95</td>\n",
       "      <td>...</td>\n",
       "      <td>72.91</td>\n",
       "      <td>0.416840</td>\n",
       "      <td>4</td>\n",
       "      <td>0</td>\n",
       "      <td>5</td>\n",
       "      <td>31</td>\n",
       "      <td>30</td>\n",
       "      <td>none</td>\n",
       "      <td>111</td>\n",
       "      <td>0</td>\n",
       "    </tr>\n",
       "    <tr>\n",
       "      <th>10512998</th>\n",
       "      <td>2021-07-31 23:56:53.527000+00:00</td>\n",
       "      <td>71173209</td>\n",
       "      <td>0</td>\n",
       "      <td>108763</td>\n",
       "      <td>1108220491</td>\n",
       "      <td>722304223</td>\n",
       "      <td>39088676</td>\n",
       "      <td>69164477</td>\n",
       "      <td>99.90</td>\n",
       "      <td>53.91</td>\n",
       "      <td>...</td>\n",
       "      <td>63.30</td>\n",
       "      <td>0.460360</td>\n",
       "      <td>4</td>\n",
       "      <td>0</td>\n",
       "      <td>5</td>\n",
       "      <td>31</td>\n",
       "      <td>30</td>\n",
       "      <td>none</td>\n",
       "      <td>111</td>\n",
       "      <td>0</td>\n",
       "    </tr>\n",
       "    <tr>\n",
       "      <th>10512999</th>\n",
       "      <td>2021-07-31 23:56:53.527000+00:00</td>\n",
       "      <td>71173209</td>\n",
       "      <td>0</td>\n",
       "      <td>4442</td>\n",
       "      <td>1108220495</td>\n",
       "      <td>722304223</td>\n",
       "      <td>75798504</td>\n",
       "      <td>129774868</td>\n",
       "      <td>119.95</td>\n",
       "      <td>47.98</td>\n",
       "      <td>...</td>\n",
       "      <td>50.94</td>\n",
       "      <td>0.600000</td>\n",
       "      <td>4</td>\n",
       "      <td>0</td>\n",
       "      <td>5</td>\n",
       "      <td>31</td>\n",
       "      <td>30</td>\n",
       "      <td>none</td>\n",
       "      <td>111</td>\n",
       "      <td>0</td>\n",
       "    </tr>\n",
       "  </tbody>\n",
       "</table>\n",
       "<p>10513238 rows × 50 columns</p>\n",
       "</div>"
      ],
      "text/plain": [
       "                               order_date   user_id  is_elite_user  \\\n",
       "2828235  2021-05-19 01:27:28.768000+00:00      2141              0   \n",
       "2828236  2021-05-19 01:27:28.768000+00:00      2141              0   \n",
       "4385691  2021-06-02 00:51:35.862000+00:00      2141              0   \n",
       "4385692  2021-06-02 00:51:35.862000+00:00      2141              0   \n",
       "5351927  2021-06-09 23:31:37.963000+00:00      2141              0   \n",
       "...                                   ...       ...            ...   \n",
       "10512995 2021-07-31 23:56:53.527000+00:00  71173209              0   \n",
       "10512996 2021-07-31 23:56:53.527000+00:00  71173209              0   \n",
       "10512997 2021-07-31 23:56:53.527000+00:00  71173209              0   \n",
       "10512998 2021-07-31 23:56:53.527000+00:00  71173209              0   \n",
       "10512999 2021-07-31 23:56:53.527000+00:00  71173209              0   \n",
       "\n",
       "          supplier_id  order_line_item_id  order_parent_id  \\\n",
       "2828235        216503           955598029        625610651   \n",
       "2828236          1188           955598030        625610651   \n",
       "4385691        200788           988146564        643936439   \n",
       "4385692        107296           988146563        643936439   \n",
       "5351927           968          1007223734        654756664   \n",
       "...               ...                 ...              ...   \n",
       "10512995         1188          1108220493        722304223   \n",
       "10512996         4442          1108220494        722304223   \n",
       "10512997         4442          1108220496        722304223   \n",
       "10512998       108763          1108220491        722304223   \n",
       "10512999         4442          1108220495        722304223   \n",
       "\n",
       "          product_content_id_tra  product_variant_id  original_price  \\\n",
       "2828235                 50139552           133066437          104.90   \n",
       "2828236                 43449486            77047570           79.99   \n",
       "4385691                 91890044           153411316          110.30   \n",
       "4385692                104632296           172744639           59.90   \n",
       "5351927                 97487968           162306389          119.99   \n",
       "...                          ...                 ...             ...   \n",
       "10512995                81125378           137322776           59.99   \n",
       "10512996                74591958           128072877           79.95   \n",
       "10512997                92942124           154904389          119.95   \n",
       "10512998                39088676            69164477           99.90   \n",
       "10512999                75798504           129774868          119.95   \n",
       "\n",
       "          discounted_price  ...  paid_amount discount_ratio  hour_interval  \\\n",
       "2828235              69.90  ...        81.23       0.333651              4   \n",
       "2828236              79.99  ...        88.87       0.000000              4   \n",
       "4385691              55.15  ...        64.03       0.500000              4   \n",
       "4385692              49.90  ...        58.78       0.166945              4   \n",
       "5351927              48.00  ...        64.46       0.599967              4   \n",
       "...                    ...  ...          ...            ...            ...   \n",
       "10512995             59.99  ...        68.87       0.000000              4   \n",
       "10512996             31.98  ...        34.94       0.600000              4   \n",
       "10512997             69.95  ...        72.91       0.416840              4   \n",
       "10512998             53.91  ...        63.30       0.460360              4   \n",
       "10512999             47.98  ...        50.94       0.600000              4   \n",
       "\n",
       "         diff_order_memdate  order_weekday  order_day  order_week  zodiac  \\\n",
       "2828235                4135              2         19          20     sco   \n",
       "2828236                4135              2         19          20     sco   \n",
       "4385691                4149              2          2          22     sco   \n",
       "4385692                4149              2          2          22     sco   \n",
       "5351927                4157              2          9          23     sco   \n",
       "...                     ...            ...        ...         ...     ...   \n",
       "10512995                  0              5         31          30    none   \n",
       "10512996                  0              5         31          30    none   \n",
       "10512997                  0              5         31          30    none   \n",
       "10512998                  0              5         31          30    none   \n",
       "10512999                  0              5         31          30    none   \n",
       "\n",
       "          age  is_bday_close  \n",
       "2828235    43              0  \n",
       "2828236    43              0  \n",
       "4385691    43              0  \n",
       "4385692    43              0  \n",
       "5351927    43              0  \n",
       "...       ...            ...  \n",
       "10512995  111              0  \n",
       "10512996  111              0  \n",
       "10512997  111              0  \n",
       "10512998  111              0  \n",
       "10512999  111              0  \n",
       "\n",
       "[10513238 rows x 50 columns]"
      ]
     },
     "execution_count": 65,
     "metadata": {},
     "output_type": "execute_result"
    }
   ],
   "source": [
    "df_v1"
   ]
  },
  {
   "cell_type": "code",
   "execution_count": null,
   "id": "french-washer",
   "metadata": {},
   "outputs": [],
   "source": [
    "df_v1['return_rate'] = df_v1.groupby(['user_id'])['is_returned'].cumsum()/(df_v1.groupby(['user_id'])['is_returned'].cumcount()+1)"
   ]
  },
  {
   "cell_type": "code",
   "execution_count": 67,
   "id": "apart-patent",
   "metadata": {},
   "outputs": [
    {
     "data": {
      "text/plain": [
       "user_id   order_parent_id\n",
       "2141      625610651          0.0\n",
       "          643936439          0.0\n",
       "          654756664          0.0\n",
       "          663212595          0.0\n",
       "          686342545          0.0\n",
       "                            ... \n",
       "71170993  722248583          1.0\n",
       "71172153  722293572          0.0\n",
       "71172404  722292470          1.0\n",
       "71172988  722302296          0.0\n",
       "71173209  722304223          0.0\n",
       "Name: is_returned, Length: 4086293, dtype: float64"
      ]
     },
     "execution_count": 67,
     "metadata": {},
     "output_type": "execute_result"
    }
   ],
   "source": [
    "df_v1.groupby(['user_id','order_parent_id'])['is_returned'].max()/(df_v1.groupby(['user_id'])['is_returned'].cumcount()+1)"
   ]
  },
  {
   "cell_type": "code",
   "execution_count": 82,
   "id": "banned-debate",
   "metadata": {},
   "outputs": [],
   "source": [
    "order_returns = pd.DataFrame(df_v1.groupby(['user_id', 'order_parent_id'])['is_returned'].max()).reset_index()\n",
    "order_returns['return_rate'] = (order_returns.groupby(['user_id'])['is_returned'].cumsum()/(order_returns.groupby(['user_id'])['is_returned'].cumcount()+1))\n",
    "order_returns['shifted_return_rate'] = order_returns.groupby(['user_id'])['return_rate'].shift(1)"
   ]
  },
  {
   "cell_type": "code",
   "execution_count": 104,
   "id": "stable-brother",
   "metadata": {},
   "outputs": [],
   "source": [
    "order_returns.drop(['is_returned', 'return_rate','user_id'], axis=1, inplace=True)\n",
    "order_returns['shifted_return_rate'] = order_returns['shifted_return_rate'].fillna(0.0)\n",
    "df_v1 = pd.merge(df_v1, order_returns, on=['order_parent_id'], how='left')"
   ]
  },
  {
   "cell_type": "code",
   "execution_count": 202,
   "id": "packed-bullet",
   "metadata": {},
   "outputs": [
    {
     "name": "stderr",
     "output_type": "stream",
     "text": [
      "<ipython-input-202-f8d3c0589e88>:2: SettingWithCopyWarning: \n",
      "A value is trying to be set on a copy of a slice from a DataFrame.\n",
      "Try using .loc[row_indexer,col_indexer] = value instead\n",
      "\n",
      "See the caveats in the documentation: https://pandas.pydata.org/pandas-docs/stable/user_guide/indexing.html#returning-a-view-versus-a-copy\n",
      "  user_return_info['return_rate'] = user_return_info.groupby(['user_id'])['is_returned'].cumsum()/(user_return_info.groupby(['user_id'])['is_returned'].cumcount()+1)\n",
      "<ipython-input-202-f8d3c0589e88>:3: SettingWithCopyWarning: \n",
      "A value is trying to be set on a copy of a slice from a DataFrame.\n",
      "Try using .loc[row_indexer,col_indexer] = value instead\n",
      "\n",
      "See the caveats in the documentation: https://pandas.pydata.org/pandas-docs/stable/user_guide/indexing.html#returning-a-view-versus-a-copy\n",
      "  user_return_info['tail'] = user_return_info.groupby(['user_id', 'order_parent_id'])['return_rate'].tail(1)\n"
     ]
    }
   ],
   "source": [
    "user_return_info = df_v1[['user_id', 'is_returned', 'order_parent_id']]\n",
    "user_return_info['return_rate'] = user_return_info.groupby(['user_id'])['is_returned'].cumsum()/(user_return_info.groupby(['user_id'])['is_returned'].cumcount()+1)\n",
    "user_return_info['tail'] = user_return_info.groupby(['user_id', 'order_parent_id'])['return_rate'].tail(1)\n",
    "user_return_info = user_return_info[['user_id','order_parent_id', 'tail']].dropna()\n",
    "user_return_info['shifted_tail'] = user_return_info.groupby(['user_id'])['tail'].shift(1)\n",
    "user_return_info['item_return_rate'] = user_return_info['shifted_tail'].fillna(0.0)\n",
    "df_v1 = pd.merge(df_v1, user_return_info[['order_parent_id', 'item_return_rate']], on=['order_parent_id'], how='left')"
   ]
  },
  {
   "cell_type": "code",
   "execution_count": 235,
   "id": "nearby-style",
   "metadata": {},
   "outputs": [],
   "source": [
    "category_return = df_v1.groupby(['user_id','order_parent_id','category_id'])['is_returned'].sum()\n",
    "category_return = pd.DataFrame(category_return)"
   ]
  },
  {
   "cell_type": "code",
   "execution_count": 280,
   "id": "logical-lawyer",
   "metadata": {},
   "outputs": [],
   "source": [
    "exp_mean = category_return.groupby(['user_id','category_id']).expanding().mean()"
   ]
  },
  {
   "cell_type": "code",
   "execution_count": 282,
   "id": "uniform-swift",
   "metadata": {},
   "outputs": [],
   "source": [
    "category_return['cum_mean'] = exp_mean"
   ]
  },
  {
   "cell_type": "code",
   "execution_count": 263,
   "id": "known-insulin",
   "metadata": {},
   "outputs": [],
   "source": [
    "exp_mean = pd.DataFrame(exp_mean).reset_index()\n",
    "exp_mean.columns = ['user_id', 'category_id', 'cat_return']\n",
    "exp_mean['shifted_cat_return'] = exp_mean.groupby(['user_id','category_id'])['cat_return'].shift(1)\n",
    "exp_mean['shifted_cat_return'] = exp_mean['shifted_cat_return'].fillna(0.0)"
   ]
  },
  {
   "cell_type": "code",
   "execution_count": 285,
   "id": "previous-repeat",
   "metadata": {},
   "outputs": [
    {
     "data": {
      "text/plain": [
       "user_id   order_parent_id  category_id\n",
       "2141      625610651        579                                                          0.0\n",
       "                           1182                                                         0.0\n",
       "          643936439        579                                                          0.0\n",
       "                           1182                                                         0.0\n",
       "          654756664        586                                                          0.0\n",
       "                                                                ...                        \n",
       "71172988  722302296        2962                                                         0.0\n",
       "71173209  722304223        562                                                          0.0\n",
       "                           604                                                          0.0\n",
       "                           3098                                                         0.0\n",
       "cum_mean                                  user_id   category_id\n",
       "2141      530           ...\n",
       "Name: is_returned, Length: 6801192, dtype: object"
      ]
     },
     "execution_count": 285,
     "metadata": {},
     "output_type": "execute_result"
    }
   ],
   "source": [
    "category_return.loc[1:,'cum_mean']"
   ]
  },
  {
   "cell_type": "code",
   "execution_count": 265,
   "id": "large-amount",
   "metadata": {},
   "outputs": [],
   "source": [
    "df_v1 = pd.merge(df_v1, exp_mean[['user_id', 'category_id']], on=['order_parent_id'], how='left')"
   ]
  },
  {
   "cell_type": "code",
   "execution_count": 269,
   "id": "elder-jimmy",
   "metadata": {},
   "outputs": [],
   "source": [
    "exp_mean['shifted_cat_return'] = exp_mean.groupby(['user_id','category_id'])['cat_return'].shift(1)\n",
    "exp_mean['shifted_cat_return'] = exp_mean['shifted_cat_return'].fillna(0.0)"
   ]
  },
  {
   "cell_type": "code",
   "execution_count": 278,
   "id": "olympic-laugh",
   "metadata": {},
   "outputs": [
    {
     "data": {
      "text/html": [
       "<div>\n",
       "<style scoped>\n",
       "    .dataframe tbody tr th:only-of-type {\n",
       "        vertical-align: middle;\n",
       "    }\n",
       "\n",
       "    .dataframe tbody tr th {\n",
       "        vertical-align: top;\n",
       "    }\n",
       "\n",
       "    .dataframe thead th {\n",
       "        text-align: right;\n",
       "    }\n",
       "</style>\n",
       "<table border=\"1\" class=\"dataframe\">\n",
       "  <thead>\n",
       "    <tr style=\"text-align: right;\">\n",
       "      <th></th>\n",
       "      <th>user_id</th>\n",
       "      <th>category_id</th>\n",
       "      <th>cat_return</th>\n",
       "      <th>shifted_cat_return</th>\n",
       "    </tr>\n",
       "  </thead>\n",
       "  <tbody>\n",
       "    <tr>\n",
       "      <th>0</th>\n",
       "      <td>2141</td>\n",
       "      <td>530</td>\n",
       "      <td>0.0</td>\n",
       "      <td>0.0</td>\n",
       "    </tr>\n",
       "    <tr>\n",
       "      <th>1</th>\n",
       "      <td>2141</td>\n",
       "      <td>579</td>\n",
       "      <td>0.0</td>\n",
       "      <td>0.0</td>\n",
       "    </tr>\n",
       "    <tr>\n",
       "      <th>2</th>\n",
       "      <td>2141</td>\n",
       "      <td>579</td>\n",
       "      <td>0.0</td>\n",
       "      <td>0.0</td>\n",
       "    </tr>\n",
       "    <tr>\n",
       "      <th>3</th>\n",
       "      <td>2141</td>\n",
       "      <td>579</td>\n",
       "      <td>0.0</td>\n",
       "      <td>0.0</td>\n",
       "    </tr>\n",
       "    <tr>\n",
       "      <th>4</th>\n",
       "      <td>2141</td>\n",
       "      <td>580</td>\n",
       "      <td>0.0</td>\n",
       "      <td>0.0</td>\n",
       "    </tr>\n",
       "    <tr>\n",
       "      <th>...</th>\n",
       "      <td>...</td>\n",
       "      <td>...</td>\n",
       "      <td>...</td>\n",
       "      <td>...</td>\n",
       "    </tr>\n",
       "    <tr>\n",
       "      <th>6801186</th>\n",
       "      <td>71172404</td>\n",
       "      <td>1182</td>\n",
       "      <td>0.0</td>\n",
       "      <td>0.0</td>\n",
       "    </tr>\n",
       "    <tr>\n",
       "      <th>6801187</th>\n",
       "      <td>71172988</td>\n",
       "      <td>2962</td>\n",
       "      <td>0.0</td>\n",
       "      <td>0.0</td>\n",
       "    </tr>\n",
       "    <tr>\n",
       "      <th>6801188</th>\n",
       "      <td>71173209</td>\n",
       "      <td>562</td>\n",
       "      <td>0.0</td>\n",
       "      <td>0.0</td>\n",
       "    </tr>\n",
       "    <tr>\n",
       "      <th>6801189</th>\n",
       "      <td>71173209</td>\n",
       "      <td>604</td>\n",
       "      <td>0.0</td>\n",
       "      <td>0.0</td>\n",
       "    </tr>\n",
       "    <tr>\n",
       "      <th>6801190</th>\n",
       "      <td>71173209</td>\n",
       "      <td>3098</td>\n",
       "      <td>0.0</td>\n",
       "      <td>0.0</td>\n",
       "    </tr>\n",
       "  </tbody>\n",
       "</table>\n",
       "<p>6801191 rows × 4 columns</p>\n",
       "</div>"
      ],
      "text/plain": [
       "          user_id  category_id  cat_return  shifted_cat_return\n",
       "0            2141          530         0.0                 0.0\n",
       "1            2141          579         0.0                 0.0\n",
       "2            2141          579         0.0                 0.0\n",
       "3            2141          579         0.0                 0.0\n",
       "4            2141          580         0.0                 0.0\n",
       "...           ...          ...         ...                 ...\n",
       "6801186  71172404         1182         0.0                 0.0\n",
       "6801187  71172988         2962         0.0                 0.0\n",
       "6801188  71173209          562         0.0                 0.0\n",
       "6801189  71173209          604         0.0                 0.0\n",
       "6801190  71173209         3098         0.0                 0.0\n",
       "\n",
       "[6801191 rows x 4 columns]"
      ]
     },
     "execution_count": 278,
     "metadata": {},
     "output_type": "execute_result"
    }
   ],
   "source": [
    "exp_mean"
   ]
  },
  {
   "cell_type": "code",
   "execution_count": null,
   "id": "binary-loading",
   "metadata": {},
   "outputs": [],
   "source": [
    "user_return_info['cat_return'] = user_return_info['cat_return'].fillna(0.0)"
   ]
  },
  {
   "cell_type": "code",
   "execution_count": 279,
   "id": "boring-gather",
   "metadata": {},
   "outputs": [
    {
     "data": {
      "text/html": [
       "<div>\n",
       "<style scoped>\n",
       "    .dataframe tbody tr th:only-of-type {\n",
       "        vertical-align: middle;\n",
       "    }\n",
       "\n",
       "    .dataframe tbody tr th {\n",
       "        vertical-align: top;\n",
       "    }\n",
       "\n",
       "    .dataframe thead th {\n",
       "        text-align: right;\n",
       "    }\n",
       "</style>\n",
       "<table border=\"1\" class=\"dataframe\">\n",
       "  <thead>\n",
       "    <tr style=\"text-align: right;\">\n",
       "      <th></th>\n",
       "      <th>user_id</th>\n",
       "      <th>order_parent_id</th>\n",
       "      <th>category_id</th>\n",
       "      <th>is_returned</th>\n",
       "    </tr>\n",
       "  </thead>\n",
       "  <tbody>\n",
       "    <tr>\n",
       "      <th>0</th>\n",
       "      <td>2141</td>\n",
       "      <td>625610651</td>\n",
       "      <td>579</td>\n",
       "      <td>0.0</td>\n",
       "    </tr>\n",
       "    <tr>\n",
       "      <th>1</th>\n",
       "      <td>2141</td>\n",
       "      <td>625610651</td>\n",
       "      <td>1182</td>\n",
       "      <td>0.0</td>\n",
       "    </tr>\n",
       "    <tr>\n",
       "      <th>2</th>\n",
       "      <td>2141</td>\n",
       "      <td>643936439</td>\n",
       "      <td>579</td>\n",
       "      <td>0.0</td>\n",
       "    </tr>\n",
       "    <tr>\n",
       "      <th>3</th>\n",
       "      <td>2141</td>\n",
       "      <td>643936439</td>\n",
       "      <td>1182</td>\n",
       "      <td>0.0</td>\n",
       "    </tr>\n",
       "    <tr>\n",
       "      <th>4</th>\n",
       "      <td>2141</td>\n",
       "      <td>654756664</td>\n",
       "      <td>586</td>\n",
       "      <td>0.0</td>\n",
       "    </tr>\n",
       "    <tr>\n",
       "      <th>...</th>\n",
       "      <td>...</td>\n",
       "      <td>...</td>\n",
       "      <td>...</td>\n",
       "      <td>...</td>\n",
       "    </tr>\n",
       "    <tr>\n",
       "      <th>6801186</th>\n",
       "      <td>71172404</td>\n",
       "      <td>722292470</td>\n",
       "      <td>1182</td>\n",
       "      <td>0.0</td>\n",
       "    </tr>\n",
       "    <tr>\n",
       "      <th>6801187</th>\n",
       "      <td>71172988</td>\n",
       "      <td>722302296</td>\n",
       "      <td>2962</td>\n",
       "      <td>0.0</td>\n",
       "    </tr>\n",
       "    <tr>\n",
       "      <th>6801188</th>\n",
       "      <td>71173209</td>\n",
       "      <td>722304223</td>\n",
       "      <td>562</td>\n",
       "      <td>0.0</td>\n",
       "    </tr>\n",
       "    <tr>\n",
       "      <th>6801189</th>\n",
       "      <td>71173209</td>\n",
       "      <td>722304223</td>\n",
       "      <td>604</td>\n",
       "      <td>0.0</td>\n",
       "    </tr>\n",
       "    <tr>\n",
       "      <th>6801190</th>\n",
       "      <td>71173209</td>\n",
       "      <td>722304223</td>\n",
       "      <td>3098</td>\n",
       "      <td>0.0</td>\n",
       "    </tr>\n",
       "  </tbody>\n",
       "</table>\n",
       "<p>6801191 rows × 4 columns</p>\n",
       "</div>"
      ],
      "text/plain": [
       "          user_id  order_parent_id  category_id  is_returned\n",
       "0            2141        625610651          579          0.0\n",
       "1            2141        625610651         1182          0.0\n",
       "2            2141        643936439          579          0.0\n",
       "3            2141        643936439         1182          0.0\n",
       "4            2141        654756664          586          0.0\n",
       "...           ...              ...          ...          ...\n",
       "6801186  71172404        722292470         1182          0.0\n",
       "6801187  71172988        722302296         2962          0.0\n",
       "6801188  71173209        722304223          562          0.0\n",
       "6801189  71173209        722304223          604          0.0\n",
       "6801190  71173209        722304223         3098          0.0\n",
       "\n",
       "[6801191 rows x 4 columns]"
      ]
     },
     "execution_count": 279,
     "metadata": {},
     "output_type": "execute_result"
    }
   ],
   "source": [
    "pd.DataFrame(category_return).reset_index()"
   ]
  },
  {
   "cell_type": "code",
   "execution_count": null,
   "id": "comic-programming",
   "metadata": {},
   "outputs": [],
   "source": []
  },
  {
   "cell_type": "code",
   "execution_count": 247,
   "id": "rural-department",
   "metadata": {},
   "outputs": [
    {
     "data": {
      "text/plain": [
       "47    1.0\n",
       "49    0.0\n",
       "50    1.0\n",
       "52    1.0\n",
       "53    0.0\n",
       "54    1.0\n",
       "55    0.0\n",
       "Name: is_returned, dtype: float64"
      ]
     },
     "execution_count": 247,
     "metadata": {},
     "output_type": "execute_result"
    }
   ],
   "source": [
    "df_v1[(df_v1['order_parent_id']==718319934) & (df_v1['category_id']==1182)]['is_returned']"
   ]
  },
  {
   "cell_type": "code",
   "execution_count": 108,
   "id": "expanded-interpretation",
   "metadata": {},
   "outputs": [
    {
     "data": {
      "text/html": [
       "<div>\n",
       "<style scoped>\n",
       "    .dataframe tbody tr th:only-of-type {\n",
       "        vertical-align: middle;\n",
       "    }\n",
       "\n",
       "    .dataframe tbody tr th {\n",
       "        vertical-align: top;\n",
       "    }\n",
       "\n",
       "    .dataframe thead th {\n",
       "        text-align: right;\n",
       "    }\n",
       "</style>\n",
       "<table border=\"1\" class=\"dataframe\">\n",
       "  <thead>\n",
       "    <tr style=\"text-align: right;\">\n",
       "      <th></th>\n",
       "      <th>order_date</th>\n",
       "      <th>user_id</th>\n",
       "      <th>is_elite_user</th>\n",
       "      <th>supplier_id</th>\n",
       "      <th>order_line_item_id</th>\n",
       "      <th>order_parent_id</th>\n",
       "      <th>product_content_id_tra</th>\n",
       "      <th>product_variant_id</th>\n",
       "      <th>original_price</th>\n",
       "      <th>discounted_price</th>\n",
       "      <th>...</th>\n",
       "      <th>discount_ratio</th>\n",
       "      <th>hour_interval</th>\n",
       "      <th>diff_order_memdate</th>\n",
       "      <th>order_weekday</th>\n",
       "      <th>order_day</th>\n",
       "      <th>order_week</th>\n",
       "      <th>zodiac</th>\n",
       "      <th>age</th>\n",
       "      <th>is_bday_close</th>\n",
       "      <th>shifted_return_rate</th>\n",
       "    </tr>\n",
       "  </thead>\n",
       "  <tbody>\n",
       "    <tr>\n",
       "      <th>0</th>\n",
       "      <td>2021-05-19 01:27:28.768000+00:00</td>\n",
       "      <td>2141</td>\n",
       "      <td>0</td>\n",
       "      <td>216503</td>\n",
       "      <td>955598029</td>\n",
       "      <td>625610651</td>\n",
       "      <td>50139552</td>\n",
       "      <td>133066437</td>\n",
       "      <td>104.90</td>\n",
       "      <td>69.90</td>\n",
       "      <td>...</td>\n",
       "      <td>0.333651</td>\n",
       "      <td>4</td>\n",
       "      <td>4135</td>\n",
       "      <td>2</td>\n",
       "      <td>19</td>\n",
       "      <td>20</td>\n",
       "      <td>sco</td>\n",
       "      <td>43</td>\n",
       "      <td>0</td>\n",
       "      <td>NaN</td>\n",
       "    </tr>\n",
       "    <tr>\n",
       "      <th>1</th>\n",
       "      <td>2021-05-19 01:27:28.768000+00:00</td>\n",
       "      <td>2141</td>\n",
       "      <td>0</td>\n",
       "      <td>1188</td>\n",
       "      <td>955598030</td>\n",
       "      <td>625610651</td>\n",
       "      <td>43449486</td>\n",
       "      <td>77047570</td>\n",
       "      <td>79.99</td>\n",
       "      <td>79.99</td>\n",
       "      <td>...</td>\n",
       "      <td>0.000000</td>\n",
       "      <td>4</td>\n",
       "      <td>4135</td>\n",
       "      <td>2</td>\n",
       "      <td>19</td>\n",
       "      <td>20</td>\n",
       "      <td>sco</td>\n",
       "      <td>43</td>\n",
       "      <td>0</td>\n",
       "      <td>NaN</td>\n",
       "    </tr>\n",
       "    <tr>\n",
       "      <th>2</th>\n",
       "      <td>2021-06-02 00:51:35.862000+00:00</td>\n",
       "      <td>2141</td>\n",
       "      <td>0</td>\n",
       "      <td>200788</td>\n",
       "      <td>988146564</td>\n",
       "      <td>643936439</td>\n",
       "      <td>91890044</td>\n",
       "      <td>153411316</td>\n",
       "      <td>110.30</td>\n",
       "      <td>55.15</td>\n",
       "      <td>...</td>\n",
       "      <td>0.500000</td>\n",
       "      <td>4</td>\n",
       "      <td>4149</td>\n",
       "      <td>2</td>\n",
       "      <td>2</td>\n",
       "      <td>22</td>\n",
       "      <td>sco</td>\n",
       "      <td>43</td>\n",
       "      <td>0</td>\n",
       "      <td>0.0</td>\n",
       "    </tr>\n",
       "    <tr>\n",
       "      <th>3</th>\n",
       "      <td>2021-06-02 00:51:35.862000+00:00</td>\n",
       "      <td>2141</td>\n",
       "      <td>0</td>\n",
       "      <td>107296</td>\n",
       "      <td>988146563</td>\n",
       "      <td>643936439</td>\n",
       "      <td>104632296</td>\n",
       "      <td>172744639</td>\n",
       "      <td>59.90</td>\n",
       "      <td>49.90</td>\n",
       "      <td>...</td>\n",
       "      <td>0.166945</td>\n",
       "      <td>4</td>\n",
       "      <td>4149</td>\n",
       "      <td>2</td>\n",
       "      <td>2</td>\n",
       "      <td>22</td>\n",
       "      <td>sco</td>\n",
       "      <td>43</td>\n",
       "      <td>0</td>\n",
       "      <td>0.0</td>\n",
       "    </tr>\n",
       "    <tr>\n",
       "      <th>4</th>\n",
       "      <td>2021-06-09 23:31:37.963000+00:00</td>\n",
       "      <td>2141</td>\n",
       "      <td>0</td>\n",
       "      <td>968</td>\n",
       "      <td>1007223734</td>\n",
       "      <td>654756664</td>\n",
       "      <td>97487968</td>\n",
       "      <td>162306389</td>\n",
       "      <td>119.99</td>\n",
       "      <td>48.00</td>\n",
       "      <td>...</td>\n",
       "      <td>0.599967</td>\n",
       "      <td>4</td>\n",
       "      <td>4157</td>\n",
       "      <td>2</td>\n",
       "      <td>9</td>\n",
       "      <td>23</td>\n",
       "      <td>sco</td>\n",
       "      <td>43</td>\n",
       "      <td>0</td>\n",
       "      <td>0.0</td>\n",
       "    </tr>\n",
       "    <tr>\n",
       "      <th>...</th>\n",
       "      <td>...</td>\n",
       "      <td>...</td>\n",
       "      <td>...</td>\n",
       "      <td>...</td>\n",
       "      <td>...</td>\n",
       "      <td>...</td>\n",
       "      <td>...</td>\n",
       "      <td>...</td>\n",
       "      <td>...</td>\n",
       "      <td>...</td>\n",
       "      <td>...</td>\n",
       "      <td>...</td>\n",
       "      <td>...</td>\n",
       "      <td>...</td>\n",
       "      <td>...</td>\n",
       "      <td>...</td>\n",
       "      <td>...</td>\n",
       "      <td>...</td>\n",
       "      <td>...</td>\n",
       "      <td>...</td>\n",
       "      <td>...</td>\n",
       "    </tr>\n",
       "    <tr>\n",
       "      <th>10513233</th>\n",
       "      <td>2021-07-31 23:56:53.527000+00:00</td>\n",
       "      <td>71173209</td>\n",
       "      <td>0</td>\n",
       "      <td>1188</td>\n",
       "      <td>1108220493</td>\n",
       "      <td>722304223</td>\n",
       "      <td>81125378</td>\n",
       "      <td>137322776</td>\n",
       "      <td>59.99</td>\n",
       "      <td>59.99</td>\n",
       "      <td>...</td>\n",
       "      <td>0.000000</td>\n",
       "      <td>4</td>\n",
       "      <td>0</td>\n",
       "      <td>5</td>\n",
       "      <td>31</td>\n",
       "      <td>30</td>\n",
       "      <td>none</td>\n",
       "      <td>111</td>\n",
       "      <td>0</td>\n",
       "      <td>NaN</td>\n",
       "    </tr>\n",
       "    <tr>\n",
       "      <th>10513234</th>\n",
       "      <td>2021-07-31 23:56:53.527000+00:00</td>\n",
       "      <td>71173209</td>\n",
       "      <td>0</td>\n",
       "      <td>4442</td>\n",
       "      <td>1108220494</td>\n",
       "      <td>722304223</td>\n",
       "      <td>74591958</td>\n",
       "      <td>128072877</td>\n",
       "      <td>79.95</td>\n",
       "      <td>31.98</td>\n",
       "      <td>...</td>\n",
       "      <td>0.600000</td>\n",
       "      <td>4</td>\n",
       "      <td>0</td>\n",
       "      <td>5</td>\n",
       "      <td>31</td>\n",
       "      <td>30</td>\n",
       "      <td>none</td>\n",
       "      <td>111</td>\n",
       "      <td>0</td>\n",
       "      <td>NaN</td>\n",
       "    </tr>\n",
       "    <tr>\n",
       "      <th>10513235</th>\n",
       "      <td>2021-07-31 23:56:53.527000+00:00</td>\n",
       "      <td>71173209</td>\n",
       "      <td>0</td>\n",
       "      <td>4442</td>\n",
       "      <td>1108220496</td>\n",
       "      <td>722304223</td>\n",
       "      <td>92942124</td>\n",
       "      <td>154904389</td>\n",
       "      <td>119.95</td>\n",
       "      <td>69.95</td>\n",
       "      <td>...</td>\n",
       "      <td>0.416840</td>\n",
       "      <td>4</td>\n",
       "      <td>0</td>\n",
       "      <td>5</td>\n",
       "      <td>31</td>\n",
       "      <td>30</td>\n",
       "      <td>none</td>\n",
       "      <td>111</td>\n",
       "      <td>0</td>\n",
       "      <td>NaN</td>\n",
       "    </tr>\n",
       "    <tr>\n",
       "      <th>10513236</th>\n",
       "      <td>2021-07-31 23:56:53.527000+00:00</td>\n",
       "      <td>71173209</td>\n",
       "      <td>0</td>\n",
       "      <td>108763</td>\n",
       "      <td>1108220491</td>\n",
       "      <td>722304223</td>\n",
       "      <td>39088676</td>\n",
       "      <td>69164477</td>\n",
       "      <td>99.90</td>\n",
       "      <td>53.91</td>\n",
       "      <td>...</td>\n",
       "      <td>0.460360</td>\n",
       "      <td>4</td>\n",
       "      <td>0</td>\n",
       "      <td>5</td>\n",
       "      <td>31</td>\n",
       "      <td>30</td>\n",
       "      <td>none</td>\n",
       "      <td>111</td>\n",
       "      <td>0</td>\n",
       "      <td>NaN</td>\n",
       "    </tr>\n",
       "    <tr>\n",
       "      <th>10513237</th>\n",
       "      <td>2021-07-31 23:56:53.527000+00:00</td>\n",
       "      <td>71173209</td>\n",
       "      <td>0</td>\n",
       "      <td>4442</td>\n",
       "      <td>1108220495</td>\n",
       "      <td>722304223</td>\n",
       "      <td>75798504</td>\n",
       "      <td>129774868</td>\n",
       "      <td>119.95</td>\n",
       "      <td>47.98</td>\n",
       "      <td>...</td>\n",
       "      <td>0.600000</td>\n",
       "      <td>4</td>\n",
       "      <td>0</td>\n",
       "      <td>5</td>\n",
       "      <td>31</td>\n",
       "      <td>30</td>\n",
       "      <td>none</td>\n",
       "      <td>111</td>\n",
       "      <td>0</td>\n",
       "      <td>NaN</td>\n",
       "    </tr>\n",
       "  </tbody>\n",
       "</table>\n",
       "<p>10513238 rows × 51 columns</p>\n",
       "</div>"
      ],
      "text/plain": [
       "                               order_date   user_id  is_elite_user  \\\n",
       "0        2021-05-19 01:27:28.768000+00:00      2141              0   \n",
       "1        2021-05-19 01:27:28.768000+00:00      2141              0   \n",
       "2        2021-06-02 00:51:35.862000+00:00      2141              0   \n",
       "3        2021-06-02 00:51:35.862000+00:00      2141              0   \n",
       "4        2021-06-09 23:31:37.963000+00:00      2141              0   \n",
       "...                                   ...       ...            ...   \n",
       "10513233 2021-07-31 23:56:53.527000+00:00  71173209              0   \n",
       "10513234 2021-07-31 23:56:53.527000+00:00  71173209              0   \n",
       "10513235 2021-07-31 23:56:53.527000+00:00  71173209              0   \n",
       "10513236 2021-07-31 23:56:53.527000+00:00  71173209              0   \n",
       "10513237 2021-07-31 23:56:53.527000+00:00  71173209              0   \n",
       "\n",
       "          supplier_id  order_line_item_id  order_parent_id  \\\n",
       "0              216503           955598029        625610651   \n",
       "1                1188           955598030        625610651   \n",
       "2              200788           988146564        643936439   \n",
       "3              107296           988146563        643936439   \n",
       "4                 968          1007223734        654756664   \n",
       "...               ...                 ...              ...   \n",
       "10513233         1188          1108220493        722304223   \n",
       "10513234         4442          1108220494        722304223   \n",
       "10513235         4442          1108220496        722304223   \n",
       "10513236       108763          1108220491        722304223   \n",
       "10513237         4442          1108220495        722304223   \n",
       "\n",
       "          product_content_id_tra  product_variant_id  original_price  \\\n",
       "0                       50139552           133066437          104.90   \n",
       "1                       43449486            77047570           79.99   \n",
       "2                       91890044           153411316          110.30   \n",
       "3                      104632296           172744639           59.90   \n",
       "4                       97487968           162306389          119.99   \n",
       "...                          ...                 ...             ...   \n",
       "10513233                81125378           137322776           59.99   \n",
       "10513234                74591958           128072877           79.95   \n",
       "10513235                92942124           154904389          119.95   \n",
       "10513236                39088676            69164477           99.90   \n",
       "10513237                75798504           129774868          119.95   \n",
       "\n",
       "          discounted_price  ...  discount_ratio hour_interval  \\\n",
       "0                    69.90  ...        0.333651             4   \n",
       "1                    79.99  ...        0.000000             4   \n",
       "2                    55.15  ...        0.500000             4   \n",
       "3                    49.90  ...        0.166945             4   \n",
       "4                    48.00  ...        0.599967             4   \n",
       "...                    ...  ...             ...           ...   \n",
       "10513233             59.99  ...        0.000000             4   \n",
       "10513234             31.98  ...        0.600000             4   \n",
       "10513235             69.95  ...        0.416840             4   \n",
       "10513236             53.91  ...        0.460360             4   \n",
       "10513237             47.98  ...        0.600000             4   \n",
       "\n",
       "          diff_order_memdate order_weekday  order_day  order_week  zodiac  \\\n",
       "0                       4135             2         19          20     sco   \n",
       "1                       4135             2         19          20     sco   \n",
       "2                       4149             2          2          22     sco   \n",
       "3                       4149             2          2          22     sco   \n",
       "4                       4157             2          9          23     sco   \n",
       "...                      ...           ...        ...         ...     ...   \n",
       "10513233                   0             5         31          30    none   \n",
       "10513234                   0             5         31          30    none   \n",
       "10513235                   0             5         31          30    none   \n",
       "10513236                   0             5         31          30    none   \n",
       "10513237                   0             5         31          30    none   \n",
       "\n",
       "          age  is_bday_close  shifted_return_rate  \n",
       "0          43              0                  NaN  \n",
       "1          43              0                  NaN  \n",
       "2          43              0                  0.0  \n",
       "3          43              0                  0.0  \n",
       "4          43              0                  0.0  \n",
       "...       ...            ...                  ...  \n",
       "10513233  111              0                  NaN  \n",
       "10513234  111              0                  NaN  \n",
       "10513235  111              0                  NaN  \n",
       "10513236  111              0                  NaN  \n",
       "10513237  111              0                  NaN  \n",
       "\n",
       "[10513238 rows x 51 columns]"
      ]
     },
     "execution_count": 108,
     "metadata": {},
     "output_type": "execute_result"
    }
   ],
   "source": [
    "df_v1"
   ]
  },
  {
   "cell_type": "code",
   "execution_count": 80,
   "id": "convertible-buffer",
   "metadata": {},
   "outputs": [
    {
     "ename": "ValueError",
     "evalue": "Length mismatch: Expected axis has 1 elements, new values have 3 elements",
     "output_type": "error",
     "traceback": [
      "\u001b[1;31m---------------------------------------------------------------------------\u001b[0m",
      "\u001b[1;31mValueError\u001b[0m                                Traceback (most recent call last)",
      "\u001b[1;32m<ipython-input-80-27309451643f>\u001b[0m in \u001b[0;36m<module>\u001b[1;34m\u001b[0m\n\u001b[1;32m----> 1\u001b[1;33m \u001b[0morder_returns\u001b[0m\u001b[1;33m.\u001b[0m\u001b[0mcolumns\u001b[0m \u001b[1;33m=\u001b[0m \u001b[1;33m[\u001b[0m\u001b[1;34m'user_id'\u001b[0m\u001b[1;33m,\u001b[0m \u001b[1;34m'order_parent_id'\u001b[0m\u001b[1;33m,\u001b[0m \u001b[1;34m'is_returned'\u001b[0m\u001b[1;33m]\u001b[0m\u001b[1;33m\u001b[0m\u001b[1;33m\u001b[0m\u001b[0m\n\u001b[0m\u001b[0;32m      2\u001b[0m \u001b[0morder_returns\u001b[0m\u001b[1;33m\u001b[0m\u001b[1;33m\u001b[0m\u001b[0m\n",
      "\u001b[1;32m~\\anaconda3\\lib\\site-packages\\pandas\\core\\generic.py\u001b[0m in \u001b[0;36m__setattr__\u001b[1;34m(self, name, value)\u001b[0m\n\u001b[0;32m   5476\u001b[0m         \u001b[1;32mtry\u001b[0m\u001b[1;33m:\u001b[0m\u001b[1;33m\u001b[0m\u001b[1;33m\u001b[0m\u001b[0m\n\u001b[0;32m   5477\u001b[0m             \u001b[0mobject\u001b[0m\u001b[1;33m.\u001b[0m\u001b[0m__getattribute__\u001b[0m\u001b[1;33m(\u001b[0m\u001b[0mself\u001b[0m\u001b[1;33m,\u001b[0m \u001b[0mname\u001b[0m\u001b[1;33m)\u001b[0m\u001b[1;33m\u001b[0m\u001b[1;33m\u001b[0m\u001b[0m\n\u001b[1;32m-> 5478\u001b[1;33m             \u001b[1;32mreturn\u001b[0m \u001b[0mobject\u001b[0m\u001b[1;33m.\u001b[0m\u001b[0m__setattr__\u001b[0m\u001b[1;33m(\u001b[0m\u001b[0mself\u001b[0m\u001b[1;33m,\u001b[0m \u001b[0mname\u001b[0m\u001b[1;33m,\u001b[0m \u001b[0mvalue\u001b[0m\u001b[1;33m)\u001b[0m\u001b[1;33m\u001b[0m\u001b[1;33m\u001b[0m\u001b[0m\n\u001b[0m\u001b[0;32m   5479\u001b[0m         \u001b[1;32mexcept\u001b[0m \u001b[0mAttributeError\u001b[0m\u001b[1;33m:\u001b[0m\u001b[1;33m\u001b[0m\u001b[1;33m\u001b[0m\u001b[0m\n\u001b[0;32m   5480\u001b[0m             \u001b[1;32mpass\u001b[0m\u001b[1;33m\u001b[0m\u001b[1;33m\u001b[0m\u001b[0m\n",
      "\u001b[1;32mpandas\\_libs\\properties.pyx\u001b[0m in \u001b[0;36mpandas._libs.properties.AxisProperty.__set__\u001b[1;34m()\u001b[0m\n",
      "\u001b[1;32m~\\anaconda3\\lib\\site-packages\\pandas\\core\\generic.py\u001b[0m in \u001b[0;36m_set_axis\u001b[1;34m(self, axis, labels)\u001b[0m\n\u001b[0;32m    668\u001b[0m     \u001b[1;32mdef\u001b[0m \u001b[0m_set_axis\u001b[0m\u001b[1;33m(\u001b[0m\u001b[0mself\u001b[0m\u001b[1;33m,\u001b[0m \u001b[0maxis\u001b[0m\u001b[1;33m:\u001b[0m \u001b[0mint\u001b[0m\u001b[1;33m,\u001b[0m \u001b[0mlabels\u001b[0m\u001b[1;33m:\u001b[0m \u001b[0mIndex\u001b[0m\u001b[1;33m)\u001b[0m \u001b[1;33m->\u001b[0m \u001b[1;32mNone\u001b[0m\u001b[1;33m:\u001b[0m\u001b[1;33m\u001b[0m\u001b[1;33m\u001b[0m\u001b[0m\n\u001b[0;32m    669\u001b[0m         \u001b[0mlabels\u001b[0m \u001b[1;33m=\u001b[0m \u001b[0mensure_index\u001b[0m\u001b[1;33m(\u001b[0m\u001b[0mlabels\u001b[0m\u001b[1;33m)\u001b[0m\u001b[1;33m\u001b[0m\u001b[1;33m\u001b[0m\u001b[0m\n\u001b[1;32m--> 670\u001b[1;33m         \u001b[0mself\u001b[0m\u001b[1;33m.\u001b[0m\u001b[0m_mgr\u001b[0m\u001b[1;33m.\u001b[0m\u001b[0mset_axis\u001b[0m\u001b[1;33m(\u001b[0m\u001b[0maxis\u001b[0m\u001b[1;33m,\u001b[0m \u001b[0mlabels\u001b[0m\u001b[1;33m)\u001b[0m\u001b[1;33m\u001b[0m\u001b[1;33m\u001b[0m\u001b[0m\n\u001b[0m\u001b[0;32m    671\u001b[0m         \u001b[0mself\u001b[0m\u001b[1;33m.\u001b[0m\u001b[0m_clear_item_cache\u001b[0m\u001b[1;33m(\u001b[0m\u001b[1;33m)\u001b[0m\u001b[1;33m\u001b[0m\u001b[1;33m\u001b[0m\u001b[0m\n\u001b[0;32m    672\u001b[0m \u001b[1;33m\u001b[0m\u001b[0m\n",
      "\u001b[1;32m~\\anaconda3\\lib\\site-packages\\pandas\\core\\internals\\managers.py\u001b[0m in \u001b[0;36mset_axis\u001b[1;34m(self, axis, new_labels)\u001b[0m\n\u001b[0;32m    218\u001b[0m \u001b[1;33m\u001b[0m\u001b[0m\n\u001b[0;32m    219\u001b[0m         \u001b[1;32mif\u001b[0m \u001b[0mnew_len\u001b[0m \u001b[1;33m!=\u001b[0m \u001b[0mold_len\u001b[0m\u001b[1;33m:\u001b[0m\u001b[1;33m\u001b[0m\u001b[1;33m\u001b[0m\u001b[0m\n\u001b[1;32m--> 220\u001b[1;33m             raise ValueError(\n\u001b[0m\u001b[0;32m    221\u001b[0m                 \u001b[1;34mf\"Length mismatch: Expected axis has {old_len} elements, new \"\u001b[0m\u001b[1;33m\u001b[0m\u001b[1;33m\u001b[0m\u001b[0m\n\u001b[0;32m    222\u001b[0m                 \u001b[1;34mf\"values have {new_len} elements\"\u001b[0m\u001b[1;33m\u001b[0m\u001b[1;33m\u001b[0m\u001b[0m\n",
      "\u001b[1;31mValueError\u001b[0m: Length mismatch: Expected axis has 1 elements, new values have 3 elements"
     ]
    }
   ],
   "source": [
    "order_returns.columns = ['user_id', 'order_parent_id', 'is_returned']\n",
    "order_returns"
   ]
  },
  {
   "cell_type": "code",
   "execution_count": 70,
   "id": "coated-appearance",
   "metadata": {},
   "outputs": [
    {
     "data": {
      "text/plain": [
       "order_parent_id\n",
       "595758968    0.0\n",
       "595758987    0.0\n",
       "595759022    1.0\n",
       "595759043    0.0\n",
       "595759058    0.0\n",
       "            ... \n",
       "722306224    1.0\n",
       "722306225    0.0\n",
       "722306229    0.0\n",
       "722306260    1.0\n",
       "722306299    0.0\n",
       "Name: is_returned, Length: 4086293, dtype: float64"
      ]
     },
     "execution_count": 70,
     "metadata": {},
     "output_type": "execute_result"
    }
   ],
   "source": [
    "order_returns.cumsum()"
   ]
  },
  {
   "cell_type": "code",
   "execution_count": null,
   "id": "close-algebra",
   "metadata": {},
   "outputs": [],
   "source": []
  },
  {
   "cell_type": "code",
   "execution_count": 74,
   "id": "brief-league",
   "metadata": {},
   "outputs": [
    {
     "data": {
      "text/plain": [
       "5     0.0\n",
       "6     0.0\n",
       "7     0.0\n",
       "8     0.0\n",
       "9     1.0\n",
       "10    0.0\n",
       "11    0.0\n",
       "12    0.0\n",
       "Name: is_returned, dtype: float64"
      ]
     },
     "execution_count": 74,
     "metadata": {},
     "output_type": "execute_result"
    }
   ],
   "source": [
    "df_v1[df_v1['order_parent_id']==595759022]['is_returned']"
   ]
  },
  {
   "cell_type": "code",
   "execution_count": 68,
   "id": "military-agent",
   "metadata": {},
   "outputs": [
    {
     "data": {
      "text/plain": [
       "2828235     0.0\n",
       "2828236     0.0\n",
       "4385691     0.0\n",
       "4385692     0.0\n",
       "5351927     0.0\n",
       "           ... \n",
       "10512995    0.0\n",
       "10512996    0.0\n",
       "10512997    0.0\n",
       "10512998    0.0\n",
       "10512999    0.0\n",
       "Name: is_returned, Length: 10513238, dtype: float64"
      ]
     },
     "execution_count": 68,
     "metadata": {},
     "output_type": "execute_result"
    }
   ],
   "source": [
    "df_v1.groupby(['user_id'])['is_returned'].cumsum()"
   ]
  },
  {
   "cell_type": "code",
   "execution_count": 69,
   "id": "beneficial-operation",
   "metadata": {},
   "outputs": [
    {
     "data": {
      "text/plain": [
       "(10513238, 50)"
      ]
     },
     "execution_count": 69,
     "metadata": {},
     "output_type": "execute_result"
    }
   ],
   "source": [
    "df_v1.shape"
   ]
  },
  {
   "cell_type": "code",
   "execution_count": null,
   "id": "judicial-enforcement",
   "metadata": {},
   "outputs": [],
   "source": [
    "df_v1[df_v1['order']]"
   ]
  },
  {
   "cell_type": "code",
   "execution_count": null,
   "id": "clean-vampire",
   "metadata": {},
   "outputs": [],
   "source": [
    "test_return_rate = df_v1.groupby('user_id')"
   ]
  },
  {
   "cell_type": "code",
   "execution_count": 66,
   "id": "middle-iraqi",
   "metadata": {},
   "outputs": [
    {
     "data": {
      "text/plain": [
       "2828235     1\n",
       "2828236     2\n",
       "4385691     3\n",
       "4385692     4\n",
       "5351927     5\n",
       "           ..\n",
       "10512995    1\n",
       "10512996    2\n",
       "10512997    3\n",
       "10512998    4\n",
       "10512999    5\n",
       "Length: 10513238, dtype: int64"
      ]
     },
     "execution_count": 66,
     "metadata": {},
     "output_type": "execute_result"
    }
   ],
   "source": [
    "df_v1.groupby(['user_id'])['is_returned'].cumcount()+1"
   ]
  },
  {
   "cell_type": "code",
   "execution_count": 58,
   "id": "soviet-moisture",
   "metadata": {},
   "outputs": [],
   "source": [
    "user_id = [1,1,1,2,2,3,3,4,4,4,4,5,5,5]\n",
    "is_r = [1,0,0,0,1,1,1,0,0,1,1,0,0,1]\n",
    "df = pd.DataFrame({'id':user_id, 'ret':is_r})"
   ]
  },
  {
   "cell_type": "code",
   "execution_count": 61,
   "id": "settled-ordinance",
   "metadata": {},
   "outputs": [
    {
     "data": {
      "text/html": [
       "<div>\n",
       "<style scoped>\n",
       "    .dataframe tbody tr th:only-of-type {\n",
       "        vertical-align: middle;\n",
       "    }\n",
       "\n",
       "    .dataframe tbody tr th {\n",
       "        vertical-align: top;\n",
       "    }\n",
       "\n",
       "    .dataframe thead th {\n",
       "        text-align: right;\n",
       "    }\n",
       "</style>\n",
       "<table border=\"1\" class=\"dataframe\">\n",
       "  <thead>\n",
       "    <tr style=\"text-align: right;\">\n",
       "      <th></th>\n",
       "      <th>id</th>\n",
       "      <th>ret</th>\n",
       "    </tr>\n",
       "  </thead>\n",
       "  <tbody>\n",
       "    <tr>\n",
       "      <th>0</th>\n",
       "      <td>1</td>\n",
       "      <td>1</td>\n",
       "    </tr>\n",
       "    <tr>\n",
       "      <th>1</th>\n",
       "      <td>1</td>\n",
       "      <td>0</td>\n",
       "    </tr>\n",
       "    <tr>\n",
       "      <th>2</th>\n",
       "      <td>1</td>\n",
       "      <td>0</td>\n",
       "    </tr>\n",
       "    <tr>\n",
       "      <th>3</th>\n",
       "      <td>2</td>\n",
       "      <td>0</td>\n",
       "    </tr>\n",
       "    <tr>\n",
       "      <th>4</th>\n",
       "      <td>2</td>\n",
       "      <td>1</td>\n",
       "    </tr>\n",
       "    <tr>\n",
       "      <th>5</th>\n",
       "      <td>3</td>\n",
       "      <td>1</td>\n",
       "    </tr>\n",
       "    <tr>\n",
       "      <th>6</th>\n",
       "      <td>3</td>\n",
       "      <td>1</td>\n",
       "    </tr>\n",
       "    <tr>\n",
       "      <th>7</th>\n",
       "      <td>4</td>\n",
       "      <td>0</td>\n",
       "    </tr>\n",
       "    <tr>\n",
       "      <th>8</th>\n",
       "      <td>4</td>\n",
       "      <td>0</td>\n",
       "    </tr>\n",
       "    <tr>\n",
       "      <th>9</th>\n",
       "      <td>4</td>\n",
       "      <td>1</td>\n",
       "    </tr>\n",
       "    <tr>\n",
       "      <th>10</th>\n",
       "      <td>4</td>\n",
       "      <td>1</td>\n",
       "    </tr>\n",
       "    <tr>\n",
       "      <th>11</th>\n",
       "      <td>5</td>\n",
       "      <td>0</td>\n",
       "    </tr>\n",
       "    <tr>\n",
       "      <th>12</th>\n",
       "      <td>5</td>\n",
       "      <td>0</td>\n",
       "    </tr>\n",
       "    <tr>\n",
       "      <th>13</th>\n",
       "      <td>5</td>\n",
       "      <td>1</td>\n",
       "    </tr>\n",
       "  </tbody>\n",
       "</table>\n",
       "</div>"
      ],
      "text/plain": [
       "    id  ret\n",
       "0    1    1\n",
       "1    1    0\n",
       "2    1    0\n",
       "3    2    0\n",
       "4    2    1\n",
       "5    3    1\n",
       "6    3    1\n",
       "7    4    0\n",
       "8    4    0\n",
       "9    4    1\n",
       "10   4    1\n",
       "11   5    0\n",
       "12   5    0\n",
       "13   5    1"
      ]
     },
     "execution_count": 61,
     "metadata": {},
     "output_type": "execute_result"
    }
   ],
   "source": [
    "df"
   ]
  },
  {
   "cell_type": "code",
   "execution_count": 60,
   "id": "comfortable-observer",
   "metadata": {},
   "outputs": [
    {
     "data": {
      "text/html": [
       "<div>\n",
       "<style scoped>\n",
       "    .dataframe tbody tr th:only-of-type {\n",
       "        vertical-align: middle;\n",
       "    }\n",
       "\n",
       "    .dataframe tbody tr th {\n",
       "        vertical-align: top;\n",
       "    }\n",
       "\n",
       "    .dataframe thead th {\n",
       "        text-align: right;\n",
       "    }\n",
       "</style>\n",
       "<table border=\"1\" class=\"dataframe\">\n",
       "  <thead>\n",
       "    <tr style=\"text-align: right;\">\n",
       "      <th></th>\n",
       "      <th>ret</th>\n",
       "    </tr>\n",
       "  </thead>\n",
       "  <tbody>\n",
       "    <tr>\n",
       "      <th>0</th>\n",
       "      <td>1</td>\n",
       "    </tr>\n",
       "    <tr>\n",
       "      <th>1</th>\n",
       "      <td>1</td>\n",
       "    </tr>\n",
       "    <tr>\n",
       "      <th>2</th>\n",
       "      <td>1</td>\n",
       "    </tr>\n",
       "    <tr>\n",
       "      <th>3</th>\n",
       "      <td>0</td>\n",
       "    </tr>\n",
       "    <tr>\n",
       "      <th>4</th>\n",
       "      <td>1</td>\n",
       "    </tr>\n",
       "    <tr>\n",
       "      <th>5</th>\n",
       "      <td>1</td>\n",
       "    </tr>\n",
       "    <tr>\n",
       "      <th>6</th>\n",
       "      <td>2</td>\n",
       "    </tr>\n",
       "    <tr>\n",
       "      <th>7</th>\n",
       "      <td>0</td>\n",
       "    </tr>\n",
       "    <tr>\n",
       "      <th>8</th>\n",
       "      <td>0</td>\n",
       "    </tr>\n",
       "    <tr>\n",
       "      <th>9</th>\n",
       "      <td>1</td>\n",
       "    </tr>\n",
       "    <tr>\n",
       "      <th>10</th>\n",
       "      <td>2</td>\n",
       "    </tr>\n",
       "    <tr>\n",
       "      <th>11</th>\n",
       "      <td>0</td>\n",
       "    </tr>\n",
       "    <tr>\n",
       "      <th>12</th>\n",
       "      <td>0</td>\n",
       "    </tr>\n",
       "    <tr>\n",
       "      <th>13</th>\n",
       "      <td>1</td>\n",
       "    </tr>\n",
       "  </tbody>\n",
       "</table>\n",
       "</div>"
      ],
      "text/plain": [
       "    ret\n",
       "0     1\n",
       "1     1\n",
       "2     1\n",
       "3     0\n",
       "4     1\n",
       "5     1\n",
       "6     2\n",
       "7     0\n",
       "8     0\n",
       "9     1\n",
       "10    2\n",
       "11    0\n",
       "12    0\n",
       "13    1"
      ]
     },
     "execution_count": 60,
     "metadata": {},
     "output_type": "execute_result"
    }
   ],
   "source": [
    "df.groupby(['id']).cumsum()"
   ]
  },
  {
   "cell_type": "code",
   "execution_count": 63,
   "id": "diagnostic-wallpaper",
   "metadata": {},
   "outputs": [
    {
     "data": {
      "text/plain": [
       "0     1\n",
       "1     2\n",
       "2     3\n",
       "3     1\n",
       "4     2\n",
       "5     1\n",
       "6     2\n",
       "7     1\n",
       "8     2\n",
       "9     3\n",
       "10    4\n",
       "11    1\n",
       "12    2\n",
       "13    3\n",
       "dtype: int64"
      ]
     },
     "execution_count": 63,
     "metadata": {},
     "output_type": "execute_result"
    }
   ],
   "source": [
    "df.groupby(['id']).cumcount()+1"
   ]
  },
  {
   "cell_type": "code",
   "execution_count": 53,
   "id": "characteristic-neighbor",
   "metadata": {},
   "outputs": [
    {
     "data": {
      "text/html": [
       "<div>\n",
       "<style scoped>\n",
       "    .dataframe tbody tr th:only-of-type {\n",
       "        vertical-align: middle;\n",
       "    }\n",
       "\n",
       "    .dataframe tbody tr th {\n",
       "        vertical-align: top;\n",
       "    }\n",
       "\n",
       "    .dataframe thead th {\n",
       "        text-align: right;\n",
       "    }\n",
       "</style>\n",
       "<table border=\"1\" class=\"dataframe\">\n",
       "  <thead>\n",
       "    <tr style=\"text-align: right;\">\n",
       "      <th></th>\n",
       "      <th>user_id</th>\n",
       "      <th>is_elite_user</th>\n",
       "      <th>supplier_id</th>\n",
       "      <th>order_line_item_id</th>\n",
       "      <th>order_parent_id</th>\n",
       "      <th>product_content_id_tra</th>\n",
       "      <th>product_variant_id</th>\n",
       "      <th>original_price</th>\n",
       "      <th>discounted_price</th>\n",
       "      <th>ship_cost</th>\n",
       "      <th>...</th>\n",
       "      <th>unresolved_percentage</th>\n",
       "      <th>paid_amount</th>\n",
       "      <th>discount_ratio</th>\n",
       "      <th>hour_interval</th>\n",
       "      <th>diff_order_memdate</th>\n",
       "      <th>order_weekday</th>\n",
       "      <th>order_day</th>\n",
       "      <th>order_week</th>\n",
       "      <th>age</th>\n",
       "      <th>is_bday_close</th>\n",
       "    </tr>\n",
       "  </thead>\n",
       "  <tbody>\n",
       "    <tr>\n",
       "      <th>0</th>\n",
       "      <td>2141</td>\n",
       "      <td>0</td>\n",
       "      <td>758218</td>\n",
       "      <td>11083172182</td>\n",
       "      <td>7222284464</td>\n",
       "      <td>901747735</td>\n",
       "      <td>1552771547</td>\n",
       "      <td>760.03000</td>\n",
       "      <td>495.900000</td>\n",
       "      <td>104.000000</td>\n",
       "      <td>...</td>\n",
       "      <td>0.053093</td>\n",
       "      <td>618.290000</td>\n",
       "      <td>3.290872</td>\n",
       "      <td>36</td>\n",
       "      <td>45734</td>\n",
       "      <td>20</td>\n",
       "      <td>143</td>\n",
       "      <td>255</td>\n",
       "      <td>473</td>\n",
       "      <td>0</td>\n",
       "    </tr>\n",
       "    <tr>\n",
       "      <th>1</th>\n",
       "      <td>2245</td>\n",
       "      <td>33</td>\n",
       "      <td>2261116</td>\n",
       "      <td>45761316381</td>\n",
       "      <td>29935492139</td>\n",
       "      <td>3475639162</td>\n",
       "      <td>5875629074</td>\n",
       "      <td>6226.80000</td>\n",
       "      <td>4168.610000</td>\n",
       "      <td>251.655000</td>\n",
       "      <td>...</td>\n",
       "      <td>0.323048</td>\n",
       "      <td>4420.265000</td>\n",
       "      <td>14.015911</td>\n",
       "      <td>95</td>\n",
       "      <td>191080</td>\n",
       "      <td>108</td>\n",
       "      <td>676</td>\n",
       "      <td>1047</td>\n",
       "      <td>1794</td>\n",
       "      <td>0</td>\n",
       "    </tr>\n",
       "    <tr>\n",
       "      <th>2</th>\n",
       "      <td>2319</td>\n",
       "      <td>10</td>\n",
       "      <td>676650</td>\n",
       "      <td>14466583763</td>\n",
       "      <td>9470144468</td>\n",
       "      <td>1081000211</td>\n",
       "      <td>1808764887</td>\n",
       "      <td>1044.67000</td>\n",
       "      <td>614.440000</td>\n",
       "      <td>77.740000</td>\n",
       "      <td>...</td>\n",
       "      <td>0.043508</td>\n",
       "      <td>721.320000</td>\n",
       "      <td>6.014310</td>\n",
       "      <td>37</td>\n",
       "      <td>58349</td>\n",
       "      <td>43</td>\n",
       "      <td>221</td>\n",
       "      <td>350</td>\n",
       "      <td>504</td>\n",
       "      <td>0</td>\n",
       "    </tr>\n",
       "    <tr>\n",
       "      <th>3</th>\n",
       "      <td>2442</td>\n",
       "      <td>0</td>\n",
       "      <td>197995</td>\n",
       "      <td>2067754474</td>\n",
       "      <td>1339479572</td>\n",
       "      <td>177802189</td>\n",
       "      <td>298830693</td>\n",
       "      <td>219.98000</td>\n",
       "      <td>191.980000</td>\n",
       "      <td>20.730000</td>\n",
       "      <td>...</td>\n",
       "      <td>0.002959</td>\n",
       "      <td>212.710000</td>\n",
       "      <td>0.200014</td>\n",
       "      <td>4</td>\n",
       "      <td>8328</td>\n",
       "      <td>9</td>\n",
       "      <td>44</td>\n",
       "      <td>49</td>\n",
       "      <td>76</td>\n",
       "      <td>0</td>\n",
       "    </tr>\n",
       "    <tr>\n",
       "      <th>4</th>\n",
       "      <td>2472</td>\n",
       "      <td>0</td>\n",
       "      <td>2960841</td>\n",
       "      <td>32934390487</td>\n",
       "      <td>21586240152</td>\n",
       "      <td>2212044864</td>\n",
       "      <td>3774881387</td>\n",
       "      <td>3378.47000</td>\n",
       "      <td>2547.110000</td>\n",
       "      <td>155.630000</td>\n",
       "      <td>...</td>\n",
       "      <td>0.089621</td>\n",
       "      <td>2702.740000</td>\n",
       "      <td>7.309055</td>\n",
       "      <td>47</td>\n",
       "      <td>136907</td>\n",
       "      <td>109</td>\n",
       "      <td>268</td>\n",
       "      <td>742</td>\n",
       "      <td>1485</td>\n",
       "      <td>0</td>\n",
       "    </tr>\n",
       "    <tr>\n",
       "      <th>...</th>\n",
       "      <td>...</td>\n",
       "      <td>...</td>\n",
       "      <td>...</td>\n",
       "      <td>...</td>\n",
       "      <td>...</td>\n",
       "      <td>...</td>\n",
       "      <td>...</td>\n",
       "      <td>...</td>\n",
       "      <td>...</td>\n",
       "      <td>...</td>\n",
       "      <td>...</td>\n",
       "      <td>...</td>\n",
       "      <td>...</td>\n",
       "      <td>...</td>\n",
       "      <td>...</td>\n",
       "      <td>...</td>\n",
       "      <td>...</td>\n",
       "      <td>...</td>\n",
       "      <td>...</td>\n",
       "      <td>...</td>\n",
       "      <td>...</td>\n",
       "    </tr>\n",
       "    <tr>\n",
       "      <th>706023</th>\n",
       "      <td>71170993</td>\n",
       "      <td>0</td>\n",
       "      <td>7040</td>\n",
       "      <td>11081378921</td>\n",
       "      <td>7222485830</td>\n",
       "      <td>832468361</td>\n",
       "      <td>1396365580</td>\n",
       "      <td>1710.43556</td>\n",
       "      <td>1277.472176</td>\n",
       "      <td>38.746075</td>\n",
       "      <td>...</td>\n",
       "      <td>0.000000</td>\n",
       "      <td>1316.218251</td>\n",
       "      <td>2.223085</td>\n",
       "      <td>40</td>\n",
       "      <td>0</td>\n",
       "      <td>50</td>\n",
       "      <td>310</td>\n",
       "      <td>300</td>\n",
       "      <td>1110</td>\n",
       "      <td>0</td>\n",
       "    </tr>\n",
       "    <tr>\n",
       "      <th>706024</th>\n",
       "      <td>71172153</td>\n",
       "      <td>0</td>\n",
       "      <td>132176</td>\n",
       "      <td>1108203124</td>\n",
       "      <td>722293572</td>\n",
       "      <td>37989564</td>\n",
       "      <td>67490149</td>\n",
       "      <td>140.37000</td>\n",
       "      <td>94.750000</td>\n",
       "      <td>8.880000</td>\n",
       "      <td>...</td>\n",
       "      <td>0.008864</td>\n",
       "      <td>103.630000</td>\n",
       "      <td>0.324998</td>\n",
       "      <td>4</td>\n",
       "      <td>0</td>\n",
       "      <td>5</td>\n",
       "      <td>31</td>\n",
       "      <td>30</td>\n",
       "      <td>111</td>\n",
       "      <td>0</td>\n",
       "    </tr>\n",
       "    <tr>\n",
       "      <th>706025</th>\n",
       "      <td>71172404</td>\n",
       "      <td>0</td>\n",
       "      <td>3344</td>\n",
       "      <td>3324603575</td>\n",
       "      <td>2166877410</td>\n",
       "      <td>205054194</td>\n",
       "      <td>350090940</td>\n",
       "      <td>154.97000</td>\n",
       "      <td>141.470000</td>\n",
       "      <td>18.280000</td>\n",
       "      <td>...</td>\n",
       "      <td>0.010186</td>\n",
       "      <td>159.750000</td>\n",
       "      <td>0.150017</td>\n",
       "      <td>12</td>\n",
       "      <td>0</td>\n",
       "      <td>15</td>\n",
       "      <td>93</td>\n",
       "      <td>90</td>\n",
       "      <td>333</td>\n",
       "      <td>0</td>\n",
       "    </tr>\n",
       "    <tr>\n",
       "      <th>706026</th>\n",
       "      <td>71172988</td>\n",
       "      <td>0</td>\n",
       "      <td>1232</td>\n",
       "      <td>1108216359</td>\n",
       "      <td>722302296</td>\n",
       "      <td>32957910</td>\n",
       "      <td>59340339</td>\n",
       "      <td>299.99000</td>\n",
       "      <td>199.990000</td>\n",
       "      <td>8.880000</td>\n",
       "      <td>...</td>\n",
       "      <td>0.006886</td>\n",
       "      <td>208.870000</td>\n",
       "      <td>0.333344</td>\n",
       "      <td>4</td>\n",
       "      <td>0</td>\n",
       "      <td>5</td>\n",
       "      <td>31</td>\n",
       "      <td>30</td>\n",
       "      <td>111</td>\n",
       "      <td>0</td>\n",
       "    </tr>\n",
       "    <tr>\n",
       "      <th>706027</th>\n",
       "      <td>71173209</td>\n",
       "      <td>0</td>\n",
       "      <td>123277</td>\n",
       "      <td>5541102469</td>\n",
       "      <td>3611521115</td>\n",
       "      <td>363546640</td>\n",
       "      <td>619239387</td>\n",
       "      <td>479.74000</td>\n",
       "      <td>263.810000</td>\n",
       "      <td>27.150000</td>\n",
       "      <td>...</td>\n",
       "      <td>0.089821</td>\n",
       "      <td>290.960000</td>\n",
       "      <td>2.077201</td>\n",
       "      <td>20</td>\n",
       "      <td>0</td>\n",
       "      <td>25</td>\n",
       "      <td>155</td>\n",
       "      <td>150</td>\n",
       "      <td>555</td>\n",
       "      <td>0</td>\n",
       "    </tr>\n",
       "  </tbody>\n",
       "</table>\n",
       "<p>706028 rows × 35 columns</p>\n",
       "</div>"
      ],
      "text/plain": [
       "         user_id  is_elite_user  supplier_id  order_line_item_id  \\\n",
       "0           2141              0       758218         11083172182   \n",
       "1           2245             33      2261116         45761316381   \n",
       "2           2319             10       676650         14466583763   \n",
       "3           2442              0       197995          2067754474   \n",
       "4           2472              0      2960841         32934390487   \n",
       "...          ...            ...          ...                 ...   \n",
       "706023  71170993              0         7040         11081378921   \n",
       "706024  71172153              0       132176          1108203124   \n",
       "706025  71172404              0         3344          3324603575   \n",
       "706026  71172988              0         1232          1108216359   \n",
       "706027  71173209              0       123277          5541102469   \n",
       "\n",
       "        order_parent_id  product_content_id_tra  product_variant_id  \\\n",
       "0            7222284464               901747735          1552771547   \n",
       "1           29935492139              3475639162          5875629074   \n",
       "2            9470144468              1081000211          1808764887   \n",
       "3            1339479572               177802189           298830693   \n",
       "4           21586240152              2212044864          3774881387   \n",
       "...                 ...                     ...                 ...   \n",
       "706023       7222485830               832468361          1396365580   \n",
       "706024        722293572                37989564            67490149   \n",
       "706025       2166877410               205054194           350090940   \n",
       "706026        722302296                32957910            59340339   \n",
       "706027       3611521115               363546640           619239387   \n",
       "\n",
       "        original_price  discounted_price   ship_cost  ...  \\\n",
       "0            760.03000        495.900000  104.000000  ...   \n",
       "1           6226.80000       4168.610000  251.655000  ...   \n",
       "2           1044.67000        614.440000   77.740000  ...   \n",
       "3            219.98000        191.980000   20.730000  ...   \n",
       "4           3378.47000       2547.110000  155.630000  ...   \n",
       "...                ...               ...         ...  ...   \n",
       "706023      1710.43556       1277.472176   38.746075  ...   \n",
       "706024       140.37000         94.750000    8.880000  ...   \n",
       "706025       154.97000        141.470000   18.280000  ...   \n",
       "706026       299.99000        199.990000    8.880000  ...   \n",
       "706027       479.74000        263.810000   27.150000  ...   \n",
       "\n",
       "        unresolved_percentage  paid_amount  discount_ratio  hour_interval  \\\n",
       "0                    0.053093   618.290000        3.290872             36   \n",
       "1                    0.323048  4420.265000       14.015911             95   \n",
       "2                    0.043508   721.320000        6.014310             37   \n",
       "3                    0.002959   212.710000        0.200014              4   \n",
       "4                    0.089621  2702.740000        7.309055             47   \n",
       "...                       ...          ...             ...            ...   \n",
       "706023               0.000000  1316.218251        2.223085             40   \n",
       "706024               0.008864   103.630000        0.324998              4   \n",
       "706025               0.010186   159.750000        0.150017             12   \n",
       "706026               0.006886   208.870000        0.333344              4   \n",
       "706027               0.089821   290.960000        2.077201             20   \n",
       "\n",
       "        diff_order_memdate  order_weekday  order_day  order_week   age  \\\n",
       "0                    45734             20        143         255   473   \n",
       "1                   191080            108        676        1047  1794   \n",
       "2                    58349             43        221         350   504   \n",
       "3                     8328              9         44          49    76   \n",
       "4                   136907            109        268         742  1485   \n",
       "...                    ...            ...        ...         ...   ...   \n",
       "706023                   0             50        310         300  1110   \n",
       "706024                   0              5         31          30   111   \n",
       "706025                   0             15         93          90   333   \n",
       "706026                   0              5         31          30   111   \n",
       "706027                   0             25        155         150   555   \n",
       "\n",
       "        is_bday_close  \n",
       "0                   0  \n",
       "1                   0  \n",
       "2                   0  \n",
       "3                   0  \n",
       "4                   0  \n",
       "...               ...  \n",
       "706023              0  \n",
       "706024              0  \n",
       "706025              0  \n",
       "706026              0  \n",
       "706027              0  \n",
       "\n",
       "[706028 rows x 35 columns]"
      ]
     },
     "execution_count": 53,
     "metadata": {},
     "output_type": "execute_result"
    }
   ],
   "source": [
    "df_v1.groupby(['user_id']).sum().groupby(level=0).cumsum().reset_index()"
   ]
  },
  {
   "cell_type": "code",
   "execution_count": null,
   "id": "supreme-underground",
   "metadata": {},
   "outputs": [],
   "source": []
  },
  {
   "cell_type": "code",
   "execution_count": 55,
   "id": "overhead-recommendation",
   "metadata": {},
   "outputs": [
    {
     "data": {
      "text/plain": [
       "0           0.0\n",
       "1           0.0\n",
       "2           0.0\n",
       "3           0.0\n",
       "4           0.0\n",
       "           ... \n",
       "10513233    1.0\n",
       "10513234    1.0\n",
       "10513235    1.0\n",
       "10513236    1.0\n",
       "10513237    1.0\n",
       "Name: is_returned, Length: 10513238, dtype: float64"
      ]
     },
     "execution_count": 55,
     "metadata": {},
     "output_type": "execute_result"
    }
   ],
   "source": [
    "df_v1.groupby(['user_id'])['is_returned'].cumsum()"
   ]
  },
  {
   "cell_type": "code",
   "execution_count": null,
   "id": "sufficient-crazy",
   "metadata": {},
   "outputs": [],
   "source": []
  },
  {
   "cell_type": "code",
   "execution_count": null,
   "id": "neural-hindu",
   "metadata": {},
   "outputs": [],
   "source": [
    "bunu kendinden öncekilere bakarak hesapla, tümüne değil "
   ]
  },
  {
   "cell_type": "code",
   "execution_count": null,
   "id": "incoming-runner",
   "metadata": {},
   "outputs": [],
   "source": [
    "# return ratio for users\n",
    "return_rate = df_v1.groupby('user_id').agg({'is_returned':'mean'})\n",
    "return_rate.columns = ['user_return_ratio']"
   ]
  },
  {
   "cell_type": "code",
   "execution_count": null,
   "id": "falling-magnet",
   "metadata": {},
   "outputs": [],
   "source": [
    "df_v1 = pd.merge(df_v1, return_rate, on='user_id')"
   ]
  },
  {
   "cell_type": "code",
   "execution_count": null,
   "id": "southeast-consumption",
   "metadata": {},
   "outputs": [],
   "source": [
    "df_v1['category_name'].unique()"
   ]
  },
  {
   "cell_type": "code",
   "execution_count": null,
   "id": "green-jordan",
   "metadata": {},
   "outputs": [],
   "source": [
    "aşağıdakilerin index olayını kontrol et\n",
    "ilgili keyler üzerinden merge etmek gerekli?\n",
    "bir satır için incelenirken kendinden öncekilere bak, hepsine değil\n",
    "groupby ları da kontrol et\n",
    "\n",
    "doğru olduğundan emin ol, test et"
   ]
  },
  {
   "cell_type": "code",
   "execution_count": null,
   "id": "painful-regression",
   "metadata": {
    "scrolled": false
   },
   "outputs": [],
   "source": [
    "# check whether there are same products more than one in the basket\n",
    "prod_id_counts = df_v1.groupby(['order_parent_id','product_id'])['product_variant_id'].count().reset_index()\n",
    "ids_contain_same_prod_morethan_1 = prod_id_counts[prod_id_counts['product_variant_id']>1].index"
   ]
  },
  {
   "cell_type": "code",
   "execution_count": null,
   "id": "allied-characterization",
   "metadata": {},
   "outputs": [],
   "source": [
    "# check whether there are same products variant more than one in the basket\n",
    "prodVar_id_counts = df_v1.groupby(['order_parent_id','product_variant_id'])['product_id'].count().reset_index()\n",
    "ids_contain_same_prodVar_morethan_1 = prodVar_id_counts[prodVar_id_counts['product_id']>1].index"
   ]
  },
  {
   "cell_type": "code",
   "execution_count": null,
   "id": "leading-talent",
   "metadata": {},
   "outputs": [],
   "source": [
    "# check whether there are product that belong to same category more than one in the basket\n",
    "category_id_counts = df_v1.groupby(['order_parent_id','category_id'])['product_variant_id'].count().reset_index()\n",
    "ids_contain_same_cat_morethan_1 = category_id_counts[category_id_counts['category_id']>1].index"
   ]
  },
  {
   "cell_type": "code",
   "execution_count": null,
   "id": "spoken-expert",
   "metadata": {},
   "outputs": [],
   "source": [
    "# check whether a basket contains different sizes of products\n",
    "diff_sizes = df_v1.groupby(['order_parent_id','attribute_value'])['product_id'].count().reset_index()\n",
    "diff_sizes = diff_sizes.groupby(['order_parent_id']).count()\n",
    "ids_contain_diff_sizes = diff_sizes[diff_sizes['product_id']>1].index"
   ]
  },
  {
   "cell_type": "code",
   "execution_count": null,
   "id": "thorough-aquarium",
   "metadata": {},
   "outputs": [],
   "source": [
    "df_v1['is_contain_same_prod'] = 0\n",
    "df_v1['is_contain_same_prodVar'] = 0\n",
    "df_v1['is_contain_same_cat'] = 0\n",
    "df_v1['is_contain_diff_sizes'] = 0\n",
    "df_v1.loc[ids_contain_same_prod_morethan_1,'is_contain_same_prod'] = 1\n",
    "df_v1.loc[ids_contain_same_prodVar_morethan_1,'is_contain_same_prodVar'] = 1\n",
    "df_v1.loc[ids_contain_same_cat_morethan_1,'is_contain_same_cat'] = 1\n",
    "df_v1.loc[ids_contain_diff_sizes,'is_contain_diff_sizes'] = 1"
   ]
  },
  {
   "cell_type": "code",
   "execution_count": null,
   "id": "frequent-mention",
   "metadata": {},
   "outputs": [],
   "source": [
    "df_v1['is_contain_same_cat'].value_counts()"
   ]
  },
  {
   "cell_type": "code",
   "execution_count": null,
   "id": "nuclear-circumstances",
   "metadata": {},
   "outputs": [],
   "source": [
    "son iadesi ile arası kaç gün? "
   ]
  },
  {
   "cell_type": "code",
   "execution_count": null,
   "id": "academic-evanescence",
   "metadata": {},
   "outputs": [],
   "source": [
    "return rate for past not all\n",
    "return rate for userid-category"
   ]
  },
  {
   "cell_type": "code",
   "execution_count": null,
   "id": "martial-bibliography",
   "metadata": {},
   "outputs": [],
   "source": [
    "geçmişte aynı üründen kaç tane aldı\n",
    "geçmişte aynı kategoriden kaç tane aldı\n",
    "\n",
    "geçmişte aldığı content_id ürün sayısı"
   ]
  },
  {
   "cell_type": "code",
   "execution_count": null,
   "id": "outdoor-citizenship",
   "metadata": {},
   "outputs": [],
   "source": [
    "supplier için is_returned den return rate hesapla verilenlerle aynı mı?"
   ]
  },
  {
   "cell_type": "code",
   "execution_count": null,
   "id": "unexpected-ladder",
   "metadata": {
    "scrolled": false
   },
   "outputs": [],
   "source": [
    "all_cols = df_v1.columns"
   ]
  },
  {
   "cell_type": "code",
   "execution_count": null,
   "id": "commercial-paris",
   "metadata": {},
   "outputs": [],
   "source": [
    "len(all_columns), len(set(all_columns)), len(all_cols), len(set(all_cols))"
   ]
  },
  {
   "cell_type": "code",
   "execution_count": null,
   "id": "unlimited-orange",
   "metadata": {},
   "outputs": [],
   "source": [
    "set(all_cols).difference(set(all_columns))"
   ]
  },
  {
   "cell_type": "code",
   "execution_count": null,
   "id": "continental-jewel",
   "metadata": {},
   "outputs": [],
   "source": []
  },
  {
   "cell_type": "code",
   "execution_count": null,
   "id": "union-simulation",
   "metadata": {},
   "outputs": [],
   "source": [
    "ids = [\n",
    "'product_id',\n",
    "'supplier_id',\n",
    "'user_id',\n",
    "'order_line_item_id',\n",
    "'order_parent_id',\n",
    "'product_variant_id',\n",
    "'product_content_id_tra',\n",
    "'product_content_id_prod'\n",
    "]\n",
    "\n",
    "drops = [\n",
    "'color_name',\n",
    "'supplier_color_name',\n",
    "'attributet_name',\n",
    "'gender_name',\n",
    "'category_name',\n",
    "'brand_name',\n",
    "'product_name',\n",
    "'coupon_id',\n",
    "'promotion_name',\n",
    "'order_date',\n",
    "'birth_date',\n",
    "'membership_date']\n",
    "\n",
    "all_columns = [\n",
    "'is_elite_user',\n",
    "'promotion_award_value',\n",
    "'coupon_discount',\n",
    "'is_wallet_trx',\n",
    "'is_saved_card_trx',\n",
    "'ship_cost',\n",
    "'brand_id',\n",
    "'category_id',\n",
    "'gender_id',\n",
    "'color_id',\n",
    "'gender',\n",
    "'returnRate',\n",
    "'returnRate_def',\n",
    "'total_claim',\n",
    "'unresolvedclaim_percentage',\n",
    "'unresolved_percentage',\n",
    "'paid_amount',\n",
    "'discount_ratio',\n",
    "'hour_interval',\n",
    "'diff_order_memdate',\n",
    "'order_weekday',\n",
    "'order_day',\n",
    "'order_week',\n",
    "'age',\n",
    "'is_bday_close',\n",
    "'attribute_value',\n",
    "'original_price',\n",
    "'discounted_price',\n",
    "'is_returned',\n",
    "'is_contain_same_prod',\n",
    "'is_contain_same_prodVar', \n",
    "'is_contain_same_cat',\n",
    "'user_return_ratio']"
   ]
  },
  {
   "cell_type": "code",
   "execution_count": null,
   "id": "artistic-profit",
   "metadata": {},
   "outputs": [],
   "source": []
  },
  {
   "cell_type": "code",
   "execution_count": null,
   "id": "prescribed-instrument",
   "metadata": {},
   "outputs": [],
   "source": [
    "ids_df = df_v1[ids_]\n",
    "all_df = df_v1[all_columns]"
   ]
  },
  {
   "cell_type": "code",
   "execution_count": null,
   "id": "shared-somalia",
   "metadata": {},
   "outputs": [],
   "source": [
    "import pickle\n",
    "with open(\"all_df.pickle\",\"wb\") as f:\n",
    "    pickle.dump(all_df,f)\n",
    "    \n",
    "with open(\"ids_df.pickle\",\"wb\") as f:\n",
    "    pickle.dump(ids_df,f)"
   ]
  }
 ],
 "metadata": {
  "kernelspec": {
   "display_name": "Python 3",
   "language": "python",
   "name": "python3"
  },
  "language_info": {
   "codemirror_mode": {
    "name": "ipython",
    "version": 3
   },
   "file_extension": ".py",
   "mimetype": "text/x-python",
   "name": "python",
   "nbconvert_exporter": "python",
   "pygments_lexer": "ipython3",
   "version": "3.8.5"
  }
 },
 "nbformat": 4,
 "nbformat_minor": 5
}
