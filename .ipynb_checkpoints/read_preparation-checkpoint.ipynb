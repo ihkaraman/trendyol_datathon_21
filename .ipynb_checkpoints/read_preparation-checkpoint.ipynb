{
 "cells": [
  {
   "cell_type": "code",
   "execution_count": 1,
   "id": "eligible-electronics",
   "metadata": {},
   "outputs": [],
   "source": [
    "data_path = r'C:\\Users\\IsmailKaraman\\workspace\\data\\trendyol\\\\'"
   ]
  },
  {
   "cell_type": "code",
   "execution_count": 2,
   "id": "twelve-helmet",
   "metadata": {},
   "outputs": [],
   "source": [
    "import pandas as pd\n",
    "import seaborn as sns\n",
    "from datetime import time\n",
    "from datetime import datetime\n",
    "from dateutil import parser\n",
    "import matplotlib.pyplot as plt"
   ]
  },
  {
   "cell_type": "code",
   "execution_count": 3,
   "id": "qualified-field",
   "metadata": {
    "scrolled": true
   },
   "outputs": [],
   "source": [
    "data_products = pd.read_csv(data_path+\"products.csv\")\n",
    "data_tra = pd.read_csv(data_path+\"transactions.csv\", parse_dates=['order_date'])\n",
    "\n",
    "data_user_dem = pd.read_csv(data_path+\"user_demographics.csv\", parse_dates=['membership_date', 'birth_date'])\n",
    "data_sup_def = pd.read_csv(data_path+\"supplier_defective_return.csv\")\n",
    "data_sup_return = pd.read_csv(data_path+\"supplier_return.csv\")\n",
    "data_sup_disp = pd.read_csv(data_path+\"supplier_disputed_return.csv\")\n",
    "\n",
    "data_reviews = pd.read_csv(data_path+\"reviews.csv\")\n",
    "data_qa = pd.read_csv(data_path+\"qa.csv\")"
   ]
  },
  {
   "cell_type": "markdown",
   "id": "optional-selling",
   "metadata": {},
   "source": [
    "## data transactions"
   ]
  },
  {
   "cell_type": "code",
   "execution_count": 4,
   "id": "amended-terrorism",
   "metadata": {},
   "outputs": [
    {
     "data": {
      "text/html": [
       "<div>\n",
       "<style scoped>\n",
       "    .dataframe tbody tr th:only-of-type {\n",
       "        vertical-align: middle;\n",
       "    }\n",
       "\n",
       "    .dataframe tbody tr th {\n",
       "        vertical-align: top;\n",
       "    }\n",
       "\n",
       "    .dataframe thead th {\n",
       "        text-align: right;\n",
       "    }\n",
       "</style>\n",
       "<table border=\"1\" class=\"dataframe\">\n",
       "  <thead>\n",
       "    <tr style=\"text-align: right;\">\n",
       "      <th></th>\n",
       "      <th>order_date</th>\n",
       "      <th>user_id</th>\n",
       "      <th>is_elite_user</th>\n",
       "      <th>supplier_id</th>\n",
       "      <th>order_line_item_id</th>\n",
       "      <th>order_parent_id</th>\n",
       "      <th>product_content_id</th>\n",
       "      <th>product_variant_id</th>\n",
       "      <th>original_price</th>\n",
       "      <th>discounted_price</th>\n",
       "      <th>ship_cost</th>\n",
       "      <th>coupon_id</th>\n",
       "      <th>coupon_discount</th>\n",
       "      <th>promotion_name</th>\n",
       "      <th>promotion_award_value</th>\n",
       "      <th>is_wallet_trx</th>\n",
       "      <th>is_saved_card_trx</th>\n",
       "      <th>is_returned</th>\n",
       "    </tr>\n",
       "  </thead>\n",
       "  <tbody>\n",
       "    <tr>\n",
       "      <th>0</th>\n",
       "      <td>2021-05-01 00:00:01.761000+00:00</td>\n",
       "      <td>3941815</td>\n",
       "      <td>0</td>\n",
       "      <td>4662</td>\n",
       "      <td>901280147</td>\n",
       "      <td>595758968</td>\n",
       "      <td>95503167</td>\n",
       "      <td>159147197</td>\n",
       "      <td>79.90</td>\n",
       "      <td>51.94</td>\n",
       "      <td>8.88</td>\n",
       "      <td>NaN</td>\n",
       "      <td>0.0</td>\n",
       "      <td>Sepette %35 İndirim</td>\n",
       "      <td>35.0</td>\n",
       "      <td>0</td>\n",
       "      <td>True</td>\n",
       "      <td>0.0</td>\n",
       "    </tr>\n",
       "    <tr>\n",
       "      <th>1</th>\n",
       "      <td>2021-05-01 00:00:01.761000+00:00</td>\n",
       "      <td>3941815</td>\n",
       "      <td>0</td>\n",
       "      <td>163</td>\n",
       "      <td>901280149</td>\n",
       "      <td>595758968</td>\n",
       "      <td>36313798</td>\n",
       "      <td>64622938</td>\n",
       "      <td>129.95</td>\n",
       "      <td>59.97</td>\n",
       "      <td>9.40</td>\n",
       "      <td>NaN</td>\n",
       "      <td>0.0</td>\n",
       "      <td>Sepette %40 İndirim</td>\n",
       "      <td>40.0</td>\n",
       "      <td>0</td>\n",
       "      <td>True</td>\n",
       "      <td>0.0</td>\n",
       "    </tr>\n",
       "  </tbody>\n",
       "</table>\n",
       "</div>"
      ],
      "text/plain": [
       "                        order_date  user_id  is_elite_user  supplier_id  \\\n",
       "0 2021-05-01 00:00:01.761000+00:00  3941815              0         4662   \n",
       "1 2021-05-01 00:00:01.761000+00:00  3941815              0          163   \n",
       "\n",
       "   order_line_item_id  order_parent_id  product_content_id  \\\n",
       "0           901280147        595758968            95503167   \n",
       "1           901280149        595758968            36313798   \n",
       "\n",
       "   product_variant_id  original_price  discounted_price  ship_cost coupon_id  \\\n",
       "0           159147197           79.90             51.94       8.88       NaN   \n",
       "1            64622938          129.95             59.97       9.40       NaN   \n",
       "\n",
       "   coupon_discount       promotion_name  promotion_award_value  is_wallet_trx  \\\n",
       "0              0.0  Sepette %35 İndirim                   35.0              0   \n",
       "1              0.0  Sepette %40 İndirim                   40.0              0   \n",
       "\n",
       "   is_saved_card_trx  is_returned  \n",
       "0               True          0.0  \n",
       "1               True          0.0  "
      ]
     },
     "execution_count": 4,
     "metadata": {},
     "output_type": "execute_result"
    }
   ],
   "source": [
    "data_tra.head(2)"
   ]
  },
  {
   "cell_type": "markdown",
   "id": "assumed-devices",
   "metadata": {},
   "source": [
    "## data products"
   ]
  },
  {
   "cell_type": "code",
   "execution_count": 5,
   "id": "beginning-medication",
   "metadata": {
    "scrolled": false
   },
   "outputs": [
    {
     "data": {
      "text/html": [
       "<div>\n",
       "<style scoped>\n",
       "    .dataframe tbody tr th:only-of-type {\n",
       "        vertical-align: middle;\n",
       "    }\n",
       "\n",
       "    .dataframe tbody tr th {\n",
       "        vertical-align: top;\n",
       "    }\n",
       "\n",
       "    .dataframe thead th {\n",
       "        text-align: right;\n",
       "    }\n",
       "</style>\n",
       "<table border=\"1\" class=\"dataframe\">\n",
       "  <thead>\n",
       "    <tr style=\"text-align: right;\">\n",
       "      <th></th>\n",
       "      <th>product_id</th>\n",
       "      <th>product_content_id</th>\n",
       "      <th>product_variant_id</th>\n",
       "      <th>product_name</th>\n",
       "      <th>brand_id</th>\n",
       "      <th>brand_name</th>\n",
       "      <th>gender_id</th>\n",
       "      <th>gender_name</th>\n",
       "      <th>category_id</th>\n",
       "      <th>category_name</th>\n",
       "      <th>color_id</th>\n",
       "      <th>color_name</th>\n",
       "      <th>supplier_color_name</th>\n",
       "      <th>attributet_name</th>\n",
       "      <th>attribute_value</th>\n",
       "    </tr>\n",
       "  </thead>\n",
       "  <tbody>\n",
       "    <tr>\n",
       "      <th>0</th>\n",
       "      <td>86747186</td>\n",
       "      <td>49156804</td>\n",
       "      <td>87148849</td>\n",
       "      <td>3'lü Müslin Örtü Seti - %100 Pamuk Bebek Müsli...</td>\n",
       "      <td>995186</td>\n",
       "      <td>Li Puna</td>\n",
       "      <td>NaN</td>\n",
       "      <td>Unknown</td>\n",
       "      <td>4979</td>\n",
       "      <td>Müslin Bez</td>\n",
       "      <td>NaN</td>\n",
       "      <td>NaN</td>\n",
       "      <td>UNKNOWN</td>\n",
       "      <td>BEDEN</td>\n",
       "      <td>Tek Ebat</td>\n",
       "    </tr>\n",
       "    <tr>\n",
       "      <th>1</th>\n",
       "      <td>37159399</td>\n",
       "      <td>44391553</td>\n",
       "      <td>78625630</td>\n",
       "      <td>Haşema Nehar Bakır Çizgili Boru Paça Siyah Tes...</td>\n",
       "      <td>35046</td>\n",
       "      <td>Remsa Mayo</td>\n",
       "      <td>4295.0</td>\n",
       "      <td>Kadın / Kız</td>\n",
       "      <td>2760</td>\n",
       "      <td>Tesettür Mayo</td>\n",
       "      <td>7005.0</td>\n",
       "      <td>Metalik</td>\n",
       "      <td>BAKIR</td>\n",
       "      <td>BEDEN</td>\n",
       "      <td>XL</td>\n",
       "    </tr>\n",
       "    <tr>\n",
       "      <th>2</th>\n",
       "      <td>83771873</td>\n",
       "      <td>96708156</td>\n",
       "      <td>161092495</td>\n",
       "      <td>Zincir Fantezi Bel Zinciri-0610</td>\n",
       "      <td>1074023</td>\n",
       "      <td>vonda wear</td>\n",
       "      <td>4295.0</td>\n",
       "      <td>Kadın / Kız</td>\n",
       "      <td>3098</td>\n",
       "      <td>Fantezi Aksesuar</td>\n",
       "      <td>6996.0</td>\n",
       "      <td>Altın</td>\n",
       "      <td>Gold</td>\n",
       "      <td>BEDEN</td>\n",
       "      <td>Tek Ebat</td>\n",
       "    </tr>\n",
       "    <tr>\n",
       "      <th>3</th>\n",
       "      <td>66208922</td>\n",
       "      <td>77520098</td>\n",
       "      <td>132019116</td>\n",
       "      <td>Kadın Haki Yeşili Renkli Cerrahi Takım</td>\n",
       "      <td>961534</td>\n",
       "      <td>Moodamedikal</td>\n",
       "      <td>NaN</td>\n",
       "      <td>Unknown</td>\n",
       "      <td>3914</td>\n",
       "      <td>İş Kıyafetleri</td>\n",
       "      <td>NaN</td>\n",
       "      <td>NaN</td>\n",
       "      <td>UNKNOWN</td>\n",
       "      <td>BEDEN</td>\n",
       "      <td>XS</td>\n",
       "    </tr>\n",
       "    <tr>\n",
       "      <th>4</th>\n",
       "      <td>68189697</td>\n",
       "      <td>79713829</td>\n",
       "      <td>135202630</td>\n",
       "      <td>Ibıza Uzun Tunik</td>\n",
       "      <td>1021561</td>\n",
       "      <td>Jadeandmate</td>\n",
       "      <td>4295.0</td>\n",
       "      <td>Kadın / Kız</td>\n",
       "      <td>1018</td>\n",
       "      <td>Plaj Elbisesi</td>\n",
       "      <td>6996.0</td>\n",
       "      <td>Altın</td>\n",
       "      <td>Multi</td>\n",
       "      <td>BEDEN</td>\n",
       "      <td>M/L</td>\n",
       "    </tr>\n",
       "  </tbody>\n",
       "</table>\n",
       "</div>"
      ],
      "text/plain": [
       "   product_id  product_content_id  product_variant_id  \\\n",
       "0    86747186            49156804            87148849   \n",
       "1    37159399            44391553            78625630   \n",
       "2    83771873            96708156           161092495   \n",
       "3    66208922            77520098           132019116   \n",
       "4    68189697            79713829           135202630   \n",
       "\n",
       "                                        product_name  brand_id    brand_name  \\\n",
       "0  3'lü Müslin Örtü Seti - %100 Pamuk Bebek Müsli...    995186       Li Puna   \n",
       "1  Haşema Nehar Bakır Çizgili Boru Paça Siyah Tes...     35046    Remsa Mayo   \n",
       "2                    Zincir Fantezi Bel Zinciri-0610   1074023    vonda wear   \n",
       "3             Kadın Haki Yeşili Renkli Cerrahi Takım    961534  Moodamedikal   \n",
       "4                                   Ibıza Uzun Tunik   1021561   Jadeandmate   \n",
       "\n",
       "   gender_id  gender_name  category_id     category_name  color_id color_name  \\\n",
       "0        NaN      Unknown         4979        Müslin Bez       NaN        NaN   \n",
       "1     4295.0  Kadın / Kız         2760     Tesettür Mayo    7005.0    Metalik   \n",
       "2     4295.0  Kadın / Kız         3098  Fantezi Aksesuar    6996.0      Altın   \n",
       "3        NaN      Unknown         3914    İş Kıyafetleri       NaN        NaN   \n",
       "4     4295.0  Kadın / Kız         1018     Plaj Elbisesi    6996.0      Altın   \n",
       "\n",
       "  supplier_color_name attributet_name attribute_value  \n",
       "0             UNKNOWN           BEDEN        Tek Ebat  \n",
       "1               BAKIR           BEDEN              XL  \n",
       "2                Gold           BEDEN        Tek Ebat  \n",
       "3             UNKNOWN           BEDEN              XS  \n",
       "4               Multi           BEDEN             M/L  "
      ]
     },
     "execution_count": 5,
     "metadata": {},
     "output_type": "execute_result"
    }
   ],
   "source": [
    "data_products.head()"
   ]
  },
  {
   "cell_type": "code",
   "execution_count": 6,
   "id": "illegal-jimmy",
   "metadata": {},
   "outputs": [],
   "source": [
    "unq_variants = data_products.groupby(['product_content_id'])['product_variant_id'].nunique().reset_index()\n",
    "unq_variants.columns = ['product_content_id', 'n_unq_variants']\n",
    "data_products = pd.merge(data_products, unq_variants, on=['product_content_id'], how='left')"
   ]
  },
  {
   "cell_type": "code",
   "execution_count": 7,
   "id": "proper-faith",
   "metadata": {},
   "outputs": [
    {
     "data": {
      "text/plain": [
       "(1457567, 16)"
      ]
     },
     "execution_count": 7,
     "metadata": {},
     "output_type": "execute_result"
    }
   ],
   "source": [
    "data_products.shape"
   ]
  },
  {
   "cell_type": "markdown",
   "id": "adopted-culture",
   "metadata": {},
   "source": [
    "## data_user_dem"
   ]
  },
  {
   "cell_type": "code",
   "execution_count": 8,
   "id": "fixed-throw",
   "metadata": {},
   "outputs": [
    {
     "data": {
      "text/html": [
       "<div>\n",
       "<style scoped>\n",
       "    .dataframe tbody tr th:only-of-type {\n",
       "        vertical-align: middle;\n",
       "    }\n",
       "\n",
       "    .dataframe tbody tr th {\n",
       "        vertical-align: top;\n",
       "    }\n",
       "\n",
       "    .dataframe thead th {\n",
       "        text-align: right;\n",
       "    }\n",
       "</style>\n",
       "<table border=\"1\" class=\"dataframe\">\n",
       "  <thead>\n",
       "    <tr style=\"text-align: right;\">\n",
       "      <th></th>\n",
       "      <th>user_id</th>\n",
       "      <th>birth_date</th>\n",
       "      <th>membership_date</th>\n",
       "      <th>gender</th>\n",
       "    </tr>\n",
       "  </thead>\n",
       "  <tbody>\n",
       "    <tr>\n",
       "      <th>0</th>\n",
       "      <td>22013146</td>\n",
       "      <td>NaN</td>\n",
       "      <td>2019-05-09 11:11:17.413000+00:00</td>\n",
       "      <td>Bay</td>\n",
       "    </tr>\n",
       "    <tr>\n",
       "      <th>1</th>\n",
       "      <td>49707264</td>\n",
       "      <td>NaN</td>\n",
       "      <td>2020-12-19 18:32:16.240000+00:00</td>\n",
       "      <td>Bay</td>\n",
       "    </tr>\n",
       "  </tbody>\n",
       "</table>\n",
       "</div>"
      ],
      "text/plain": [
       "    user_id birth_date                  membership_date gender\n",
       "0  22013146        NaN 2019-05-09 11:11:17.413000+00:00    Bay\n",
       "1  49707264        NaN 2020-12-19 18:32:16.240000+00:00    Bay"
      ]
     },
     "execution_count": 8,
     "metadata": {},
     "output_type": "execute_result"
    }
   ],
   "source": [
    "data_user_dem.head(2)"
   ]
  },
  {
   "cell_type": "code",
   "execution_count": 9,
   "id": "computational-beginning",
   "metadata": {
    "scrolled": true
   },
   "outputs": [
    {
     "data": {
      "text/plain": [
       "<AxesSubplot:>"
      ]
     },
     "execution_count": 9,
     "metadata": {},
     "output_type": "execute_result"
    },
    {
     "data": {
      "image/png": "[encoded data removed]",
      "text/plain": [
       "<Figure size 432x288 with 1 Axes>"
      ]
     },
     "metadata": {
      "needs_background": "light"
     },
     "output_type": "display_data"
    }
   ],
   "source": [
    "data_user_dem['gender'].hist(bins=50)"
   ]
  },
  {
   "cell_type": "markdown",
   "id": "caring-norfolk",
   "metadata": {},
   "source": [
    "## data_sup_def"
   ]
  },
  {
   "cell_type": "code",
   "execution_count": 10,
   "id": "indirect-paragraph",
   "metadata": {},
   "outputs": [
    {
     "data": {
      "text/html": [
       "<div>\n",
       "<style scoped>\n",
       "    .dataframe tbody tr th:only-of-type {\n",
       "        vertical-align: middle;\n",
       "    }\n",
       "\n",
       "    .dataframe tbody tr th {\n",
       "        vertical-align: top;\n",
       "    }\n",
       "\n",
       "    .dataframe thead th {\n",
       "        text-align: right;\n",
       "    }\n",
       "</style>\n",
       "<table border=\"1\" class=\"dataframe\">\n",
       "  <thead>\n",
       "    <tr style=\"text-align: right;\">\n",
       "      <th></th>\n",
       "      <th>supplier_id</th>\n",
       "      <th>returnRate</th>\n",
       "    </tr>\n",
       "  </thead>\n",
       "  <tbody>\n",
       "    <tr>\n",
       "      <th>0</th>\n",
       "      <td>161841</td>\n",
       "      <td>0.0</td>\n",
       "    </tr>\n",
       "    <tr>\n",
       "      <th>1</th>\n",
       "      <td>201226</td>\n",
       "      <td>0.0</td>\n",
       "    </tr>\n",
       "    <tr>\n",
       "      <th>2</th>\n",
       "      <td>108251</td>\n",
       "      <td>0.0</td>\n",
       "    </tr>\n",
       "  </tbody>\n",
       "</table>\n",
       "</div>"
      ],
      "text/plain": [
       "   supplier_id  returnRate\n",
       "0       161841         0.0\n",
       "1       201226         0.0\n",
       "2       108251         0.0"
      ]
     },
     "execution_count": 10,
     "metadata": {},
     "output_type": "execute_result"
    }
   ],
   "source": [
    "data_sup_def.head(3)"
   ]
  },
  {
   "cell_type": "code",
   "execution_count": 11,
   "id": "partial-cooler",
   "metadata": {},
   "outputs": [
    {
     "data": {
      "text/plain": [
       "<AxesSubplot:ylabel='Density'>"
      ]
     },
     "execution_count": 11,
     "metadata": {},
     "output_type": "execute_result"
    },
    {
     "data": {
      "image/png": "[encoded data removed]",
      "text/plain": [
       "<Figure size 432x288 with 1 Axes>"
      ]
     },
     "metadata": {
      "needs_background": "light"
     },
     "output_type": "display_data"
    }
   ],
   "source": [
    "data_sup_def['returnRate'].plot(kind='kde')"
   ]
  },
  {
   "cell_type": "markdown",
   "id": "lined-barcelona",
   "metadata": {},
   "source": [
    "## data_sup_return"
   ]
  },
  {
   "cell_type": "code",
   "execution_count": 12,
   "id": "hired-banana",
   "metadata": {},
   "outputs": [
    {
     "data": {
      "text/html": [
       "<div>\n",
       "<style scoped>\n",
       "    .dataframe tbody tr th:only-of-type {\n",
       "        vertical-align: middle;\n",
       "    }\n",
       "\n",
       "    .dataframe tbody tr th {\n",
       "        vertical-align: top;\n",
       "    }\n",
       "\n",
       "    .dataframe thead th {\n",
       "        text-align: right;\n",
       "    }\n",
       "</style>\n",
       "<table border=\"1\" class=\"dataframe\">\n",
       "  <thead>\n",
       "    <tr style=\"text-align: right;\">\n",
       "      <th></th>\n",
       "      <th>supplier_id</th>\n",
       "      <th>returnRate</th>\n",
       "    </tr>\n",
       "  </thead>\n",
       "  <tbody>\n",
       "    <tr>\n",
       "      <th>0</th>\n",
       "      <td>247019</td>\n",
       "      <td>0.0</td>\n",
       "    </tr>\n",
       "    <tr>\n",
       "      <th>1</th>\n",
       "      <td>264022</td>\n",
       "      <td>0.0</td>\n",
       "    </tr>\n",
       "  </tbody>\n",
       "</table>\n",
       "</div>"
      ],
      "text/plain": [
       "   supplier_id  returnRate\n",
       "0       247019         0.0\n",
       "1       264022         0.0"
      ]
     },
     "execution_count": 12,
     "metadata": {},
     "output_type": "execute_result"
    }
   ],
   "source": [
    "data_sup_return.head(2)"
   ]
  },
  {
   "cell_type": "code",
   "execution_count": 13,
   "id": "empirical-chair",
   "metadata": {},
   "outputs": [
    {
     "data": {
      "text/plain": [
       "<AxesSubplot:ylabel='Density'>"
      ]
     },
     "execution_count": 13,
     "metadata": {},
     "output_type": "execute_result"
    },
    {
     "data": {
      "image/png": "[encoded data removed]",
      "text/plain": [
       "<Figure size 432x288 with 1 Axes>"
      ]
     },
     "metadata": {
      "needs_background": "light"
     },
     "output_type": "display_data"
    }
   ],
   "source": [
    "data_sup_return['returnRate'].plot(kind='kde')"
   ]
  },
  {
   "cell_type": "code",
   "execution_count": 14,
   "id": "supported-willow",
   "metadata": {},
   "outputs": [
    {
     "data": {
      "text/html": [
       "<div>\n",
       "<style scoped>\n",
       "    .dataframe tbody tr th:only-of-type {\n",
       "        vertical-align: middle;\n",
       "    }\n",
       "\n",
       "    .dataframe tbody tr th {\n",
       "        vertical-align: top;\n",
       "    }\n",
       "\n",
       "    .dataframe thead th {\n",
       "        text-align: right;\n",
       "    }\n",
       "</style>\n",
       "<table border=\"1\" class=\"dataframe\">\n",
       "  <thead>\n",
       "    <tr style=\"text-align: right;\">\n",
       "      <th></th>\n",
       "      <th>supplier_id</th>\n",
       "      <th>returnRate</th>\n",
       "    </tr>\n",
       "  </thead>\n",
       "  <tbody>\n",
       "    <tr>\n",
       "      <th>count</th>\n",
       "      <td>22536.000000</td>\n",
       "      <td>22536.000000</td>\n",
       "    </tr>\n",
       "    <tr>\n",
       "      <th>mean</th>\n",
       "      <td>248854.356097</td>\n",
       "      <td>0.096032</td>\n",
       "    </tr>\n",
       "    <tr>\n",
       "      <th>std</th>\n",
       "      <td>96391.457295</td>\n",
       "      <td>0.091749</td>\n",
       "    </tr>\n",
       "    <tr>\n",
       "      <th>min</th>\n",
       "      <td>62.000000</td>\n",
       "      <td>0.000000</td>\n",
       "    </tr>\n",
       "    <tr>\n",
       "      <th>25%</th>\n",
       "      <td>170489.000000</td>\n",
       "      <td>0.027778</td>\n",
       "    </tr>\n",
       "    <tr>\n",
       "      <th>50%</th>\n",
       "      <td>243647.500000</td>\n",
       "      <td>0.073961</td>\n",
       "    </tr>\n",
       "    <tr>\n",
       "      <th>75%</th>\n",
       "      <td>330740.500000</td>\n",
       "      <td>0.141078</td>\n",
       "    </tr>\n",
       "    <tr>\n",
       "      <th>max</th>\n",
       "      <td>434994.000000</td>\n",
       "      <td>1.000000</td>\n",
       "    </tr>\n",
       "  </tbody>\n",
       "</table>\n",
       "</div>"
      ],
      "text/plain": [
       "         supplier_id    returnRate\n",
       "count   22536.000000  22536.000000\n",
       "mean   248854.356097      0.096032\n",
       "std     96391.457295      0.091749\n",
       "min        62.000000      0.000000\n",
       "25%    170489.000000      0.027778\n",
       "50%    243647.500000      0.073961\n",
       "75%    330740.500000      0.141078\n",
       "max    434994.000000      1.000000"
      ]
     },
     "execution_count": 14,
     "metadata": {},
     "output_type": "execute_result"
    }
   ],
   "source": [
    "data_sup_return.describe()"
   ]
  },
  {
   "cell_type": "markdown",
   "id": "optical-ozone",
   "metadata": {},
   "source": [
    "## data_sup_disp"
   ]
  },
  {
   "cell_type": "code",
   "execution_count": 15,
   "id": "hidden-festival",
   "metadata": {},
   "outputs": [
    {
     "data": {
      "text/html": [
       "<div>\n",
       "<style scoped>\n",
       "    .dataframe tbody tr th:only-of-type {\n",
       "        vertical-align: middle;\n",
       "    }\n",
       "\n",
       "    .dataframe tbody tr th {\n",
       "        vertical-align: top;\n",
       "    }\n",
       "\n",
       "    .dataframe thead th {\n",
       "        text-align: right;\n",
       "    }\n",
       "</style>\n",
       "<table border=\"1\" class=\"dataframe\">\n",
       "  <thead>\n",
       "    <tr style=\"text-align: right;\">\n",
       "      <th></th>\n",
       "      <th>supplier_id</th>\n",
       "      <th>total_claim</th>\n",
       "      <th>unresolved_claim</th>\n",
       "      <th>unresolved_accepted_claim</th>\n",
       "      <th>unresolvedclaim_percentage</th>\n",
       "    </tr>\n",
       "  </thead>\n",
       "  <tbody>\n",
       "    <tr>\n",
       "      <th>0</th>\n",
       "      <td>344</td>\n",
       "      <td>164</td>\n",
       "      <td>0</td>\n",
       "      <td>0</td>\n",
       "      <td>0.0</td>\n",
       "    </tr>\n",
       "    <tr>\n",
       "      <th>1</th>\n",
       "      <td>263495</td>\n",
       "      <td>332</td>\n",
       "      <td>0</td>\n",
       "      <td>0</td>\n",
       "      <td>0.0</td>\n",
       "    </tr>\n",
       "    <tr>\n",
       "      <th>2</th>\n",
       "      <td>193158</td>\n",
       "      <td>670</td>\n",
       "      <td>1</td>\n",
       "      <td>0</td>\n",
       "      <td>0.0</td>\n",
       "    </tr>\n",
       "    <tr>\n",
       "      <th>3</th>\n",
       "      <td>146855</td>\n",
       "      <td>86</td>\n",
       "      <td>0</td>\n",
       "      <td>0</td>\n",
       "      <td>0.0</td>\n",
       "    </tr>\n",
       "    <tr>\n",
       "      <th>4</th>\n",
       "      <td>225296</td>\n",
       "      <td>43</td>\n",
       "      <td>0</td>\n",
       "      <td>0</td>\n",
       "      <td>0.0</td>\n",
       "    </tr>\n",
       "  </tbody>\n",
       "</table>\n",
       "</div>"
      ],
      "text/plain": [
       "   supplier_id  total_claim  unresolved_claim  unresolved_accepted_claim  \\\n",
       "0          344          164                 0                          0   \n",
       "1       263495          332                 0                          0   \n",
       "2       193158          670                 1                          0   \n",
       "3       146855           86                 0                          0   \n",
       "4       225296           43                 0                          0   \n",
       "\n",
       "   unresolvedclaim_percentage  \n",
       "0                         0.0  \n",
       "1                         0.0  \n",
       "2                         0.0  \n",
       "3                         0.0  \n",
       "4                         0.0  "
      ]
     },
     "execution_count": 15,
     "metadata": {},
     "output_type": "execute_result"
    }
   ],
   "source": [
    "data_sup_disp.head()"
   ]
  },
  {
   "cell_type": "code",
   "execution_count": 16,
   "id": "coordinate-seafood",
   "metadata": {},
   "outputs": [],
   "source": [
    "# percentage of the unresolved claims\n",
    "data_sup_disp['unresolved_percentage'] = data_sup_disp['unresolved_claim']/data_sup_disp['total_claim']\n",
    "# dropping useless columns\n",
    "data_sup_disp.drop(['unresolved_claim', 'unresolved_accepted_claim'], axis=1, inplace=True)"
   ]
  },
  {
   "cell_type": "markdown",
   "id": "talented-belfast",
   "metadata": {},
   "source": [
    "#### removing conflicts from transaction dataset\n",
    "we saw that some users bought same product and as label it is 1 and 0 at the same time"
   ]
  },
  {
   "cell_type": "markdown",
   "id": "entertaining-sellers",
   "metadata": {},
   "source": [
    "data_tra.dropna(subset=['is_returned'], inplace=True)\n",
    "data_tra['key'] = data_tra['user_id'].astype(str) + '-' + data_tra['product_content_id'].astype(str)\n",
    "conflicts_indexes = set(data_tra.drop_duplicates(subset=['user_id', 'product_content_id','is_returned']).index).difference(set(data_tra.drop_duplicates(subset=['user_id', 'product_content_id']).index))\n",
    "print('len of conflicts', len(conflicts_indexes))\n",
    "all_conflict_indexes = data_tra[data_tra['key'].isin(data_tra.loc[conflicts_indexes]['key'])].index\n",
    "print('len of all conflicts', len(all_conflict_indexes))\n",
    "# we have 259423 conflicted rows, i.e, a user buys same product more than once and returned in some and not returned in others\n",
    "data_tra.drop(all_conflict_indexes, inplace=True)"
   ]
  },
  {
   "cell_type": "markdown",
   "id": "burning-spring",
   "metadata": {},
   "source": [
    "## merging"
   ]
  },
  {
   "cell_type": "code",
   "execution_count": 17,
   "id": "remarkable-restaurant",
   "metadata": {},
   "outputs": [],
   "source": [
    "tmp_df = pd.merge(data_tra, data_products , on=['product_variant_id'], suffixes=('_tra', '_prod'), how='left')\n",
    "tmp_df = pd.merge(tmp_df, data_user_dem , on=['user_id'], suffixes=(None, '_user_dem'),how='left')"
   ]
  },
  {
   "cell_type": "code",
   "execution_count": 18,
   "id": "ignored-stuart",
   "metadata": {},
   "outputs": [],
   "source": [
    "tmp_df = pd.merge(tmp_df, data_sup_return , on=['supplier_id'], suffixes=(None,'_sup_return'), how='left')\n",
    "tmp_df = pd.merge(tmp_df, data_sup_def , on=['supplier_id'], suffixes=(None,'_def'), how='left')\n",
    "df_v1 = pd.merge(tmp_df, data_sup_disp , on=['supplier_id'], suffixes=(None,'_sup'), how='left')"
   ]
  },
  {
   "cell_type": "code",
   "execution_count": 19,
   "id": "polished-center",
   "metadata": {},
   "outputs": [],
   "source": [
    "del tmp_df, data_tra, data_products, data_user_dem, data_sup_return, data_sup_def, data_sup_disp "
   ]
  },
  {
   "cell_type": "code",
   "execution_count": 20,
   "id": "modular-quest",
   "metadata": {},
   "outputs": [
    {
     "data": {
      "text/plain": [
       "92"
      ]
     },
     "execution_count": 20,
     "metadata": {},
     "output_type": "execute_result"
    }
   ],
   "source": [
    "import gc\n",
    "gc.collect()"
   ]
  },
  {
   "cell_type": "code",
   "execution_count": 21,
   "id": "previous-archives",
   "metadata": {},
   "outputs": [
    {
     "data": {
      "text/plain": [
       "Index(['order_date', 'user_id', 'is_elite_user', 'supplier_id',\n",
       "       'order_line_item_id', 'order_parent_id', 'product_content_id_tra',\n",
       "       'product_variant_id', 'original_price', 'discounted_price', 'ship_cost',\n",
       "       'coupon_id', 'coupon_discount', 'promotion_name',\n",
       "       'promotion_award_value', 'is_wallet_trx', 'is_saved_card_trx',\n",
       "       'is_returned', 'product_id', 'product_content_id_prod', 'product_name',\n",
       "       'brand_id', 'brand_name', 'gender_id', 'gender_name', 'category_id',\n",
       "       'category_name', 'color_id', 'color_name', 'supplier_color_name',\n",
       "       'attributet_name', 'attribute_value', 'n_unq_variants', 'birth_date',\n",
       "       'membership_date', 'gender', 'returnRate', 'returnRate_def',\n",
       "       'total_claim', 'unresolvedclaim_percentage', 'unresolved_percentage'],\n",
       "      dtype='object')"
      ]
     },
     "execution_count": 21,
     "metadata": {},
     "output_type": "execute_result"
    }
   ],
   "source": [
    "df_v1.columns"
   ]
  },
  {
   "cell_type": "code",
   "execution_count": 22,
   "id": "proprietary-stylus",
   "metadata": {},
   "outputs": [],
   "source": [
    "df_v1['product_content_id'] = df_v1['product_content_id_tra']\n",
    "df_v1.drop(['product_content_id_tra','product_content_id_prod'], axis=1, inplace=True)"
   ]
  },
  {
   "cell_type": "code",
   "execution_count": 23,
   "id": "ranging-toner",
   "metadata": {},
   "outputs": [
    {
     "data": {
      "text/html": [
       "<div>\n",
       "<style scoped>\n",
       "    .dataframe tbody tr th:only-of-type {\n",
       "        vertical-align: middle;\n",
       "    }\n",
       "\n",
       "    .dataframe tbody tr th {\n",
       "        vertical-align: top;\n",
       "    }\n",
       "\n",
       "    .dataframe thead th {\n",
       "        text-align: right;\n",
       "    }\n",
       "</style>\n",
       "<table border=\"1\" class=\"dataframe\">\n",
       "  <thead>\n",
       "    <tr style=\"text-align: right;\">\n",
       "      <th></th>\n",
       "      <th>order_date</th>\n",
       "      <th>user_id</th>\n",
       "      <th>is_elite_user</th>\n",
       "      <th>supplier_id</th>\n",
       "      <th>order_line_item_id</th>\n",
       "      <th>order_parent_id</th>\n",
       "      <th>product_variant_id</th>\n",
       "      <th>original_price</th>\n",
       "      <th>discounted_price</th>\n",
       "      <th>ship_cost</th>\n",
       "      <th>...</th>\n",
       "      <th>n_unq_variants</th>\n",
       "      <th>birth_date</th>\n",
       "      <th>membership_date</th>\n",
       "      <th>gender</th>\n",
       "      <th>returnRate</th>\n",
       "      <th>returnRate_def</th>\n",
       "      <th>total_claim</th>\n",
       "      <th>unresolvedclaim_percentage</th>\n",
       "      <th>unresolved_percentage</th>\n",
       "      <th>product_content_id</th>\n",
       "    </tr>\n",
       "  </thead>\n",
       "  <tbody>\n",
       "    <tr>\n",
       "      <th>0</th>\n",
       "      <td>2021-05-01 00:00:01.761000+00:00</td>\n",
       "      <td>3941815</td>\n",
       "      <td>0</td>\n",
       "      <td>4662</td>\n",
       "      <td>901280147</td>\n",
       "      <td>595758968</td>\n",
       "      <td>159147197</td>\n",
       "      <td>79.90</td>\n",
       "      <td>51.94</td>\n",
       "      <td>8.88</td>\n",
       "      <td>...</td>\n",
       "      <td>4</td>\n",
       "      <td>1979-05-24 00:00:00+00:00</td>\n",
       "      <td>2011-04-07 14:55:39.457000+00:00</td>\n",
       "      <td>Bayan</td>\n",
       "      <td>0.098178</td>\n",
       "      <td>0.003045</td>\n",
       "      <td>16357.0</td>\n",
       "      <td>0.328947</td>\n",
       "      <td>0.004646</td>\n",
       "      <td>95503167</td>\n",
       "    </tr>\n",
       "    <tr>\n",
       "      <th>1</th>\n",
       "      <td>2021-05-01 00:00:01.761000+00:00</td>\n",
       "      <td>3941815</td>\n",
       "      <td>0</td>\n",
       "      <td>163</td>\n",
       "      <td>901280149</td>\n",
       "      <td>595758968</td>\n",
       "      <td>64622938</td>\n",
       "      <td>129.95</td>\n",
       "      <td>59.97</td>\n",
       "      <td>9.40</td>\n",
       "      <td>...</td>\n",
       "      <td>4</td>\n",
       "      <td>1979-05-24 00:00:00+00:00</td>\n",
       "      <td>2011-04-07 14:55:39.457000+00:00</td>\n",
       "      <td>Bayan</td>\n",
       "      <td>0.050737</td>\n",
       "      <td>0.000545</td>\n",
       "      <td>46699.0</td>\n",
       "      <td>0.000000</td>\n",
       "      <td>0.000000</td>\n",
       "      <td>36313798</td>\n",
       "    </tr>\n",
       "    <tr>\n",
       "      <th>2</th>\n",
       "      <td>2021-05-01 00:00:01.761000+00:00</td>\n",
       "      <td>3941815</td>\n",
       "      <td>0</td>\n",
       "      <td>157306</td>\n",
       "      <td>901280145</td>\n",
       "      <td>595758968</td>\n",
       "      <td>65612791</td>\n",
       "      <td>59.99</td>\n",
       "      <td>49.99</td>\n",
       "      <td>10.67</td>\n",
       "      <td>...</td>\n",
       "      <td>1</td>\n",
       "      <td>1979-05-24 00:00:00+00:00</td>\n",
       "      <td>2011-04-07 14:55:39.457000+00:00</td>\n",
       "      <td>Bayan</td>\n",
       "      <td>0.093355</td>\n",
       "      <td>0.000744</td>\n",
       "      <td>902.0</td>\n",
       "      <td>0.777778</td>\n",
       "      <td>0.009978</td>\n",
       "      <td>36888320</td>\n",
       "    </tr>\n",
       "    <tr>\n",
       "      <th>3</th>\n",
       "      <td>2021-05-01 00:00:01.761000+00:00</td>\n",
       "      <td>3941815</td>\n",
       "      <td>0</td>\n",
       "      <td>163856</td>\n",
       "      <td>901280144</td>\n",
       "      <td>595758968</td>\n",
       "      <td>65613254</td>\n",
       "      <td>49.90</td>\n",
       "      <td>49.90</td>\n",
       "      <td>10.67</td>\n",
       "      <td>...</td>\n",
       "      <td>1</td>\n",
       "      <td>1979-05-24 00:00:00+00:00</td>\n",
       "      <td>2011-04-07 14:55:39.457000+00:00</td>\n",
       "      <td>Bayan</td>\n",
       "      <td>0.108296</td>\n",
       "      <td>0.000633</td>\n",
       "      <td>227.0</td>\n",
       "      <td>0.200000</td>\n",
       "      <td>0.066079</td>\n",
       "      <td>36888399</td>\n",
       "    </tr>\n",
       "    <tr>\n",
       "      <th>4</th>\n",
       "      <td>2021-05-01 00:00:02.742000+00:00</td>\n",
       "      <td>15996105</td>\n",
       "      <td>1</td>\n",
       "      <td>968</td>\n",
       "      <td>901279297</td>\n",
       "      <td>595758987</td>\n",
       "      <td>161408176</td>\n",
       "      <td>89.99</td>\n",
       "      <td>71.99</td>\n",
       "      <td>9.40</td>\n",
       "      <td>...</td>\n",
       "      <td>5</td>\n",
       "      <td>1900-01-01 00:00:00+00:00</td>\n",
       "      <td>2018-04-19 19:29:17.410000+00:00</td>\n",
       "      <td>Bayan</td>\n",
       "      <td>0.127110</td>\n",
       "      <td>0.002828</td>\n",
       "      <td>3269293.0</td>\n",
       "      <td>0.000000</td>\n",
       "      <td>0.000000</td>\n",
       "      <td>96930601</td>\n",
       "    </tr>\n",
       "  </tbody>\n",
       "</table>\n",
       "<p>5 rows × 40 columns</p>\n",
       "</div>"
      ],
      "text/plain": [
       "                        order_date   user_id  is_elite_user  supplier_id  \\\n",
       "0 2021-05-01 00:00:01.761000+00:00   3941815              0         4662   \n",
       "1 2021-05-01 00:00:01.761000+00:00   3941815              0          163   \n",
       "2 2021-05-01 00:00:01.761000+00:00   3941815              0       157306   \n",
       "3 2021-05-01 00:00:01.761000+00:00   3941815              0       163856   \n",
       "4 2021-05-01 00:00:02.742000+00:00  15996105              1          968   \n",
       "\n",
       "   order_line_item_id  order_parent_id  product_variant_id  original_price  \\\n",
       "0           901280147        595758968           159147197           79.90   \n",
       "1           901280149        595758968            64622938          129.95   \n",
       "2           901280145        595758968            65612791           59.99   \n",
       "3           901280144        595758968            65613254           49.90   \n",
       "4           901279297        595758987           161408176           89.99   \n",
       "\n",
       "   discounted_price  ship_cost  ... n_unq_variants                 birth_date  \\\n",
       "0             51.94       8.88  ...              4  1979-05-24 00:00:00+00:00   \n",
       "1             59.97       9.40  ...              4  1979-05-24 00:00:00+00:00   \n",
       "2             49.99      10.67  ...              1  1979-05-24 00:00:00+00:00   \n",
       "3             49.90      10.67  ...              1  1979-05-24 00:00:00+00:00   \n",
       "4             71.99       9.40  ...              5  1900-01-01 00:00:00+00:00   \n",
       "\n",
       "                   membership_date  gender  returnRate  returnRate_def  \\\n",
       "0 2011-04-07 14:55:39.457000+00:00   Bayan    0.098178        0.003045   \n",
       "1 2011-04-07 14:55:39.457000+00:00   Bayan    0.050737        0.000545   \n",
       "2 2011-04-07 14:55:39.457000+00:00   Bayan    0.093355        0.000744   \n",
       "3 2011-04-07 14:55:39.457000+00:00   Bayan    0.108296        0.000633   \n",
       "4 2018-04-19 19:29:17.410000+00:00   Bayan    0.127110        0.002828   \n",
       "\n",
       "   total_claim  unresolvedclaim_percentage unresolved_percentage  \\\n",
       "0      16357.0                    0.328947              0.004646   \n",
       "1      46699.0                    0.000000              0.000000   \n",
       "2        902.0                    0.777778              0.009978   \n",
       "3        227.0                    0.200000              0.066079   \n",
       "4    3269293.0                    0.000000              0.000000   \n",
       "\n",
       "   product_content_id  \n",
       "0            95503167  \n",
       "1            36313798  \n",
       "2            36888320  \n",
       "3            36888399  \n",
       "4            96930601  \n",
       "\n",
       "[5 rows x 40 columns]"
      ]
     },
     "execution_count": 23,
     "metadata": {},
     "output_type": "execute_result"
    }
   ],
   "source": [
    "df_v1.head()"
   ]
  },
  {
   "cell_type": "code",
   "execution_count": 24,
   "id": "orange-desert",
   "metadata": {},
   "outputs": [
    {
     "name": "stdout",
     "output_type": "stream",
     "text": [
      "<class 'pandas.core.frame.DataFrame'>\n",
      "Int64Index: 11193677 entries, 0 to 11193676\n",
      "Data columns (total 40 columns):\n",
      " #   Column                      Dtype              \n",
      "---  ------                      -----              \n",
      " 0   order_date                  datetime64[ns, UTC]\n",
      " 1   user_id                     int64              \n",
      " 2   is_elite_user               int64              \n",
      " 3   supplier_id                 int64              \n",
      " 4   order_line_item_id          int64              \n",
      " 5   order_parent_id             int64              \n",
      " 6   product_variant_id          int64              \n",
      " 7   original_price              float64            \n",
      " 8   discounted_price            float64            \n",
      " 9   ship_cost                   float64            \n",
      " 10  coupon_id                   object             \n",
      " 11  coupon_discount             float64            \n",
      " 12  promotion_name              object             \n",
      " 13  promotion_award_value       float64            \n",
      " 14  is_wallet_trx               int64              \n",
      " 15  is_saved_card_trx           bool               \n",
      " 16  is_returned                 float64            \n",
      " 17  product_id                  int64              \n",
      " 18  product_name                object             \n",
      " 19  brand_id                    int64              \n",
      " 20  brand_name                  object             \n",
      " 21  gender_id                   float64            \n",
      " 22  gender_name                 object             \n",
      " 23  category_id                 int64              \n",
      " 24  category_name               object             \n",
      " 25  color_id                    float64            \n",
      " 26  color_name                  object             \n",
      " 27  supplier_color_name         object             \n",
      " 28  attributet_name             object             \n",
      " 29  attribute_value             object             \n",
      " 30  n_unq_variants              int64              \n",
      " 31  birth_date                  object             \n",
      " 32  membership_date             datetime64[ns, UTC]\n",
      " 33  gender                      object             \n",
      " 34  returnRate                  float64            \n",
      " 35  returnRate_def              float64            \n",
      " 36  total_claim                 float64            \n",
      " 37  unresolvedclaim_percentage  float64            \n",
      " 38  unresolved_percentage       float64            \n",
      " 39  product_content_id          int64              \n",
      "dtypes: bool(1), datetime64[ns, UTC](2), float64(13), int64(12), object(12)\n",
      "memory usage: 3.3+ GB\n"
     ]
    }
   ],
   "source": [
    "df_v1.info()"
   ]
  },
  {
   "cell_type": "code",
   "execution_count": 25,
   "id": "biblical-wrong",
   "metadata": {
    "scrolled": true
   },
   "outputs": [
    {
     "data": {
      "text/plain": [
       "order_date                           0\n",
       "user_id                              0\n",
       "is_elite_user                        0\n",
       "supplier_id                          0\n",
       "order_line_item_id                   0\n",
       "order_parent_id                      0\n",
       "product_variant_id                   0\n",
       "original_price                       0\n",
       "discounted_price                     0\n",
       "ship_cost                        36886\n",
       "coupon_id                     10433735\n",
       "coupon_discount                      0\n",
       "promotion_name                 5653910\n",
       "promotion_award_value          5653910\n",
       "is_wallet_trx                        0\n",
       "is_saved_card_trx                    0\n",
       "is_returned                     421016\n",
       "product_id                           0\n",
       "product_name                         0\n",
       "brand_id                             0\n",
       "brand_name                           0\n",
       "gender_id                         7223\n",
       "gender_name                          0\n",
       "category_id                          0\n",
       "category_name                        0\n",
       "color_id                          5217\n",
       "color_name                        5217\n",
       "supplier_color_name                  1\n",
       "attributet_name                      0\n",
       "attribute_value                      0\n",
       "n_unq_variants                       0\n",
       "birth_date                     3062567\n",
       "membership_date                      0\n",
       "gender                               0\n",
       "returnRate                          37\n",
       "returnRate_def                      37\n",
       "total_claim                       3215\n",
       "unresolvedclaim_percentage        3215\n",
       "unresolved_percentage             3215\n",
       "product_content_id                   0\n",
       "dtype: int64"
      ]
     },
     "execution_count": 25,
     "metadata": {},
     "output_type": "execute_result"
    }
   ],
   "source": [
    "df_v1.isna().sum()"
   ]
  },
  {
   "cell_type": "code",
   "execution_count": 26,
   "id": "chief-installation",
   "metadata": {},
   "outputs": [
    {
     "data": {
      "text/html": [
       "<div>\n",
       "<style scoped>\n",
       "    .dataframe tbody tr th:only-of-type {\n",
       "        vertical-align: middle;\n",
       "    }\n",
       "\n",
       "    .dataframe tbody tr th {\n",
       "        vertical-align: top;\n",
       "    }\n",
       "\n",
       "    .dataframe thead th {\n",
       "        text-align: right;\n",
       "    }\n",
       "</style>\n",
       "<table border=\"1\" class=\"dataframe\">\n",
       "  <thead>\n",
       "    <tr style=\"text-align: right;\">\n",
       "      <th></th>\n",
       "      <th>order_date</th>\n",
       "      <th>user_id</th>\n",
       "      <th>is_elite_user</th>\n",
       "      <th>supplier_id</th>\n",
       "      <th>order_line_item_id</th>\n",
       "      <th>order_parent_id</th>\n",
       "      <th>product_variant_id</th>\n",
       "      <th>original_price</th>\n",
       "      <th>discounted_price</th>\n",
       "      <th>ship_cost</th>\n",
       "      <th>...</th>\n",
       "      <th>n_unq_variants</th>\n",
       "      <th>birth_date</th>\n",
       "      <th>membership_date</th>\n",
       "      <th>gender</th>\n",
       "      <th>returnRate</th>\n",
       "      <th>returnRate_def</th>\n",
       "      <th>total_claim</th>\n",
       "      <th>unresolvedclaim_percentage</th>\n",
       "      <th>unresolved_percentage</th>\n",
       "      <th>product_content_id</th>\n",
       "    </tr>\n",
       "  </thead>\n",
       "  <tbody>\n",
       "    <tr>\n",
       "      <th>0</th>\n",
       "      <td>2021-05-01 00:00:01.761000+00:00</td>\n",
       "      <td>3941815</td>\n",
       "      <td>0</td>\n",
       "      <td>4662</td>\n",
       "      <td>901280147</td>\n",
       "      <td>595758968</td>\n",
       "      <td>159147197</td>\n",
       "      <td>79.90</td>\n",
       "      <td>51.94</td>\n",
       "      <td>8.88</td>\n",
       "      <td>...</td>\n",
       "      <td>4</td>\n",
       "      <td>1979-05-24 00:00:00+00:00</td>\n",
       "      <td>2011-04-07 14:55:39.457000+00:00</td>\n",
       "      <td>Bayan</td>\n",
       "      <td>0.098178</td>\n",
       "      <td>0.003045</td>\n",
       "      <td>16357.0</td>\n",
       "      <td>0.328947</td>\n",
       "      <td>0.004646</td>\n",
       "      <td>95503167</td>\n",
       "    </tr>\n",
       "    <tr>\n",
       "      <th>1</th>\n",
       "      <td>2021-05-01 00:00:01.761000+00:00</td>\n",
       "      <td>3941815</td>\n",
       "      <td>0</td>\n",
       "      <td>163</td>\n",
       "      <td>901280149</td>\n",
       "      <td>595758968</td>\n",
       "      <td>64622938</td>\n",
       "      <td>129.95</td>\n",
       "      <td>59.97</td>\n",
       "      <td>9.40</td>\n",
       "      <td>...</td>\n",
       "      <td>4</td>\n",
       "      <td>1979-05-24 00:00:00+00:00</td>\n",
       "      <td>2011-04-07 14:55:39.457000+00:00</td>\n",
       "      <td>Bayan</td>\n",
       "      <td>0.050737</td>\n",
       "      <td>0.000545</td>\n",
       "      <td>46699.0</td>\n",
       "      <td>0.000000</td>\n",
       "      <td>0.000000</td>\n",
       "      <td>36313798</td>\n",
       "    </tr>\n",
       "    <tr>\n",
       "      <th>2</th>\n",
       "      <td>2021-05-01 00:00:01.761000+00:00</td>\n",
       "      <td>3941815</td>\n",
       "      <td>0</td>\n",
       "      <td>157306</td>\n",
       "      <td>901280145</td>\n",
       "      <td>595758968</td>\n",
       "      <td>65612791</td>\n",
       "      <td>59.99</td>\n",
       "      <td>49.99</td>\n",
       "      <td>10.67</td>\n",
       "      <td>...</td>\n",
       "      <td>1</td>\n",
       "      <td>1979-05-24 00:00:00+00:00</td>\n",
       "      <td>2011-04-07 14:55:39.457000+00:00</td>\n",
       "      <td>Bayan</td>\n",
       "      <td>0.093355</td>\n",
       "      <td>0.000744</td>\n",
       "      <td>902.0</td>\n",
       "      <td>0.777778</td>\n",
       "      <td>0.009978</td>\n",
       "      <td>36888320</td>\n",
       "    </tr>\n",
       "  </tbody>\n",
       "</table>\n",
       "<p>3 rows × 40 columns</p>\n",
       "</div>"
      ],
      "text/plain": [
       "                        order_date  user_id  is_elite_user  supplier_id  \\\n",
       "0 2021-05-01 00:00:01.761000+00:00  3941815              0         4662   \n",
       "1 2021-05-01 00:00:01.761000+00:00  3941815              0          163   \n",
       "2 2021-05-01 00:00:01.761000+00:00  3941815              0       157306   \n",
       "\n",
       "   order_line_item_id  order_parent_id  product_variant_id  original_price  \\\n",
       "0           901280147        595758968           159147197           79.90   \n",
       "1           901280149        595758968            64622938          129.95   \n",
       "2           901280145        595758968            65612791           59.99   \n",
       "\n",
       "   discounted_price  ship_cost  ... n_unq_variants                 birth_date  \\\n",
       "0             51.94       8.88  ...              4  1979-05-24 00:00:00+00:00   \n",
       "1             59.97       9.40  ...              4  1979-05-24 00:00:00+00:00   \n",
       "2             49.99      10.67  ...              1  1979-05-24 00:00:00+00:00   \n",
       "\n",
       "                   membership_date  gender  returnRate  returnRate_def  \\\n",
       "0 2011-04-07 14:55:39.457000+00:00   Bayan    0.098178        0.003045   \n",
       "1 2011-04-07 14:55:39.457000+00:00   Bayan    0.050737        0.000545   \n",
       "2 2011-04-07 14:55:39.457000+00:00   Bayan    0.093355        0.000744   \n",
       "\n",
       "   total_claim  unresolvedclaim_percentage unresolved_percentage  \\\n",
       "0      16357.0                    0.328947              0.004646   \n",
       "1      46699.0                    0.000000              0.000000   \n",
       "2        902.0                    0.777778              0.009978   \n",
       "\n",
       "   product_content_id  \n",
       "0            95503167  \n",
       "1            36313798  \n",
       "2            36888320  \n",
       "\n",
       "[3 rows x 40 columns]"
      ]
     },
     "execution_count": 26,
     "metadata": {},
     "output_type": "execute_result"
    }
   ],
   "source": [
    "df_v1.head(3)"
   ]
  },
  {
   "cell_type": "markdown",
   "id": "dedicated-regulation",
   "metadata": {},
   "source": [
    "## cleaning outliers, conflicts and nulls"
   ]
  },
  {
   "cell_type": "code",
   "execution_count": 27,
   "id": "daily-bracket",
   "metadata": {},
   "outputs": [],
   "source": [
    "# if promotion award is None, meaning no promotion, then fill it with 0\n",
    "df_v1['promotion_award_value'].fillna(0.0, inplace=True)"
   ]
  },
  {
   "cell_type": "code",
   "execution_count": 28,
   "id": "useful-indonesian",
   "metadata": {},
   "outputs": [],
   "source": [
    "# if shipping cost is None, meaning no cost, then fill it with 0\n",
    "df_v1['ship_cost'].fillna(0.0, inplace=True)"
   ]
  },
  {
   "cell_type": "markdown",
   "id": "nonprofit-bowling",
   "metadata": {},
   "source": [
    "## feature engineering"
   ]
  },
  {
   "cell_type": "code",
   "execution_count": 29,
   "id": "upper-queens",
   "metadata": {},
   "outputs": [],
   "source": [
    "# paid amount by customer\n",
    "df_v1['paid_amount'] = df_v1['discounted_price']-df_v1['coupon_discount']+df_v1['ship_cost']\n",
    "# discoount ratio \n",
    "df_v1['discount_ratio'] = (df_v1['original_price']- df_v1['discounted_price'])/df_v1['original_price']"
   ]
  },
  {
   "cell_type": "code",
   "execution_count": 30,
   "id": "killing-transition",
   "metadata": {
    "scrolled": false
   },
   "outputs": [
    {
     "name": "stderr",
     "output_type": "stream",
     "text": [
      "C:\\Users\\IsmailKaraman\\anaconda3\\lib\\site-packages\\seaborn\\distributions.py:2557: FutureWarning: `distplot` is a deprecated function and will be removed in a future version. Please adapt your code to use either `displot` (a figure-level function with similar flexibility) or `histplot` (an axes-level function for histograms).\n",
      "  warnings.warn(msg, FutureWarning)\n"
     ]
    },
    {
     "data": {
      "text/plain": [
       "<AxesSubplot:xlabel='discount_ratio', ylabel='Density'>"
      ]
     },
     "execution_count": 30,
     "metadata": {},
     "output_type": "execute_result"
    },
    {
     "data": {
      "image/png": "[encoded data removed]",
      "text/plain": [
       "<Figure size 432x288 with 1 Axes>"
      ]
     },
     "metadata": {
      "needs_background": "light"
     },
     "output_type": "display_data"
    }
   ],
   "source": [
    "sns.distplot(df_v1['discount_ratio'])"
   ]
  },
  {
   "cell_type": "code",
   "execution_count": 31,
   "id": "imperial-charge",
   "metadata": {},
   "outputs": [
    {
     "data": {
      "text/plain": [
       "<AxesSubplot:xlabel='order_date', ylabel='Count'>"
      ]
     },
     "execution_count": 31,
     "metadata": {},
     "output_type": "execute_result"
    },
    {
     "data": {
      "image/png": "[encoded data removed]",
      "text/plain": [
       "<Figure size 432x288 with 1 Axes>"
      ]
     },
     "metadata": {
      "needs_background": "light"
     },
     "output_type": "display_data"
    }
   ],
   "source": [
    "sns.histplot(df_v1[\"order_date\"].dt.hour, bins=24)"
   ]
  },
  {
   "cell_type": "code",
   "execution_count": 32,
   "id": "guided-particle",
   "metadata": {},
   "outputs": [],
   "source": [
    "def day_interval(x):\n",
    "    if time.fromisoformat('02:00') <= x < time.fromisoformat('12:30'):\n",
    "        return 0\n",
    "    elif time.fromisoformat('12:30') <= x < time.fromisoformat('16:00'):\n",
    "        return 1\n",
    "    elif time.fromisoformat('16:00') <= x < time.fromisoformat('19:30'):\n",
    "        return 2\n",
    "    elif time.fromisoformat('19:30') <= x < time.fromisoformat('22:30'):\n",
    "        return 3\n",
    "    else:\n",
    "        return 4"
   ]
  },
  {
   "cell_type": "code",
   "execution_count": 33,
   "id": "enormous-seattle",
   "metadata": {},
   "outputs": [],
   "source": [
    "# splitting order hour to different intervals\n",
    "# 02:00 - 12:30 - 0 : midnight and morning\n",
    "# 12:30 - 16:00 - 1 : noon and afternoon\n",
    "# 16:00 - 19:30 - 2 : evening and going back to home\n",
    "# 19:30 - 22:30 - 3 : after dinner, resting time\n",
    "# 22:30 - 02:00 - 4 : night\n",
    "df_v1[\"hour_interval\"] = df_v1[\"order_date\"].dt.time.apply(day_interval)"
   ]
  },
  {
   "cell_type": "code",
   "execution_count": 34,
   "id": "straight-dealing",
   "metadata": {
    "scrolled": false
   },
   "outputs": [
    {
     "name": "stderr",
     "output_type": "stream",
     "text": [
      "C:\\Users\\IsmailKaraman\\anaconda3\\lib\\site-packages\\seaborn\\_decorators.py:36: FutureWarning: Pass the following variable as a keyword arg: x. From version 0.12, the only valid positional argument will be `data`, and passing other arguments without an explicit keyword will result in an error or misinterpretation.\n",
      "  warnings.warn(\n"
     ]
    },
    {
     "data": {
      "text/plain": [
       "<AxesSubplot:xlabel='hour_interval', ylabel='count'>"
      ]
     },
     "execution_count": 34,
     "metadata": {},
     "output_type": "execute_result"
    },
    {
     "data": {
      "image/png": "[encoded data removed]",
      "text/plain": [
       "<Figure size 432x288 with 1 Axes>"
      ]
     },
     "metadata": {
      "needs_background": "light"
     },
     "output_type": "display_data"
    }
   ],
   "source": [
    "sns.countplot(df_v1[\"hour_interval\"])"
   ]
  },
  {
   "cell_type": "code",
   "execution_count": 35,
   "id": "silver-watts",
   "metadata": {},
   "outputs": [
    {
     "data": {
      "text/plain": [
       "<AxesSubplot:ylabel='Count'>"
      ]
     },
     "execution_count": 35,
     "metadata": {},
     "output_type": "execute_result"
    },
    {
     "data": {
      "image/png": "[encoded data removed]",
      "text/plain": [
       "<Figure size 432x288 with 1 Axes>"
      ]
     },
     "metadata": {
      "needs_background": "light"
     },
     "output_type": "display_data"
    }
   ],
   "source": [
    "sns.histplot((df_v1[\"order_date\"]-df_v1[\"membership_date\"]).dt.days, bins=50)"
   ]
  },
  {
   "cell_type": "code",
   "execution_count": 36,
   "id": "liked-charm",
   "metadata": {},
   "outputs": [],
   "source": [
    "# difference between order and membership date\n",
    "df_v1['diff_order_memdate'] = (df_v1[\"order_date\"]-df_v1[\"membership_date\"]).dt.days"
   ]
  },
  {
   "cell_type": "code",
   "execution_count": 37,
   "id": "biblical-karaoke",
   "metadata": {},
   "outputs": [
    {
     "name": "stderr",
     "output_type": "stream",
     "text": [
      "<ipython-input-37-9f94dc7cba8d>:4: FutureWarning: Series.dt.weekofyear and Series.dt.week have been deprecated.  Please use Series.dt.isocalendar().week instead.\n",
      "  df_v1['order_week'] = df_v1[\"order_date\"].dt.week\n"
     ]
    }
   ],
   "source": [
    "# converting order date to weekday, day of the month and week \n",
    "df_v1['order_weekday'] =  df_v1[\"order_date\"].dt.weekday\n",
    "df_v1['order_day'] = df_v1['order_date'].dt.day\n",
    "df_v1['order_week'] = df_v1[\"order_date\"].dt.week"
   ]
  },
  {
   "cell_type": "code",
   "execution_count": 38,
   "id": "geological-brunswick",
   "metadata": {},
   "outputs": [
    {
     "data": {
      "text/plain": [
       "<AxesSubplot:xlabel='order_weekday', ylabel='Count'>"
      ]
     },
     "execution_count": 38,
     "metadata": {},
     "output_type": "execute_result"
    },
    {
     "data": {
      "image/png": "[encoded data removed]",
      "text/plain": [
       "<Figure size 432x288 with 1 Axes>"
      ]
     },
     "metadata": {
      "needs_background": "light"
     },
     "output_type": "display_data"
    }
   ],
   "source": [
    "sns.histplot(df_v1['order_weekday'], bins=7)"
   ]
  },
  {
   "cell_type": "code",
   "execution_count": 39,
   "id": "important-player",
   "metadata": {},
   "outputs": [
    {
     "data": {
      "text/plain": [
       "<AxesSubplot:xlabel='order_day', ylabel='Count'>"
      ]
     },
     "execution_count": 39,
     "metadata": {},
     "output_type": "execute_result"
    },
    {
     "data": {
      "image/png": "[encoded data removed]",
      "text/plain": [
       "<Figure size 432x288 with 1 Axes>"
      ]
     },
     "metadata": {
      "needs_background": "light"
     },
     "output_type": "display_data"
    }
   ],
   "source": [
    "sns.histplot(df_v1['order_day'], bins=31)"
   ]
  },
  {
   "cell_type": "code",
   "execution_count": 40,
   "id": "honest-fusion",
   "metadata": {
    "scrolled": false
   },
   "outputs": [
    {
     "data": {
      "text/plain": [
       "<AxesSubplot:xlabel='order_week', ylabel='Count'>"
      ]
     },
     "execution_count": 40,
     "metadata": {},
     "output_type": "execute_result"
    },
    {
     "data": {
      "image/png": "[encoded data removed]",
      "text/plain": [
       "<Figure size 432x288 with 1 Axes>"
      ]
     },
     "metadata": {
      "needs_background": "light"
     },
     "output_type": "display_data"
    }
   ],
   "source": [
    "sns.histplot(df_v1['order_week'], bins=len(df_v1['order_week'].unique()))"
   ]
  },
  {
   "cell_type": "markdown",
   "id": "given-flood",
   "metadata": {},
   "source": [
    "#### zodiac sign and age"
   ]
  },
  {
   "cell_type": "code",
   "execution_count": 41,
   "id": "technical-respondent",
   "metadata": {},
   "outputs": [],
   "source": [
    "def correct_dates(str_date):\n",
    "    if type(str_date) == str:\n",
    "        \n",
    "        year = str_date.split('-')[0]\n",
    "        if not (1936 < int(year) < 2016):\n",
    "            str_date =  str_date.replace(year, '1920')\n",
    "        return str_date\n",
    "    else:\n",
    "        return '1910-01-01 00:00:00+00:00' "
   ]
  },
  {
   "cell_type": "code",
   "execution_count": 42,
   "id": "increasing-roberts",
   "metadata": {},
   "outputs": [],
   "source": [
    "zodiacs = [(120, 'cap'), (218, 'aqu'), (320, 'pis'), (420, 'ari'), (521, 'tau'),\n",
    "           (621, 'gem'), (722, 'can'), (823, 'leo'), (923, 'vir'), (1023, 'lib'),\n",
    "           (1122, 'sco'), (1222, 'sag'), (1231, 'cap')]\n",
    "\n",
    "def get_zodiac_of_date(date):\n",
    "     \n",
    "    if type(date) == str:\n",
    "        date = parser.parse(date)\n",
    "        if date.month == 1 and date.day == 1:\n",
    "            return 'no-sign'   \n",
    "        date_number = int(\"\".join((str(date.month), '%02d' % date.date().day)))\n",
    "        for z in zodiacs:\n",
    "            if date_number <= z[0]:\n",
    "                return z[1]\n",
    "    else:\n",
    "        return 'none'"
   ]
  },
  {
   "cell_type": "code",
   "execution_count": 43,
   "id": "solved-bulgaria",
   "metadata": {},
   "outputs": [],
   "source": [
    "df_v1['zodiac'] = df_v1['birth_date'].apply(get_zodiac_of_date)"
   ]
  },
  {
   "cell_type": "code",
   "execution_count": 44,
   "id": "located-suite",
   "metadata": {},
   "outputs": [
    {
     "name": "stderr",
     "output_type": "stream",
     "text": [
      "C:\\Users\\IsmailKaraman\\anaconda3\\lib\\site-packages\\seaborn\\_decorators.py:36: FutureWarning: Pass the following variables as keyword args: x, y. From version 0.12, the only valid positional argument will be `data`, and passing other arguments without an explicit keyword will result in an error or misinterpretation.\n",
      "  warnings.warn(\n"
     ]
    },
    {
     "data": {
      "text/plain": [
       "<AxesSubplot:>"
      ]
     },
     "execution_count": 44,
     "metadata": {},
     "output_type": "execute_result"
    },
    {
     "data": {
      "image/png": "[encoded data removed]",
      "text/plain": [
       "<Figure size 720x360 with 1 Axes>"
      ]
     },
     "metadata": {
      "needs_background": "light"
     },
     "output_type": "display_data"
    }
   ],
   "source": [
    "plt.figure(figsize=(10,5))\n",
    "sns.barplot(df_v1['zodiac'].value_counts().index, df_v1['zodiac'].value_counts().values)"
   ]
  },
  {
   "cell_type": "code",
   "execution_count": 45,
   "id": "voluntary-vegetarian",
   "metadata": {
    "scrolled": false
   },
   "outputs": [],
   "source": [
    "# calculating customer's ages\n",
    "df_v1['birth_date'] = df_v1['birth_date'].apply(correct_dates)\n",
    "df_v1['birth_date'] = df_v1['birth_date'].astype('datetime64[ns, UTC]')\n",
    "df_v1['age'] = datetime.now().year - df_v1['birth_date'].dt.year"
   ]
  },
  {
   "cell_type": "code",
   "execution_count": 46,
   "id": "specified-journal",
   "metadata": {},
   "outputs": [
    {
     "data": {
      "text/plain": [
       "<AxesSubplot:xlabel='age', ylabel='Count'>"
      ]
     },
     "execution_count": 46,
     "metadata": {},
     "output_type": "execute_result"
    },
    {
     "data": {
      "image/png": "[encoded data removed]",
      "text/plain": [
       "<Figure size 432x288 with 1 Axes>"
      ]
     },
     "metadata": {
      "needs_background": "light"
     },
     "output_type": "display_data"
    }
   ],
   "source": [
    "sns.histplot(df_v1['age'])"
   ]
  },
  {
   "cell_type": "markdown",
   "id": "right-diamond",
   "metadata": {},
   "source": [
    "#### is bithday closing?"
   ]
  },
  {
   "cell_type": "code",
   "execution_count": 47,
   "id": "naughty-ecology",
   "metadata": {},
   "outputs": [],
   "source": [
    "def is_bday_close(row):\n",
    "    ord_date, bday = row\n",
    "    if bday.month - ord_date.month == 0:\n",
    "        if 0 <= (bday.day - ord_date.day) <= 15:\n",
    "            return 1\n",
    "    elif bday.month - ord_date.month == 1:\n",
    "        if 15 <= (ord_date.day - bday.day):\n",
    "            return 1       \n",
    "    return 0"
   ]
  },
  {
   "cell_type": "code",
   "execution_count": 48,
   "id": "healthy-knowing",
   "metadata": {},
   "outputs": [],
   "source": [
    "df_v1['is_bday_close'] = df_v1[['order_date', 'birth_date']].apply(is_bday_close, axis=1)"
   ]
  },
  {
   "cell_type": "code",
   "execution_count": 49,
   "id": "closing-variable",
   "metadata": {},
   "outputs": [
    {
     "data": {
      "text/plain": [
       "0    10921374\n",
       "1      272303\n",
       "Name: is_bday_close, dtype: int64"
      ]
     },
     "execution_count": 49,
     "metadata": {},
     "output_type": "execute_result"
    }
   ],
   "source": [
    "df_v1['is_bday_close'].value_counts()"
   ]
  },
  {
   "cell_type": "code",
   "execution_count": 50,
   "id": "successful-monitor",
   "metadata": {},
   "outputs": [],
   "source": [
    "df_v1.sort_values(by=['user_id', 'order_date'], inplace=True)"
   ]
  },
  {
   "cell_type": "code",
   "execution_count": 51,
   "id": "modern-roulette",
   "metadata": {
    "scrolled": true
   },
   "outputs": [
    {
     "data": {
      "text/html": [
       "<div>\n",
       "<style scoped>\n",
       "    .dataframe tbody tr th:only-of-type {\n",
       "        vertical-align: middle;\n",
       "    }\n",
       "\n",
       "    .dataframe tbody tr th {\n",
       "        vertical-align: top;\n",
       "    }\n",
       "\n",
       "    .dataframe thead th {\n",
       "        text-align: right;\n",
       "    }\n",
       "</style>\n",
       "<table border=\"1\" class=\"dataframe\">\n",
       "  <thead>\n",
       "    <tr style=\"text-align: right;\">\n",
       "      <th></th>\n",
       "      <th>order_date</th>\n",
       "      <th>user_id</th>\n",
       "      <th>is_elite_user</th>\n",
       "      <th>supplier_id</th>\n",
       "      <th>order_line_item_id</th>\n",
       "      <th>order_parent_id</th>\n",
       "      <th>product_variant_id</th>\n",
       "      <th>original_price</th>\n",
       "      <th>discounted_price</th>\n",
       "      <th>ship_cost</th>\n",
       "      <th>...</th>\n",
       "      <th>paid_amount</th>\n",
       "      <th>discount_ratio</th>\n",
       "      <th>hour_interval</th>\n",
       "      <th>diff_order_memdate</th>\n",
       "      <th>order_weekday</th>\n",
       "      <th>order_day</th>\n",
       "      <th>order_week</th>\n",
       "      <th>zodiac</th>\n",
       "      <th>age</th>\n",
       "      <th>is_bday_close</th>\n",
       "    </tr>\n",
       "  </thead>\n",
       "  <tbody>\n",
       "    <tr>\n",
       "      <th>2871337</th>\n",
       "      <td>2021-05-19 01:27:28.768000+00:00</td>\n",
       "      <td>2141</td>\n",
       "      <td>0</td>\n",
       "      <td>216503</td>\n",
       "      <td>955598029</td>\n",
       "      <td>625610651</td>\n",
       "      <td>133066437</td>\n",
       "      <td>104.90</td>\n",
       "      <td>69.90</td>\n",
       "      <td>11.33</td>\n",
       "      <td>...</td>\n",
       "      <td>81.23</td>\n",
       "      <td>0.333651</td>\n",
       "      <td>4</td>\n",
       "      <td>4135</td>\n",
       "      <td>2</td>\n",
       "      <td>19</td>\n",
       "      <td>20</td>\n",
       "      <td>sco</td>\n",
       "      <td>43</td>\n",
       "      <td>0</td>\n",
       "    </tr>\n",
       "    <tr>\n",
       "      <th>2871338</th>\n",
       "      <td>2021-05-19 01:27:28.768000+00:00</td>\n",
       "      <td>2141</td>\n",
       "      <td>0</td>\n",
       "      <td>1188</td>\n",
       "      <td>955598030</td>\n",
       "      <td>625610651</td>\n",
       "      <td>77047570</td>\n",
       "      <td>79.99</td>\n",
       "      <td>79.99</td>\n",
       "      <td>8.88</td>\n",
       "      <td>...</td>\n",
       "      <td>88.87</td>\n",
       "      <td>0.000000</td>\n",
       "      <td>4</td>\n",
       "      <td>4135</td>\n",
       "      <td>2</td>\n",
       "      <td>19</td>\n",
       "      <td>20</td>\n",
       "      <td>sco</td>\n",
       "      <td>43</td>\n",
       "      <td>0</td>\n",
       "    </tr>\n",
       "    <tr>\n",
       "      <th>4475121</th>\n",
       "      <td>2021-06-02 00:51:35.862000+00:00</td>\n",
       "      <td>2141</td>\n",
       "      <td>0</td>\n",
       "      <td>200788</td>\n",
       "      <td>988146564</td>\n",
       "      <td>643936439</td>\n",
       "      <td>153411316</td>\n",
       "      <td>110.30</td>\n",
       "      <td>55.15</td>\n",
       "      <td>8.88</td>\n",
       "      <td>...</td>\n",
       "      <td>64.03</td>\n",
       "      <td>0.500000</td>\n",
       "      <td>4</td>\n",
       "      <td>4149</td>\n",
       "      <td>2</td>\n",
       "      <td>2</td>\n",
       "      <td>22</td>\n",
       "      <td>sco</td>\n",
       "      <td>43</td>\n",
       "      <td>0</td>\n",
       "    </tr>\n",
       "    <tr>\n",
       "      <th>4475122</th>\n",
       "      <td>2021-06-02 00:51:35.862000+00:00</td>\n",
       "      <td>2141</td>\n",
       "      <td>0</td>\n",
       "      <td>107296</td>\n",
       "      <td>988146563</td>\n",
       "      <td>643936439</td>\n",
       "      <td>172744639</td>\n",
       "      <td>59.90</td>\n",
       "      <td>49.90</td>\n",
       "      <td>8.88</td>\n",
       "      <td>...</td>\n",
       "      <td>58.78</td>\n",
       "      <td>0.166945</td>\n",
       "      <td>4</td>\n",
       "      <td>4149</td>\n",
       "      <td>2</td>\n",
       "      <td>2</td>\n",
       "      <td>22</td>\n",
       "      <td>sco</td>\n",
       "      <td>43</td>\n",
       "      <td>0</td>\n",
       "    </tr>\n",
       "    <tr>\n",
       "      <th>5471662</th>\n",
       "      <td>2021-06-09 23:31:37.963000+00:00</td>\n",
       "      <td>2141</td>\n",
       "      <td>0</td>\n",
       "      <td>968</td>\n",
       "      <td>1007223734</td>\n",
       "      <td>654756664</td>\n",
       "      <td>162306389</td>\n",
       "      <td>119.99</td>\n",
       "      <td>48.00</td>\n",
       "      <td>9.40</td>\n",
       "      <td>...</td>\n",
       "      <td>64.46</td>\n",
       "      <td>0.599967</td>\n",
       "      <td>4</td>\n",
       "      <td>4157</td>\n",
       "      <td>2</td>\n",
       "      <td>9</td>\n",
       "      <td>23</td>\n",
       "      <td>sco</td>\n",
       "      <td>43</td>\n",
       "      <td>0</td>\n",
       "    </tr>\n",
       "    <tr>\n",
       "      <th>5471663</th>\n",
       "      <td>2021-06-09 23:31:37.963000+00:00</td>\n",
       "      <td>2141</td>\n",
       "      <td>0</td>\n",
       "      <td>968</td>\n",
       "      <td>1007223733</td>\n",
       "      <td>654756664</td>\n",
       "      <td>166484322</td>\n",
       "      <td>49.99</td>\n",
       "      <td>20.00</td>\n",
       "      <td>9.40</td>\n",
       "      <td>...</td>\n",
       "      <td>32.34</td>\n",
       "      <td>0.599920</td>\n",
       "      <td>4</td>\n",
       "      <td>4157</td>\n",
       "      <td>2</td>\n",
       "      <td>9</td>\n",
       "      <td>23</td>\n",
       "      <td>sco</td>\n",
       "      <td>43</td>\n",
       "      <td>0</td>\n",
       "    </tr>\n",
       "    <tr>\n",
       "      <th>6247885</th>\n",
       "      <td>2021-06-16 20:49:26.158000+00:00</td>\n",
       "      <td>2141</td>\n",
       "      <td>0</td>\n",
       "      <td>968</td>\n",
       "      <td>1022371178</td>\n",
       "      <td>663212595</td>\n",
       "      <td>66212340</td>\n",
       "      <td>29.99</td>\n",
       "      <td>21.99</td>\n",
       "      <td>9.40</td>\n",
       "      <td>...</td>\n",
       "      <td>33.31</td>\n",
       "      <td>0.266756</td>\n",
       "      <td>3</td>\n",
       "      <td>4164</td>\n",
       "      <td>2</td>\n",
       "      <td>16</td>\n",
       "      <td>24</td>\n",
       "      <td>sco</td>\n",
       "      <td>43</td>\n",
       "      <td>0</td>\n",
       "    </tr>\n",
       "    <tr>\n",
       "      <th>6247886</th>\n",
       "      <td>2021-06-16 20:49:26.158000+00:00</td>\n",
       "      <td>2141</td>\n",
       "      <td>0</td>\n",
       "      <td>637</td>\n",
       "      <td>1022371180</td>\n",
       "      <td>663212595</td>\n",
       "      <td>189524291</td>\n",
       "      <td>19.99</td>\n",
       "      <td>19.99</td>\n",
       "      <td>8.88</td>\n",
       "      <td>...</td>\n",
       "      <td>30.62</td>\n",
       "      <td>0.000000</td>\n",
       "      <td>3</td>\n",
       "      <td>4164</td>\n",
       "      <td>2</td>\n",
       "      <td>16</td>\n",
       "      <td>24</td>\n",
       "      <td>sco</td>\n",
       "      <td>43</td>\n",
       "      <td>0</td>\n",
       "    </tr>\n",
       "    <tr>\n",
       "      <th>6247887</th>\n",
       "      <td>2021-06-16 20:49:26.158000+00:00</td>\n",
       "      <td>2141</td>\n",
       "      <td>0</td>\n",
       "      <td>1188</td>\n",
       "      <td>1022371179</td>\n",
       "      <td>663212595</td>\n",
       "      <td>83520311</td>\n",
       "      <td>29.99</td>\n",
       "      <td>22.49</td>\n",
       "      <td>8.88</td>\n",
       "      <td>...</td>\n",
       "      <td>33.34</td>\n",
       "      <td>0.250083</td>\n",
       "      <td>3</td>\n",
       "      <td>4164</td>\n",
       "      <td>2</td>\n",
       "      <td>16</td>\n",
       "      <td>24</td>\n",
       "      <td>sco</td>\n",
       "      <td>43</td>\n",
       "      <td>0</td>\n",
       "    </tr>\n",
       "    <tr>\n",
       "      <th>7527315</th>\n",
       "      <td>2021-06-28 18:56:51.389000+00:00</td>\n",
       "      <td>2141</td>\n",
       "      <td>0</td>\n",
       "      <td>226746</td>\n",
       "      <td>1047384065</td>\n",
       "      <td>686342545</td>\n",
       "      <td>179684809</td>\n",
       "      <td>85.00</td>\n",
       "      <td>49.00</td>\n",
       "      <td>10.67</td>\n",
       "      <td>...</td>\n",
       "      <td>62.42</td>\n",
       "      <td>0.423529</td>\n",
       "      <td>2</td>\n",
       "      <td>4176</td>\n",
       "      <td>0</td>\n",
       "      <td>28</td>\n",
       "      <td>26</td>\n",
       "      <td>sco</td>\n",
       "      <td>43</td>\n",
       "      <td>0</td>\n",
       "    </tr>\n",
       "  </tbody>\n",
       "</table>\n",
       "<p>10 rows × 50 columns</p>\n",
       "</div>"
      ],
      "text/plain": [
       "                              order_date  user_id  is_elite_user  supplier_id  \\\n",
       "2871337 2021-05-19 01:27:28.768000+00:00     2141              0       216503   \n",
       "2871338 2021-05-19 01:27:28.768000+00:00     2141              0         1188   \n",
       "4475121 2021-06-02 00:51:35.862000+00:00     2141              0       200788   \n",
       "4475122 2021-06-02 00:51:35.862000+00:00     2141              0       107296   \n",
       "5471662 2021-06-09 23:31:37.963000+00:00     2141              0          968   \n",
       "5471663 2021-06-09 23:31:37.963000+00:00     2141              0          968   \n",
       "6247885 2021-06-16 20:49:26.158000+00:00     2141              0          968   \n",
       "6247886 2021-06-16 20:49:26.158000+00:00     2141              0          637   \n",
       "6247887 2021-06-16 20:49:26.158000+00:00     2141              0         1188   \n",
       "7527315 2021-06-28 18:56:51.389000+00:00     2141              0       226746   \n",
       "\n",
       "         order_line_item_id  order_parent_id  product_variant_id  \\\n",
       "2871337           955598029        625610651           133066437   \n",
       "2871338           955598030        625610651            77047570   \n",
       "4475121           988146564        643936439           153411316   \n",
       "4475122           988146563        643936439           172744639   \n",
       "5471662          1007223734        654756664           162306389   \n",
       "5471663          1007223733        654756664           166484322   \n",
       "6247885          1022371178        663212595            66212340   \n",
       "6247886          1022371180        663212595           189524291   \n",
       "6247887          1022371179        663212595            83520311   \n",
       "7527315          1047384065        686342545           179684809   \n",
       "\n",
       "         original_price  discounted_price  ship_cost  ... paid_amount  \\\n",
       "2871337          104.90             69.90      11.33  ...       81.23   \n",
       "2871338           79.99             79.99       8.88  ...       88.87   \n",
       "4475121          110.30             55.15       8.88  ...       64.03   \n",
       "4475122           59.90             49.90       8.88  ...       58.78   \n",
       "5471662          119.99             48.00       9.40  ...       64.46   \n",
       "5471663           49.99             20.00       9.40  ...       32.34   \n",
       "6247885           29.99             21.99       9.40  ...       33.31   \n",
       "6247886           19.99             19.99       8.88  ...       30.62   \n",
       "6247887           29.99             22.49       8.88  ...       33.34   \n",
       "7527315           85.00             49.00      10.67  ...       62.42   \n",
       "\n",
       "         discount_ratio hour_interval  diff_order_memdate  order_weekday  \\\n",
       "2871337        0.333651             4                4135              2   \n",
       "2871338        0.000000             4                4135              2   \n",
       "4475121        0.500000             4                4149              2   \n",
       "4475122        0.166945             4                4149              2   \n",
       "5471662        0.599967             4                4157              2   \n",
       "5471663        0.599920             4                4157              2   \n",
       "6247885        0.266756             3                4164              2   \n",
       "6247886        0.000000             3                4164              2   \n",
       "6247887        0.250083             3                4164              2   \n",
       "7527315        0.423529             2                4176              0   \n",
       "\n",
       "         order_day  order_week  zodiac age  is_bday_close  \n",
       "2871337         19          20     sco  43              0  \n",
       "2871338         19          20     sco  43              0  \n",
       "4475121          2          22     sco  43              0  \n",
       "4475122          2          22     sco  43              0  \n",
       "5471662          9          23     sco  43              0  \n",
       "5471663          9          23     sco  43              0  \n",
       "6247885         16          24     sco  43              0  \n",
       "6247886         16          24     sco  43              0  \n",
       "6247887         16          24     sco  43              0  \n",
       "7527315         28          26     sco  43              0  \n",
       "\n",
       "[10 rows x 50 columns]"
      ]
     },
     "execution_count": 51,
     "metadata": {},
     "output_type": "execute_result"
    }
   ],
   "source": [
    "df_v1.head(10)"
   ]
  },
  {
   "cell_type": "code",
   "execution_count": 52,
   "id": "configured-boston",
   "metadata": {},
   "outputs": [],
   "source": [
    "num_nulls = df_v1.isna().sum()\n",
    "type_changes = num_nulls[num_nulls<1]"
   ]
  },
  {
   "cell_type": "code",
   "execution_count": 53,
   "id": "universal-pillow",
   "metadata": {},
   "outputs": [
    {
     "data": {
      "text/plain": [
       "Index(['order_date', 'user_id', 'is_elite_user', 'supplier_id',\n",
       "       'order_line_item_id', 'order_parent_id', 'product_variant_id',\n",
       "       'original_price', 'discounted_price', 'ship_cost', 'coupon_discount',\n",
       "       'promotion_award_value', 'is_wallet_trx', 'is_saved_card_trx',\n",
       "       'product_id', 'product_name', 'brand_id', 'brand_name', 'gender_name',\n",
       "       'category_id', 'category_name', 'attributet_name', 'attribute_value',\n",
       "       'n_unq_variants', 'birth_date', 'membership_date', 'gender',\n",
       "       'product_content_id', 'paid_amount', 'hour_interval',\n",
       "       'diff_order_memdate', 'order_weekday', 'order_day', 'order_week',\n",
       "       'zodiac', 'age', 'is_bday_close'],\n",
       "      dtype='object')"
      ]
     },
     "execution_count": 53,
     "metadata": {},
     "output_type": "execute_result"
    }
   ],
   "source": [
    "type_changes.index"
   ]
  },
  {
   "cell_type": "code",
   "execution_count": 54,
   "id": "labeled-smart",
   "metadata": {},
   "outputs": [
    {
     "name": "stdout",
     "output_type": "stream",
     "text": [
      "df_v1['is_elite_user'] = df_v1['is_elite_user'].astype('int32')\n",
      "df_v1['original_price'] = df_v1['original_price'].astype('float32')\n",
      "df_v1['discounted_price'] = df_v1['discounted_price'].astype('float32')\n",
      "df_v1['ship_cost'] = df_v1['ship_cost'].astype('float32')\n",
      "df_v1['coupon_discount'] = df_v1['coupon_discount'].astype('float32')\n",
      "df_v1['promotion_award_value'] = df_v1['promotion_award_value'].astype('float32')\n",
      "df_v1['is_wallet_trx'] = df_v1['is_wallet_trx'].astype('category')\n",
      "df_v1['is_saved_card_trx'] = df_v1['is_saved_card_trx'].astype('category')\n",
      "df_v1['brand_id'] = df_v1['brand_id'].astype('int32')\n",
      "df_v1['category_id'] = df_v1['category_id'].astype('int32')\n",
      "df_v1['gender'] = df_v1['gender'].astype('category')\n",
      "df_v1['product_content_id'] = df_v1['product_content_id'].astype('float32')\n",
      "df_v1['paid_amount'] = df_v1['paid_amount'].astype('float32')\n",
      "df_v1['hour_interval'] = df_v1['hour_interval'].astype('category')\n",
      "df_v1['diff_order_memdate'] = df_v1['diff_order_memdate'].astype('int32')\n",
      "df_v1['order_weekday'] = df_v1['order_weekday'].astype('category')\n",
      "df_v1['order_day'] = df_v1['order_day'].astype('category')\n",
      "df_v1['order_week'] = df_v1['order_week'].astype('category')\n",
      "df_v1['zodiac'] = df_v1['zodiac'].astype('category')\n",
      "df_v1['age'] = df_v1['age'].astype('int32')\n",
      "df_v1['is_bday_close'] = df_v1['is_bday_close'].astype('category')\n"
     ]
    }
   ],
   "source": [
    "types = {\n",
    "'is_elite_user':'int32',\n",
    "'promotion_award_value':'float32',\n",
    "'coupon_discount':'float32',\n",
    "'is_wallet_trx':'category',\n",
    "'is_saved_card_trx':'category',\n",
    "'ship_cost':'float32',\n",
    "'brand_id':'int32',\n",
    "'category_id':'int32',\n",
    "'gender_id':'float32',\n",
    "'color_id':'float32',\n",
    "'gender':'category',\n",
    "'returnRate':'float32',\n",
    "'returnRate_def':'float32',\n",
    "'total_claim':'float32',\n",
    "'unresolvedclaim_percentage':'float32',\n",
    "'unresolved_percentage':'float32',\n",
    "'paid_amount':'float32',\n",
    "'discount_ratio':'float32',\n",
    "'hour_interval':'category',\n",
    "'diff_order_memdate':'int32',\n",
    "'order_weekday':'category',\n",
    "'order_day':'category',\n",
    "'order_week':'category',\n",
    "'age':'int32',\n",
    "'is_bday_close':'category',\n",
    "'original_price':'float32',\n",
    "'discounted_price':'float32',\n",
    "'is_returned':'category',\n",
    "'item_return_rate_x':'float32',\n",
    "'item_return_rate_y':'float32',\n",
    "'product_content_id':'float32',\n",
    "'shifted_return_rate':'float32',\n",
    "'zodiac':'category'}\n",
    "\n",
    "num_nulls = df_v1.isna().sum()\n",
    "type_changes = num_nulls[num_nulls<1]\n",
    "\n",
    "for col in type_changes.index:\n",
    "    if types.get(col):\n",
    "        print(f\"df_v1['{col}'] = df_v1['{col}'].astype('{types[col]}')\")"
   ]
  },
  {
   "cell_type": "code",
   "execution_count": 55,
   "id": "artificial-clause",
   "metadata": {},
   "outputs": [],
   "source": [
    "df_v1['is_elite_user'] = df_v1['is_elite_user'].astype('int32')\n",
    "df_v1['original_price'] = df_v1['original_price'].astype('float32')\n",
    "df_v1['discounted_price'] = df_v1['discounted_price'].astype('float32')\n",
    "df_v1['ship_cost'] = df_v1['ship_cost'].astype('float32')\n",
    "df_v1['coupon_discount'] = df_v1['coupon_discount'].astype('float32')\n",
    "df_v1['promotion_award_value'] = df_v1['promotion_award_value'].astype('float32')\n",
    "df_v1['is_wallet_trx'] = df_v1['is_wallet_trx'].astype('category')\n",
    "df_v1['is_saved_card_trx'] = df_v1['is_saved_card_trx'].astype('category')\n",
    "df_v1['brand_id'] = df_v1['brand_id'].astype('int32')\n",
    "df_v1['category_id'] = df_v1['category_id'].astype('int32')\n",
    "df_v1['gender'] = df_v1['gender'].astype('category')\n",
    "df_v1['paid_amount'] = df_v1['paid_amount'].astype('float32')\n",
    "df_v1['hour_interval'] = df_v1['hour_interval'].astype('category')\n",
    "df_v1['diff_order_memdate'] = df_v1['diff_order_memdate'].astype('int32')\n",
    "df_v1['order_weekday'] = df_v1['order_weekday'].astype('category')\n",
    "df_v1['order_day'] = df_v1['order_day'].astype('category')\n",
    "df_v1['order_week'] = df_v1['order_week'].astype('category')\n",
    "df_v1['zodiac'] = df_v1['zodiac'].astype('category')\n",
    "df_v1['age'] = df_v1['age'].astype('int32')\n",
    "df_v1['is_bday_close'] = df_v1['is_bday_close'].astype('category')"
   ]
  },
  {
   "cell_type": "markdown",
   "id": "after-radical",
   "metadata": {},
   "source": [
    "for col, type_ in type_changes.index():\n",
    "    df_v1[col] = df_v1.astype(types[col], errors='ignore')"
   ]
  },
  {
   "cell_type": "code",
   "execution_count": 56,
   "id": "moved-convert",
   "metadata": {
    "scrolled": true
   },
   "outputs": [
    {
     "name": "stdout",
     "output_type": "stream",
     "text": [
      "<class 'pandas.core.frame.DataFrame'>\n",
      "Int64Index: 11193677 entries, 2871337 to 10772418\n",
      "Data columns (total 50 columns):\n",
      " #   Column                      Dtype              \n",
      "---  ------                      -----              \n",
      " 0   order_date                  datetime64[ns, UTC]\n",
      " 1   user_id                     int64              \n",
      " 2   is_elite_user               int32              \n",
      " 3   supplier_id                 int64              \n",
      " 4   order_line_item_id          int64              \n",
      " 5   order_parent_id             int64              \n",
      " 6   product_variant_id          int64              \n",
      " 7   original_price              float32            \n",
      " 8   discounted_price            float32            \n",
      " 9   ship_cost                   float32            \n",
      " 10  coupon_id                   object             \n",
      " 11  coupon_discount             float32            \n",
      " 12  promotion_name              object             \n",
      " 13  promotion_award_value       float32            \n",
      " 14  is_wallet_trx               category           \n",
      " 15  is_saved_card_trx           category           \n",
      " 16  is_returned                 float64            \n",
      " 17  product_id                  int64              \n",
      " 18  product_name                object             \n",
      " 19  brand_id                    int32              \n",
      " 20  brand_name                  object             \n",
      " 21  gender_id                   float64            \n",
      " 22  gender_name                 object             \n",
      " 23  category_id                 int32              \n",
      " 24  category_name               object             \n",
      " 25  color_id                    float64            \n",
      " 26  color_name                  object             \n",
      " 27  supplier_color_name         object             \n",
      " 28  attributet_name             object             \n",
      " 29  attribute_value             object             \n",
      " 30  n_unq_variants              int64              \n",
      " 31  birth_date                  datetime64[ns, UTC]\n",
      " 32  membership_date             datetime64[ns, UTC]\n",
      " 33  gender                      category           \n",
      " 34  returnRate                  float64            \n",
      " 35  returnRate_def              float64            \n",
      " 36  total_claim                 float64            \n",
      " 37  unresolvedclaim_percentage  float64            \n",
      " 38  unresolved_percentage       float64            \n",
      " 39  product_content_id          int64              \n",
      " 40  paid_amount                 float32            \n",
      " 41  discount_ratio              float64            \n",
      " 42  hour_interval               category           \n",
      " 43  diff_order_memdate          int32              \n",
      " 44  order_weekday               category           \n",
      " 45  order_day                   category           \n",
      " 46  order_week                  category           \n",
      " 47  zodiac                      category           \n",
      " 48  age                         int32              \n",
      " 49  is_bday_close               category           \n",
      "dtypes: category(9), datetime64[ns, UTC](3), float32(6), float64(9), int32(5), int64(8), object(10)\n",
      "memory usage: 3.1+ GB\n"
     ]
    }
   ],
   "source": [
    "df_v1.info()"
   ]
  },
  {
   "cell_type": "markdown",
   "id": "moral-shape",
   "metadata": {},
   "source": [
    "### review and qas"
   ]
  },
  {
   "cell_type": "code",
   "execution_count": 57,
   "id": "spoken-woman",
   "metadata": {},
   "outputs": [],
   "source": [
    "qa_summary = pd.read_csv('qa_summary.csv', index_col='Unnamed: 0')\n",
    "qa_supplier_summary = pd.read_csv('qa_supplier_summary.csv', index_col='Unnamed: 0')\n",
    "reviews_summary = pd.read_csv('reviews_summary.csv', index_col='Unnamed: 0')\n",
    "supplier_review_summary = pd.read_csv('supplier_review_summary.csv', index_col='Unnamed: 0')"
   ]
  },
  {
   "cell_type": "code",
   "execution_count": 58,
   "id": "human-couple",
   "metadata": {},
   "outputs": [
    {
     "data": {
      "text/plain": [
       "(11193677, 50)"
      ]
     },
     "execution_count": 58,
     "metadata": {},
     "output_type": "execute_result"
    }
   ],
   "source": [
    "df_v1.shape"
   ]
  },
  {
   "cell_type": "code",
   "execution_count": 59,
   "id": "engaging-football",
   "metadata": {},
   "outputs": [
    {
     "data": {
      "text/html": [
       "<div>\n",
       "<style scoped>\n",
       "    .dataframe tbody tr th:only-of-type {\n",
       "        vertical-align: middle;\n",
       "    }\n",
       "\n",
       "    .dataframe tbody tr th {\n",
       "        vertical-align: top;\n",
       "    }\n",
       "\n",
       "    .dataframe thead th {\n",
       "        text-align: right;\n",
       "    }\n",
       "</style>\n",
       "<table border=\"1\" class=\"dataframe\">\n",
       "  <thead>\n",
       "    <tr style=\"text-align: right;\">\n",
       "      <th></th>\n",
       "      <th>product_content_id</th>\n",
       "      <th>supplier_id</th>\n",
       "      <th>rate</th>\n",
       "      <th>review_like_count</th>\n",
       "      <th>pos_comment</th>\n",
       "      <th>neg_comment</th>\n",
       "    </tr>\n",
       "  </thead>\n",
       "  <tbody>\n",
       "    <tr>\n",
       "      <th>0</th>\n",
       "      <td>48921</td>\n",
       "      <td>398</td>\n",
       "      <td>4.5</td>\n",
       "      <td>0.0</td>\n",
       "      <td>0.5</td>\n",
       "      <td>0.0</td>\n",
       "    </tr>\n",
       "    <tr>\n",
       "      <th>1</th>\n",
       "      <td>48921</td>\n",
       "      <td>117031</td>\n",
       "      <td>1.0</td>\n",
       "      <td>0.0</td>\n",
       "      <td>0.0</td>\n",
       "      <td>1.0</td>\n",
       "    </tr>\n",
       "  </tbody>\n",
       "</table>\n",
       "</div>"
      ],
      "text/plain": [
       "   product_content_id  supplier_id  rate  review_like_count  pos_comment  \\\n",
       "0               48921          398   4.5                0.0          0.5   \n",
       "1               48921       117031   1.0                0.0          0.0   \n",
       "\n",
       "   neg_comment  \n",
       "0          0.0  \n",
       "1          1.0  "
      ]
     },
     "execution_count": 59,
     "metadata": {},
     "output_type": "execute_result"
    }
   ],
   "source": [
    "supplier_review_summary.head(2)"
   ]
  },
  {
   "cell_type": "code",
   "execution_count": 60,
   "id": "professional-strap",
   "metadata": {},
   "outputs": [],
   "source": [
    "df_v1 = pd.merge(df_v1, qa_summary, on=['product_content_id'], how='left', suffixes=(None, '_qa'))\n",
    "df_v1 = pd.merge(df_v1, reviews_summary, on=['product_content_id'], how='left', suffixes=(None, '_reviews'))\n",
    "df_v1 = pd.merge(df_v1, qa_supplier_summary, on=['product_content_id', 'supplier_id'], how='left', suffixes=(None, '_qa-supplier'))\n",
    "df_v1 = pd.merge(df_v1, supplier_review_summary, on=['product_content_id', 'supplier_id'], how='left', suffixes=(None, '_reviews-supplier'))"
   ]
  },
  {
   "cell_type": "code",
   "execution_count": 61,
   "id": "nervous-saskatchewan",
   "metadata": {},
   "outputs": [
    {
     "data": {
      "text/plain": [
       "(11193677, 78)"
      ]
     },
     "execution_count": 61,
     "metadata": {},
     "output_type": "execute_result"
    }
   ],
   "source": [
    "df_v1.shape"
   ]
  },
  {
   "cell_type": "code",
   "execution_count": 62,
   "id": "gorgeous-january",
   "metadata": {},
   "outputs": [],
   "source": [
    "import pickle\n",
    "with open(\"df_v1_01.pickle\",\"wb\") as f:\n",
    "    pickle.dump(df_v1,f)   "
   ]
  },
  {
   "cell_type": "markdown",
   "id": "spatial-terrace",
   "metadata": {},
   "source": [
    "#### return rate of users for each order\n",
    "\n",
    "all calculations are done with the previous order"
   ]
  },
  {
   "cell_type": "markdown",
   "id": "owned-secretariat",
   "metadata": {},
   "source": [
    "##### order return rate (order is returned if any of the item is returned)"
   ]
  },
  {
   "cell_type": "code",
   "execution_count": 63,
   "id": "acting-bailey",
   "metadata": {},
   "outputs": [
    {
     "data": {
      "text/plain": [
       "(11193677, 78)"
      ]
     },
     "execution_count": 63,
     "metadata": {},
     "output_type": "execute_result"
    }
   ],
   "source": [
    "df_v1.shape"
   ]
  },
  {
   "cell_type": "code",
   "execution_count": 64,
   "id": "affected-keyboard",
   "metadata": {
    "scrolled": false
   },
   "outputs": [],
   "source": [
    "order_returns = pd.DataFrame(df_v1.groupby(['user_id', 'order_parent_id'])['is_returned'].max()).reset_index()\n",
    "order_returns['return_rate'] = (order_returns.groupby(['user_id'])['is_returned'].cumsum()/(order_returns.groupby(['user_id'])['is_returned'].cumcount()+1))\n",
    "order_returns['shifted_return_rate'] = order_returns.groupby(['user_id'])['return_rate'].shift(1)\n",
    "order_returns.drop(['is_returned', 'return_rate','user_id'], axis=1, inplace=True)\n",
    "order_returns['shifted_return_rate'] = order_returns['shifted_return_rate'].fillna(0.0)\n",
    "df_v1 = pd.merge(df_v1, order_returns, on=['order_parent_id'], how='left')"
   ]
  },
  {
   "cell_type": "code",
   "execution_count": 65,
   "id": "closed-fancy",
   "metadata": {},
   "outputs": [
    {
     "data": {
      "text/plain": [
       "(11193677, 79)"
      ]
     },
     "execution_count": 65,
     "metadata": {},
     "output_type": "execute_result"
    }
   ],
   "source": [
    "df_v1.shape"
   ]
  },
  {
   "cell_type": "code",
   "execution_count": 66,
   "id": "royal-nelson",
   "metadata": {},
   "outputs": [
    {
     "data": {
      "text/plain": [
       "<AxesSubplot:xlabel='shifted_return_rate', ylabel='Density'>"
      ]
     },
     "execution_count": 66,
     "metadata": {},
     "output_type": "execute_result"
    },
    {
     "data": {
      "image/png": "[encoded data removed]",
      "text/plain": [
       "<Figure size 432x288 with 1 Axes>"
      ]
     },
     "metadata": {
      "needs_background": "light"
     },
     "output_type": "display_data"
    }
   ],
   "source": [
    "sns.kdeplot(order_returns['shifted_return_rate'])"
   ]
  },
  {
   "cell_type": "markdown",
   "id": "fundamental-gates",
   "metadata": {},
   "source": [
    "##### item return rate (users may return orders but maybe a small perc of it)"
   ]
  },
  {
   "cell_type": "code",
   "execution_count": 67,
   "id": "secret-bunch",
   "metadata": {},
   "outputs": [],
   "source": [
    "user_return_info = df_v1[['user_id', 'is_returned', 'order_parent_id']].copy()\n",
    "user_return_info['return_rate'] = user_return_info.groupby(['user_id'])['is_returned'].cumsum()/(user_return_info.groupby(['user_id'])['is_returned'].cumcount()+1)\n",
    "user_return_info['tail'] = user_return_info.groupby(['user_id', 'order_parent_id'])['return_rate'].tail(1)\n",
    "user_return_info = user_return_info[['user_id','order_parent_id', 'tail']].dropna()\n",
    "user_return_info['shifted_tail'] = user_return_info.groupby(['user_id'])['tail'].shift(1)\n",
    "user_return_info['item_return_rate_user'] = user_return_info['shifted_tail'].fillna(0.0)\n",
    "df_v1 = pd.merge(df_v1, user_return_info[['order_parent_id', 'item_return_rate_user']], on=['order_parent_id'], how='left')"
   ]
  },
  {
   "cell_type": "code",
   "execution_count": 68,
   "id": "photographic-agenda",
   "metadata": {},
   "outputs": [
    {
     "data": {
      "text/plain": [
       "(11193677, 80)"
      ]
     },
     "execution_count": 68,
     "metadata": {},
     "output_type": "execute_result"
    }
   ],
   "source": [
    "df_v1.shape"
   ]
  },
  {
   "cell_type": "code",
   "execution_count": 69,
   "id": "flush-saint",
   "metadata": {},
   "outputs": [
    {
     "data": {
      "text/plain": [
       "40"
      ]
     },
     "execution_count": 69,
     "metadata": {},
     "output_type": "execute_result"
    }
   ],
   "source": [
    "del order_returns, user_return_info\n",
    "gc.collect()"
   ]
  },
  {
   "cell_type": "markdown",
   "id": "immediate-hacker",
   "metadata": {},
   "source": [
    "#### product return rate\n",
    "for all users"
   ]
  },
  {
   "cell_type": "code",
   "execution_count": 70,
   "id": "smart-replication",
   "metadata": {},
   "outputs": [],
   "source": [
    "prod_return_info = df_v1[['order_parent_id', 'product_content_id', 'is_returned']].copy()\n",
    "prod_return_info['general_prod_return_rate'] = prod_return_info.groupby(['product_content_id'])['is_returned'].cumsum()/(prod_return_info.groupby(['product_content_id'])['is_returned'].cumcount()+1)\n",
    "prod_return_info['tail'] = prod_return_info.groupby(['order_parent_id', 'product_content_id'])['general_prod_return_rate'].tail(1)\n",
    "prod_return_info = prod_return_info[['order_parent_id','product_content_id', 'tail']].dropna()\n",
    "prod_return_info['shifted_tail'] = prod_return_info.groupby(['order_parent_id','product_content_id'])['tail'].shift(1)\n",
    "prod_return_info['general_prod_return_rate'] = prod_return_info['shifted_tail'].fillna(0.0)\n",
    "df_v1 = pd.merge(df_v1, prod_return_info[['order_parent_id','product_content_id', 'general_prod_return_rate']], on=['order_parent_id', 'product_content_id'], how='left')"
   ]
  },
  {
   "cell_type": "code",
   "execution_count": 71,
   "id": "elegant-detector",
   "metadata": {},
   "outputs": [
    {
     "data": {
      "text/plain": [
       "(11193677, 81)"
      ]
     },
     "execution_count": 71,
     "metadata": {},
     "output_type": "execute_result"
    }
   ],
   "source": [
    "df_v1.shape"
   ]
  },
  {
   "cell_type": "markdown",
   "id": "conceptual-weekend",
   "metadata": {},
   "source": [
    "#### basket info"
   ]
  },
  {
   "cell_type": "code",
   "execution_count": 72,
   "id": "stuck-playback",
   "metadata": {},
   "outputs": [],
   "source": [
    "# number of unique prod_content\n",
    "nunique_prods = df_v1.groupby(['order_parent_id'])['product_content_id'].nunique().reset_index()\n",
    "nunique_prods.columns = ['order_parent_id', 'n_unique_prods_in_basket']\n",
    "df_v1 = pd.merge(df_v1, nunique_prods, on=['order_parent_id'], how='left')"
   ]
  },
  {
   "cell_type": "code",
   "execution_count": 73,
   "id": "appointed-david",
   "metadata": {},
   "outputs": [],
   "source": [
    "# number of unique category\n",
    "nunique_cats = df_v1.groupby(['order_parent_id'])['category_id'].nunique().reset_index()\n",
    "nunique_cats.columns = ['order_parent_id', 'n_unique_cats_in_basket']\n",
    "df_v1 = pd.merge(df_v1, nunique_cats, on=['order_parent_id'], how='left')"
   ]
  },
  {
   "cell_type": "code",
   "execution_count": 74,
   "id": "coastal-cambodia",
   "metadata": {},
   "outputs": [],
   "source": [
    "# ürün ortalama fiyatı\n",
    "cart_mean_amount = df_v1.groupby(['order_parent_id'])['paid_amount'].mean().reset_index()\n",
    "cart_mean_amount.columns = ['order_parent_id', 'cart_amount_mean']\n",
    "df_v1 = pd.merge(df_v1, cart_mean_amount, on=['order_parent_id'], how='left')"
   ]
  },
  {
   "cell_type": "code",
   "execution_count": 75,
   "id": "structural-penetration",
   "metadata": {},
   "outputs": [
    {
     "data": {
      "text/plain": [
       "(11193677, 84)"
      ]
     },
     "execution_count": 75,
     "metadata": {},
     "output_type": "execute_result"
    }
   ],
   "source": [
    "df_v1.shape"
   ]
  },
  {
   "cell_type": "code",
   "execution_count": 76,
   "id": "minus-designer",
   "metadata": {},
   "outputs": [
    {
     "data": {
      "text/plain": [
       "<AxesSubplot:xlabel='cart_amount_mean', ylabel='Count'>"
      ]
     },
     "execution_count": 76,
     "metadata": {},
     "output_type": "execute_result"
    },
    {
     "data": {
      "image/png": "[encoded data removed]",
      "text/plain": [
       "<Figure size 432x288 with 1 Axes>"
      ]
     },
     "metadata": {
      "needs_background": "light"
     },
     "output_type": "display_data"
    }
   ],
   "source": [
    "sns.histplot(cart_mean_amount[cart_mean_amount['cart_amount_mean']<500]['cart_amount_mean'])"
   ]
  },
  {
   "cell_type": "code",
   "execution_count": 77,
   "id": "invalid-priority",
   "metadata": {},
   "outputs": [
    {
     "data": {
      "text/plain": [
       "103"
      ]
     },
     "execution_count": 77,
     "metadata": {},
     "output_type": "execute_result"
    }
   ],
   "source": [
    "del prod_return_info, nunique_prods, nunique_cats, cart_mean_amount\n",
    "gc.collect()"
   ]
  },
  {
   "cell_type": "markdown",
   "id": "accepting-entrepreneur",
   "metadata": {},
   "source": [
    "#### product return rate for user"
   ]
  },
  {
   "cell_type": "code",
   "execution_count": 78,
   "id": "ordinary-plastic",
   "metadata": {},
   "outputs": [],
   "source": [
    "prod_user_return = df_v1[['user_id','order_parent_id','product_content_id','is_returned']].copy()\n",
    "prod_user_return['is_returned2'] = prod_user_return['is_returned']\n",
    "prod_user_return = prod_user_return.groupby(['user_id','order_parent_id','product_content_id']).agg({'is_returned':'sum', 'is_returned2':'count'}).reset_index()\n",
    "tmp_3 = prod_user_return.groupby(['user_id', 'product_content_id']).cumsum().reset_index()\n",
    "prod_user_return['cum_mean'] = tmp_3['is_returned']/tmp_3['is_returned2']\n",
    "prod_user_return['shifted_cum_mean'] = prod_user_return.groupby(['user_id','order_parent_id','product_content_id'])['cum_mean'].shift(1)\n",
    "prod_user_return.drop(['is_returned', 'is_returned2','user_id', 'cum_mean'], axis=1, inplace=True)\n",
    "prod_user_return['prod_cum_mean'] = prod_user_return['shifted_cum_mean'].fillna(0.0)\n",
    "df_v1 = pd.merge(df_v1, prod_user_return, on=['order_parent_id', 'product_content_id'], how='left')"
   ]
  },
  {
   "cell_type": "markdown",
   "id": "quiet-bathroom",
   "metadata": {},
   "source": [
    "##### category return rate for user"
   ]
  },
  {
   "cell_type": "code",
   "execution_count": 79,
   "id": "verbal-tours",
   "metadata": {},
   "outputs": [],
   "source": [
    "cat_return = df_v1[['user_id','order_parent_id','category_id','is_returned']].copy()\n",
    "cat_return['is_returned2'] = cat_return['is_returned']\n",
    "category_return = cat_return.groupby(['user_id','order_parent_id','category_id']).agg({'is_returned':'sum', 'is_returned2':'count'}).reset_index()\n",
    "tmp_2 = category_return.groupby(['user_id', 'category_id']).cumsum().reset_index()\n",
    "category_return['cum_mean'] = tmp_2['is_returned']/tmp_2['is_returned2']\n",
    "category_return['shifted_cum_mean'] = category_return.groupby(['user_id','order_parent_id','category_id'])['cum_mean'].shift(1)\n",
    "category_return.drop(['is_returned', 'is_returned2','user_id','cum_mean'], axis=1, inplace=True)\n",
    "category_return['cat_cum_mean'] = category_return['shifted_cum_mean'].fillna(0.0)\n",
    "df_v1 = pd.merge(df_v1, category_return, on=['order_parent_id', 'category_id'], how='left')"
   ]
  },
  {
   "cell_type": "code",
   "execution_count": 80,
   "id": "likely-school",
   "metadata": {},
   "outputs": [
    {
     "data": {
      "text/plain": [
       "(11193677, 88)"
      ]
     },
     "execution_count": 80,
     "metadata": {},
     "output_type": "execute_result"
    }
   ],
   "source": [
    "df_v1.shape"
   ]
  },
  {
   "cell_type": "markdown",
   "id": "neither-bailey",
   "metadata": {},
   "source": [
    "## past info"
   ]
  },
  {
   "cell_type": "markdown",
   "id": "burning-decade",
   "metadata": {},
   "source": [
    "#### geçmişte aynı product_id kaç tane aldı"
   ]
  },
  {
   "cell_type": "code",
   "execution_count": 81,
   "id": "living-assurance",
   "metadata": {},
   "outputs": [],
   "source": [
    "prod_counts = df_v1.groupby(['user_id', 'order_parent_id','product_content_id'])['order_date'].count().reset_index()\n",
    "prod_counts['cum_prod_counts'] = prod_counts.groupby(['user_id', 'order_parent_id','product_content_id']).cumsum()\n",
    "prod_counts['cum_prod_counts'] = prod_counts.groupby(['user_id', 'order_parent_id','product_content_id'])['cum_prod_counts'].shift(1)\n",
    "prod_counts['cum_prod_counts'] = prod_counts['cum_prod_counts'].fillna(0)\n",
    "prod_counts.drop(['order_date', 'user_id'], axis=1, inplace=True)\n",
    "df_v1 = pd.merge(df_v1, prod_counts, on=['order_parent_id', 'product_content_id'], how='left')"
   ]
  },
  {
   "cell_type": "code",
   "execution_count": 82,
   "id": "third-footwear",
   "metadata": {},
   "outputs": [
    {
     "data": {
      "text/plain": [
       "(11193677, 89)"
      ]
     },
     "execution_count": 82,
     "metadata": {},
     "output_type": "execute_result"
    }
   ],
   "source": [
    "df_v1.shape"
   ]
  },
  {
   "cell_type": "markdown",
   "id": "honey-oriental",
   "metadata": {},
   "source": [
    "#### geçmişte aynı category_id kaç tane aldı"
   ]
  },
  {
   "cell_type": "code",
   "execution_count": 83,
   "id": "divided-relative",
   "metadata": {},
   "outputs": [],
   "source": [
    "cat_counts = df_v1.groupby(['user_id', 'order_parent_id','category_id'])['order_date'].count().reset_index()\n",
    "cat_counts['cum_cat_counts'] = cat_counts.groupby(['user_id', 'order_parent_id','category_id']).cumsum()\n",
    "cat_counts['cum_cat_counts'] = cat_counts.groupby(['user_id', 'order_parent_id','category_id'])['cum_cat_counts'].shift(1)\n",
    "cat_counts['cum_cat_counts'] = cat_counts['cum_cat_counts'].fillna(0)\n",
    "cat_counts.drop(['order_date', 'user_id'], axis=1, inplace=True)\n",
    "df_v1 = pd.merge(df_v1, cat_counts, on=['order_parent_id', 'category_id'], how='left')"
   ]
  },
  {
   "cell_type": "code",
   "execution_count": 84,
   "id": "english-partner",
   "metadata": {},
   "outputs": [
    {
     "data": {
      "text/plain": [
       "(11193677, 90)"
      ]
     },
     "execution_count": 84,
     "metadata": {},
     "output_type": "execute_result"
    }
   ],
   "source": [
    "df_v1.shape"
   ]
  },
  {
   "cell_type": "markdown",
   "id": "severe-influence",
   "metadata": {},
   "source": [
    "#### geçmiş toplam alışveriş sayısı"
   ]
  },
  {
   "cell_type": "code",
   "execution_count": 85,
   "id": "floral-alpha",
   "metadata": {},
   "outputs": [],
   "source": [
    "order_counts = df_v1.groupby(['user_id', 'order_parent_id'])['order_date'].count().reset_index()\n",
    "order_counts['cum_order_counts'] = order_counts.groupby(['user_id', 'order_parent_id']).cumsum()\n",
    "order_counts['cum_order_counts'] = order_counts.groupby(['user_id', 'order_parent_id'])['cum_order_counts'].shift(1)\n",
    "order_counts['cum_order_counts'] = order_counts['cum_order_counts'].fillna(0)\n",
    "order_counts.drop(['order_date', 'user_id'], axis=1, inplace=True)\n",
    "df_v1 = pd.merge(df_v1, cat_counts, on=['order_parent_id', 'category_id'], how='left')"
   ]
  },
  {
   "cell_type": "code",
   "execution_count": 86,
   "id": "timely-liberia",
   "metadata": {},
   "outputs": [
    {
     "data": {
      "text/plain": [
       "(11193677, 91)"
      ]
     },
     "execution_count": 86,
     "metadata": {},
     "output_type": "execute_result"
    }
   ],
   "source": [
    "df_v1.shape"
   ]
  },
  {
   "cell_type": "code",
   "execution_count": 87,
   "id": "polished-thousand",
   "metadata": {},
   "outputs": [
    {
     "data": {
      "text/plain": [
       "40"
      ]
     },
     "execution_count": 87,
     "metadata": {},
     "output_type": "execute_result"
    }
   ],
   "source": [
    "del prod_counts, cat_counts, order_counts, category_return, cat_return, prod_user_return\n",
    "gc.collect()"
   ]
  },
  {
   "cell_type": "markdown",
   "id": "effective-quantum",
   "metadata": {},
   "source": [
    "#### past total paid"
   ]
  },
  {
   "cell_type": "code",
   "execution_count": 88,
   "id": "unable-irrigation",
   "metadata": {},
   "outputs": [],
   "source": [
    "past_paid_amounts = df_v1.groupby(['user_id', 'order_parent_id'])['paid_amount'].sum().reset_index()\n",
    "past_paid_amounts['total_paid'] = past_paid_amounts.groupby('user_id')['paid_amount'].cumsum()\n",
    "past_paid_amounts['past_total_paid'] = past_paid_amounts.groupby('user_id')['total_paid'].shift(1)\n",
    "past_paid_amounts['past_total_paid'] = past_paid_amounts['past_total_paid'].fillna(0.0)\n",
    "past_paid_amounts.drop(['user_id', 'paid_amount', 'total_paid'], axis=1, inplace=True)\n",
    "df_v1 = pd.merge(df_v1, past_paid_amounts, on=['order_parent_id'], how='left')"
   ]
  },
  {
   "cell_type": "code",
   "execution_count": 89,
   "id": "determined-dayton",
   "metadata": {},
   "outputs": [
    {
     "data": {
      "text/plain": [
       "(11193677, 92)"
      ]
     },
     "execution_count": 89,
     "metadata": {},
     "output_type": "execute_result"
    }
   ],
   "source": [
    "df_v1.shape"
   ]
  },
  {
   "cell_type": "markdown",
   "id": "furnished-permit",
   "metadata": {},
   "source": [
    "#### past average paid"
   ]
  },
  {
   "cell_type": "code",
   "execution_count": 97,
   "id": "lucky-solution",
   "metadata": {},
   "outputs": [],
   "source": [
    "past_paid_amounts = df_v1.groupby(['user_id', 'order_parent_id'])['paid_amount'].sum().reset_index()\n",
    "past_paid_amounts['avg_paid'] = past_paid_amounts.groupby('user_id')['paid_amount'].cumsum()/(past_paid_amounts.groupby('user_id')['paid_amount'].cumcount()+1)\n",
    "past_paid_amounts['past_avg_paid'] = past_paid_amounts.groupby('user_id')['avg_paid'].shift(1)\n",
    "past_paid_amounts['past_avg_paid'] = past_paid_amounts['past_avg_paid'].fillna(0.0)\n",
    "past_paid_amounts.drop(['user_id', 'paid_amount', 'avg_paid'], axis=1, inplace=True)\n",
    "df_v1 = pd.merge(df_v1, past_paid_amounts, on=['order_parent_id'], how='left')"
   ]
  },
  {
   "cell_type": "markdown",
   "id": "complete-watch",
   "metadata": {},
   "source": [
    "#### past product average paid"
   ]
  },
  {
   "cell_type": "code",
   "execution_count": 116,
   "id": "comic-trance",
   "metadata": {},
   "outputs": [],
   "source": [
    "prod_avg_paid = df_v1[['user_id','order_parent_id','paid_amount']].copy()\n",
    "prod_avg_paid['prod_avg_paid'] = prod_avg_paid.groupby(['user_id', 'order_parent_id'])['paid_amount'].cumsum()/(prod_avg_paid.groupby(['user_id','order_parent_id'])['paid_amount'].cumcount()+1)\n",
    "prod_avg_paid['tail'] = prod_avg_paid.groupby(['order_parent_id'])['prod_avg_paid'].tail(1)\n",
    "prod_avg_paid = prod_avg_paid[['user_id','order_parent_id', 'tail']].dropna()\n",
    "prod_avg_paid['shifted_tail'] = prod_avg_paid.groupby(['user_id'])['tail'].shift(1)\n",
    "prod_avg_paid['past_avg_prod_price'] = prod_avg_paid['shifted_tail'].fillna(0.0)\n",
    "df_v1 = pd.merge(df_v1, prod_avg_paid[['user_id','order_parent_id', 'shifted_tail']], on=['order_parent_id'], how='left')"
   ]
  },
  {
   "cell_type": "markdown",
   "id": "interstate-gravity",
   "metadata": {},
   "source": [
    "#### past used coupon rate"
   ]
  },
  {
   "cell_type": "code",
   "execution_count": null,
   "id": "ultimate-illness",
   "metadata": {},
   "outputs": [],
   "source": [
    "past_coupons = df_v1.groupby(['user_id', 'order_parent_id'])['coupon_id'].nunique().reset_index()\n",
    "past_coupons['coupon_rate'] = past_coupons.groupby(['user_id'])['coupon_id'].cumsum()/(past_coupons.groupby(['user_id'])['coupon_id'].cumcount()+1)\n",
    "past_coupons['shifted_coupon_rate'] = past_coupons.groupby(['user_id'])['coupon_rate'].shift(1)\n",
    "past_coupons['shifted_coupon_rate'] = past_coupons['shifted_coupon_rate'].fillna(0.0)\n",
    "past_coupons.drop(['user_id', 'coupon_id', 'coupon_rate'], axis=1, inplace=True)\n",
    "df_v1 = pd.merge(df_v1, past_coupons, on=['order_parent_id'], how='left')"
   ]
  },
  {
   "cell_type": "code",
   "execution_count": 134,
   "id": "determined-stationery",
   "metadata": {},
   "outputs": [
    {
     "data": {
      "text/plain": [
       "Index(['order_date', 'user_id', 'is_elite_user', 'supplier_id',\n",
       "       'order_line_item_id', 'order_parent_id', 'product_variant_id',\n",
       "       'original_price', 'discounted_price', 'ship_cost', 'coupon_id',\n",
       "       'coupon_discount', 'promotion_name', 'promotion_award_value',\n",
       "       'is_wallet_trx', 'is_saved_card_trx', 'is_returned', 'product_id',\n",
       "       'product_name', 'brand_id', 'brand_name', 'gender_id', 'gender_name',\n",
       "       'category_id', 'category_name', 'color_id', 'color_name',\n",
       "       'supplier_color_name', 'attributet_name', 'attribute_value',\n",
       "       'n_unq_variants', 'birth_date', 'membership_date', 'gender',\n",
       "       'returnRate', 'returnRate_def', 'total_claim',\n",
       "       'unresolvedclaim_percentage', 'unresolved_percentage',\n",
       "       'product_content_id', 'paid_amount', 'discount_ratio', 'hour_interval',\n",
       "       'diff_order_memdate', 'order_weekday', 'order_day', 'order_week',\n",
       "       'zodiac', 'age', 'is_bday_close', 'beden_comment', 'kalite_comment',\n",
       "       'beden_question', 'kalite_question', 'pos_answers', 'neg_answers',\n",
       "       'ANDROID', 'IOS', 'MOBILE_WEB', 'WEB', 'rate', 'review_like_count',\n",
       "       'pos_comment', 'neg_comment', 'beden_comment_qa-supplier',\n",
       "       'kalite_comment_qa-supplier', 'beden_question_qa-supplier',\n",
       "       'kalite_question_qa-supplier', 'pos_answers_qa-supplier',\n",
       "       'neg_answers_qa-supplier', 'ANDROID_qa-supplier', 'IOS_qa-supplier',\n",
       "       'MOBILE_WEB_qa-supplier', 'WEB_qa-supplier', 'rate_reviews-supplier',\n",
       "       'review_like_count_reviews-supplier', 'pos_comment_reviews-supplier',\n",
       "       'neg_comment_reviews-supplier', 'shifted_return_rate',\n",
       "       'item_return_rate_user', 'general_prod_return_rate',\n",
       "       'n_unique_prods_in_basket', 'n_unique_cats_in_basket',\n",
       "       'cart_amount_mean', 'shifted_cum_mean_x', 'prod_cum_mean',\n",
       "       'shifted_cum_mean_y', 'cat_cum_mean', 'cum_prod_counts',\n",
       "       'cum_cat_counts_x', 'cum_cat_counts_y', 'past_total_paid',\n",
       "       'past_avg_paid', 'ship_cost_ratio'],\n",
       "      dtype='object')"
      ]
     },
     "execution_count": 134,
     "metadata": {},
     "output_type": "execute_result"
    }
   ],
   "source": [
    "df_v1.columns"
   ]
  },
  {
   "cell_type": "code",
   "execution_count": 133,
   "id": "legitimate-diversity",
   "metadata": {},
   "outputs": [],
   "source": [
    "# ratio of ship cost to paid amount\n",
    "df_v1['ship_cost_ratio'] = df_v1['ship_cost']/df_v1['paid_amount']\n",
    "# ratio of price to average past paids\n",
    "df_v1['prod_past_avg_ratio'] = df_v1['paid_amount']/df_v1['past_avg_prod_price']\n",
    "# ratio of paid amount to cart mean\n",
    "df_v1['paid_cart_amount_ratio'] = df_v1['paid_amount']/df_v1['cart_amount_mean']\n",
    "# ratio of paid amount to cart\n",
    "\n",
    "category ortalama bul, fiyat/kategori ortalama ratio\n",
    "basket oralama bul fiyat/basket ratio\n",
    "geçmiş ortalama br/fiyat ratio\n",
    "\n",
    "prod_content_id ile grupla kaç tane beden olduğunu çıkar"
   ]
  },
  {
   "cell_type": "code",
   "execution_count": 138,
   "id": "coral-mobility",
   "metadata": {},
   "outputs": [
    {
     "name": "stdout",
     "output_type": "stream",
     "text": [
      "cart_amount_mean\n"
     ]
    }
   ],
   "source": [
    "for i in df_v1.columns:\n",
    "    if 'cart' in i:\n",
    "        print(i)"
   ]
  },
  {
   "cell_type": "code",
   "execution_count": null,
   "id": "freelance-flesh",
   "metadata": {},
   "outputs": [],
   "source": [
    "count the number of same products in the basket\n",
    "count the number of same categories in the basket"
   ]
  },
  {
   "cell_type": "code",
   "execution_count": null,
   "id": "republican-character",
   "metadata": {},
   "outputs": [],
   "source": []
  },
  {
   "cell_type": "code",
   "execution_count": null,
   "id": "indirect-jonathan",
   "metadata": {},
   "outputs": [],
   "source": [
    "her kategorinin price ortalamasını al, ucuz, orta pahalı olarak yeni feature"
   ]
  },
  {
   "cell_type": "code",
   "execution_count": null,
   "id": "widespread-mississippi",
   "metadata": {},
   "outputs": [],
   "source": []
  },
  {
   "cell_type": "code",
   "execution_count": null,
   "id": "invisible-delight",
   "metadata": {},
   "outputs": [],
   "source": [
    "import pickle\n",
    "with open(\"df_v1-2021-10-12.pickle\",\"wb\") as f:\n",
    "    pickle.dump(df_v1,f)   "
   ]
  },
  {
   "cell_type": "code",
   "execution_count": null,
   "id": "protected-literacy",
   "metadata": {},
   "outputs": [],
   "source": [
    "from here"
   ]
  },
  {
   "cell_type": "code",
   "execution_count": null,
   "id": "waiting-lincoln",
   "metadata": {},
   "outputs": [],
   "source": [
    "import pickle\n",
    "import pandas as pd\n",
    "import pandas as pd\n",
    "import seaborn as sns\n",
    "from datetime import time\n",
    "from datetime import datetime\n",
    "from dateutil import parser\n",
    "import matplotlib.pyplot as plt"
   ]
  },
  {
   "cell_type": "code",
   "execution_count": null,
   "id": "green-superintendent",
   "metadata": {},
   "outputs": [],
   "source": [
    "with open(\"df_v1-2021-10-12.pickle\",\"wb\") as f:\n",
    "    df_v1 = pickle.load(f)   "
   ]
  },
  {
   "cell_type": "code",
   "execution_count": null,
   "id": "precious-crazy",
   "metadata": {},
   "outputs": [],
   "source": []
  },
  {
   "cell_type": "code",
   "execution_count": null,
   "id": "crucial-terrace",
   "metadata": {},
   "outputs": [],
   "source": []
  },
  {
   "cell_type": "code",
   "execution_count": null,
   "id": "suffering-briefs",
   "metadata": {},
   "outputs": [],
   "source": []
  },
  {
   "cell_type": "code",
   "execution_count": null,
   "id": "placed-luther",
   "metadata": {},
   "outputs": [],
   "source": []
  },
  {
   "cell_type": "code",
   "execution_count": null,
   "id": "rental-mount",
   "metadata": {},
   "outputs": [],
   "source": []
  },
  {
   "cell_type": "code",
   "execution_count": null,
   "id": "announced-indian",
   "metadata": {},
   "outputs": [],
   "source": []
  },
  {
   "cell_type": "code",
   "execution_count": null,
   "id": "spread-combining",
   "metadata": {},
   "outputs": [],
   "source": []
  },
  {
   "cell_type": "code",
   "execution_count": null,
   "id": "boring-karen",
   "metadata": {},
   "outputs": [],
   "source": [
    "üstteki ne dönüyor?"
   ]
  },
  {
   "cell_type": "code",
   "execution_count": null,
   "id": "scientific-provision",
   "metadata": {},
   "outputs": [],
   "source": []
  },
  {
   "cell_type": "code",
   "execution_count": null,
   "id": "outdoor-citizenship",
   "metadata": {},
   "outputs": [],
   "source": [
    "supplier için is_returned den return rate hesapla verilenlerle aynı mı?"
   ]
  },
  {
   "cell_type": "code",
   "execution_count": null,
   "id": "union-simulation",
   "metadata": {},
   "outputs": [],
   "source": [
    "ids = [\n",
    "'product_id',\n",
    "'supplier_id',\n",
    "'user_id',\n",
    "'order_line_item_id',\n",
    "'order_parent_id',\n",
    "'product_variant_id',\n",
    "'product_content_id',\n",
    "]\n",
    "\n",
    "drops = [\n",
    "'color_name',\n",
    "'supplier_color_name',\n",
    "'attributet_name',\n",
    "'attribute_value',\n",
    "'gender_name',\n",
    "'category_name',\n",
    "'brand_name',\n",
    "'product_name',\n",
    "'coupon_id',\n",
    "'promotion_name',\n",
    "'order_date',\n",
    "'birth_date',\n",
    "'membership_date']\n",
    "\n",
    "all_columns = [\n",
    "'is_elite_user',\n",
    "'promotion_award_value',\n",
    "'coupon_discount',\n",
    "'is_wallet_trx',\n",
    "'is_saved_card_trx',\n",
    "'ship_cost',\n",
    "'brand_id',\n",
    "'category_id',\n",
    "'gender_id',\n",
    "'color_id',\n",
    "'gender',\n",
    "'returnRate',\n",
    "'returnRate_def',\n",
    "'total_claim',\n",
    "'unresolvedclaim_percentage',\n",
    "'unresolved_percentage',\n",
    "'paid_amount',\n",
    "'discount_ratio',\n",
    "'hour_interval',\n",
    "'diff_order_memdate',\n",
    "'order_weekday',\n",
    "'order_day',\n",
    "'order_week',\n",
    "'age',\n",
    "'is_bday_close',\n",
    "'original_price',\n",
    "'discounted_price',\n",
    "'is_returned',\n",
    "'item_return_rate_x',\n",
    "'item_return_rate_y',\n",
    "'product_content_id',\n",
    "'shifted_return_rate',\n",
    "'zodiac']"
   ]
  },
  {
   "cell_type": "code",
   "execution_count": null,
   "id": "unexpected-ladder",
   "metadata": {
    "scrolled": false
   },
   "outputs": [],
   "source": [
    "all_cols = df_v1.columns"
   ]
  },
  {
   "cell_type": "code",
   "execution_count": null,
   "id": "commercial-paris",
   "metadata": {},
   "outputs": [],
   "source": [
    "len(all_columns), len(set(all_columns)), len(all_cols), len(set(all_cols))"
   ]
  },
  {
   "cell_type": "code",
   "execution_count": null,
   "id": "chief-editor",
   "metadata": {},
   "outputs": [],
   "source": [
    "set(all_columns+drops+ids).difference(set(all_cols))"
   ]
  },
  {
   "cell_type": "code",
   "execution_count": null,
   "id": "unlimited-orange",
   "metadata": {},
   "outputs": [],
   "source": [
    "set(all_cols).difference(set(all_columns+drops+ids))"
   ]
  },
  {
   "cell_type": "code",
   "execution_count": null,
   "id": "extended-portrait",
   "metadata": {},
   "outputs": [],
   "source": [
    "okay = True\n",
    "everything = False\n",
    "if not len(set(all_cols).difference(set(all_columns+drops+ids))):\n",
    "    everything = True"
   ]
  },
  {
   "cell_type": "code",
   "execution_count": null,
   "id": "artistic-profit",
   "metadata": {},
   "outputs": [],
   "source": [
    "if everything is okay:\n",
    "    print('save as csv!')"
   ]
  },
  {
   "cell_type": "code",
   "execution_count": null,
   "id": "prescribed-instrument",
   "metadata": {},
   "outputs": [],
   "source": [
    "ids_df = df_v1[ids]\n",
    "all_df = df_v1[all_columns]"
   ]
  },
  {
   "cell_type": "code",
   "execution_count": null,
   "id": "shared-somalia",
   "metadata": {},
   "outputs": [],
   "source": [
    "import pickle\n",
    "with open(\"all_df.pickle\",\"wb\") as f:\n",
    "    pickle.dump(all_df,f)\n",
    "    \n",
    "with open(\"ids_df.pickle\",\"wb\") as f:\n",
    "    pickle.dump(ids_df,f)"
   ]
  },
  {
   "cell_type": "code",
   "execution_count": null,
   "id": "structured-cleaners",
   "metadata": {},
   "outputs": [],
   "source": []
  }
 ],
 "metadata": {
  "kernelspec": {
   "display_name": "Python 3",
   "language": "python",
   "name": "python3"
  },
  "language_info": {
   "codemirror_mode": {
    "name": "ipython",
    "version": 3
   },
   "file_extension": ".py",
   "mimetype": "text/x-python",
   "name": "python",
   "nbconvert_exporter": "python",
   "pygments_lexer": "ipython3",
   "version": "3.8.5"
  }
 },
 "nbformat": 4,
 "nbformat_minor": 5
}
